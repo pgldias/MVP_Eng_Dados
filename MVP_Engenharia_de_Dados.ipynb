{
 "cells": [
  {
   "cell_type": "markdown",
   "metadata": {
    "application/vnd.databricks.v1+cell": {
     "cellMetadata": {
      "byteLimit": 2048000,
      "rowLimit": 10000
     },
     "inputWidgets": {},
     "nuid": "c522191e-519c-4d36-ae16-b43336a5ff5a",
     "showTitle": false,
     "tableResultSettingsMap": {},
     "title": ""
    }
   },
   "source": [
    "# Objetivo\n",
    "\n",
    "Este trabalho tem como objetivo aplicar práticas de engenharia de dados aprendidas no curso e constuir um pipeline completo de dados utilizando uma plataforma de nuvem. \n",
    "\n",
    "Foram selecionados dados históricos de partidas de tênis profissional, um assunto que me interessa e a partir disso foram elaboradas questões sobre as conquistas dos jogadores. \n",
    "\n",
    "Perguntas:\n",
    "1. Quantos jogadores já ganharam os 4 grand slams? (\"Career Grand Slam\")\n",
    "2. Quantos já conseguiram os 4 grand slams no mesmo ano e qual foi o ultimo ano que isso ocorreu?\n",
    "3. Que jogador permaneceu mais tempo no top 1? E no top 5?\n",
    "4. Que caracteristicas em comum tem essses jogadores?"
   ]
  },
  {
   "cell_type": "markdown",
   "metadata": {
    "application/vnd.databricks.v1+cell": {
     "cellMetadata": {
      "byteLimit": 2048000,
      "rowLimit": 10000
     },
     "inputWidgets": {},
     "nuid": "784f0599-813e-4880-92ba-1a11adb66c91",
     "showTitle": false,
     "tableResultSettingsMap": {},
     "title": ""
    }
   },
   "source": [
    "# Coleta\n",
    "\n",
    "## Coleta do dataset\n",
    "\n",
    "A coleta dos dados utilizados neste trabalho é realizada a partir do **repositório do Kaggle**, por meio da API oficial da plataforma. Para garantir uma autenticação segura e automatizada dentro do ambiente do **Databricks**, foi necessário criar um processo específico para carregar as variáveis de ambiente contendo as credenciais da API do Kaggle.\n",
    "\n",
    "Como o Databricks não consegue acessar diretamente os arquivos `.env` armazenados no DBFS de forma nativa, foi implementada uma função personalizada (`load_env_from_dbfs`) para ler e interpretar o conteúdo do arquivo `.env` como texto. Essa abordagem se mostrou eficaz para popular as variáveis de ambiente dentro da sessão ativa do notebook.\n",
    "\n",
    "Após a configuração do ambiente, o dataset **\"tennis\"** foi baixado do Kaggle e descompactado no diretório temporário `/tmp`. O arquivo principal, um banco de dados no formato **SQLite**, foi então carregado e inspecionado. As tabelas disponíveis — `matches`, `players` e `rankings` — foram extraídas utilizando consultas SQL diretas, convertidas para DataFrames do Pandas e posteriormente carregadas para o DBFS utilizando spark.\n"
   ]
  },
  {
   "cell_type": "markdown",
   "metadata": {
    "application/vnd.databricks.v1+cell": {
     "cellMetadata": {},
     "inputWidgets": {},
     "nuid": "79860aa3-e530-4fd4-ae65-9f3e5ea50fdb",
     "showTitle": false,
     "tableResultSettingsMap": {},
     "title": ""
    }
   },
   "source": [
    "## Setup do ambiente\n",
    "- Install de bibliotecas\n",
    "- Set de variaveis de ambientes do .env (Foi necessário para não deixar as credenciais do kaggle publicadas no código)."
   ]
  },
  {
   "cell_type": "code",
   "execution_count": 0,
   "metadata": {
    "application/vnd.databricks.v1+cell": {
     "cellMetadata": {
      "byteLimit": 2048000,
      "rowLimit": 10000
     },
     "inputWidgets": {},
     "nuid": "547314b8-caa9-454f-b2fd-4d41a85cd845",
     "showTitle": true,
     "tableResultSettingsMap": {},
     "title": "Imports"
    }
   },
   "outputs": [
    {
     "output_type": "stream",
     "name": "stdout",
     "output_type": "stream",
     "text": [
      "Collecting kaggle\r\n  Downloading kaggle-1.7.4.2-py3-none-any.whl (173 kB)\r\n\u001B[?25l\r\u001B[K     |██                              | 10 kB 34.5 MB/s eta 0:00:01\r\u001B[K     |███▉                            | 20 kB 8.8 MB/s eta 0:00:01\r\u001B[K     |█████▊                          | 30 kB 12.5 MB/s eta 0:00:01\r\u001B[K     |███████▋                        | 40 kB 4.6 MB/s eta 0:00:01\r\u001B[K     |█████████▌                      | 51 kB 4.7 MB/s eta 0:00:01\r\u001B[K     |███████████▍                    | 61 kB 5.5 MB/s eta 0:00:01\r\u001B[K     |█████████████▎                  | 71 kB 6.0 MB/s eta 0:00:01\r\u001B[K     |███████████████▏                | 81 kB 5.9 MB/s eta 0:00:01\r\u001B[K     |█████████████████               | 92 kB 6.6 MB/s eta 0:00:01\r\u001B[K     |███████████████████             | 102 kB 6.7 MB/s eta 0:00:01\r\u001B[K     |████████████████████▉           | 112 kB 6.7 MB/s eta 0:00:01\r\u001B[K     |██████████████████████▊         | 122 kB 6.7 MB/s eta 0:00:01\r\u001B[K     |████████████████████████▋       | 133 kB 6.7 MB/s eta 0:00:01\r\u001B[K     |██████████████████████████▌     | 143 kB 6.7 MB/s eta 0:00:01\r\u001B[K     |████████████████████████████▍   | 153 kB 6.7 MB/s eta 0:00:01\r\u001B[K     |██████████████████████████████▎ | 163 kB 6.7 MB/s eta 0:00:01\r\u001B[K     |████████████████████████████████| 173 kB 6.7 MB/s \r\n\u001B[?25hRequirement already satisfied: charset-normalizer in /databricks/python3/lib/python3.9/site-packages (from kaggle) (2.0.4)\r\nCollecting python-slugify\r\n  Downloading python_slugify-8.0.4-py2.py3-none-any.whl (10 kB)\r\nCollecting tqdm\r\n  Downloading tqdm-4.67.1-py3-none-any.whl (78 kB)\r\n\u001B[?25l\r\u001B[K     |████▏                           | 10 kB 46.8 MB/s eta 0:00:01\r\u001B[K     |████████▍                       | 20 kB 58.1 MB/s eta 0:00:01\r\u001B[K     |████████████▌                   | 30 kB 70.7 MB/s eta 0:00:01\r\u001B[K     |████████████████▊               | 40 kB 73.7 MB/s eta 0:00:01\r\u001B[K     |████████████████████▉           | 51 kB 71.8 MB/s eta 0:00:01\r\u001B[K     |█████████████████████████       | 61 kB 77.2 MB/s eta 0:00:01\r\u001B[K     |█████████████████████████████▏  | 71 kB 80.5 MB/s eta 0:00:01\r\u001B[K     |████████████████████████████████| 78 kB 6.3 MB/s \r\n\u001B[?25hRequirement already satisfied: requests in /databricks/python3/lib/python3.9/site-packages (from kaggle) (2.27.1)\r\nRequirement already satisfied: protobuf in /databricks/python3/lib/python3.9/site-packages (from kaggle) (3.19.4)\r\nRequirement already satisfied: python-dateutil>=2.5.3 in /databricks/python3/lib/python3.9/site-packages (from kaggle) (2.8.2)\r\nRequirement already satisfied: idna in /databricks/python3/lib/python3.9/site-packages (from kaggle) (3.3)\r\nCollecting text-unidecode\r\n  Downloading text_unidecode-1.3-py2.py3-none-any.whl (78 kB)\r\n\u001B[?25l\r\u001B[K     |████▏                           | 10 kB 68.0 MB/s eta 0:00:01\r\u001B[K     |████████▍                       | 20 kB 65.4 MB/s eta 0:00:01\r\u001B[K     |████████████▋                   | 30 kB 60.2 MB/s eta 0:00:01\r\u001B[K     |████████████████▊               | 40 kB 69.3 MB/s eta 0:00:01\r\u001B[K     |█████████████████████           | 51 kB 75.4 MB/s eta 0:00:01\r\u001B[K     |█████████████████████████▏      | 61 kB 83.4 MB/s eta 0:00:01\r\u001B[K     |█████████████████████████████▍  | 71 kB 64.4 MB/s eta 0:00:01\r\u001B[K     |████████████████████████████████| 78 kB 9.2 MB/s \r\n\u001B[?25hRequirement already satisfied: six>=1.10 in /databricks/python3/lib/python3.9/site-packages (from kaggle) (1.16.0)\r\nRequirement already satisfied: urllib3>=1.15.1 in /databricks/python3/lib/python3.9/site-packages (from kaggle) (1.26.9)\r\nRequirement already satisfied: setuptools>=21.0.0 in /databricks/python3/lib/python3.9/site-packages (from kaggle) (61.2.0)\r\nRequirement already satisfied: webencodings in /databricks/python3/lib/python3.9/site-packages (from kaggle) (0.5.1)\r\nRequirement already satisfied: certifi>=14.05.14 in /databricks/python3/lib/python3.9/site-packages (from kaggle) (2021.10.8)\r\nRequirement already satisfied: bleach in /databricks/python3/lib/python3.9/site-packages (from kaggle) (4.1.0)\r\nRequirement already satisfied: packaging in /databricks/python3/lib/python3.9/site-packages (from bleach->kaggle) (21.3)\r\nRequirement already satisfied: pyparsing!=3.0.5,>=2.0.2 in /databricks/python3/lib/python3.9/site-packages (from packaging->bleach->kaggle) (3.0.4)\r\nInstalling collected packages: text-unidecode, tqdm, python-slugify, kaggle\r\nSuccessfully installed kaggle-1.7.4.2 python-slugify-8.0.4 text-unidecode-1.3 tqdm-4.67.1\r\n\u001B[33mWARNING: You are using pip version 21.2.4; however, version 25.0.1 is available.\r\nYou should consider upgrading via the '/local_disk0/.ephemeral_nfs/envs/pythonEnv-cd699898-eee6-408d-a562-6c4f219649df/bin/python -m pip install --upgrade pip' command.\u001B[0m\r\nCollecting python-dotenv\r\n  Downloading python_dotenv-1.1.0-py3-none-any.whl (20 kB)\r\nInstalling collected packages: python-dotenv\r\nSuccessfully installed python-dotenv-1.1.0\r\n\u001B[33mWARNING: You are using pip version 21.2.4; however, version 25.0.1 is available.\r\nYou should consider upgrading via the '/local_disk0/.ephemeral_nfs/envs/pythonEnv-cd699898-eee6-408d-a562-6c4f219649df/bin/python -m pip install --upgrade pip' command.\u001B[0m\r\n"
     ]
    },
    {
     "output_type": "display_data",
     "data": {
      "application/vnd.databricks.v1+bamboolib_hint": "{\"pd.DataFrames\": [], \"version\": \"0.0.1\"}",
      "text/plain": []
     },
     "metadata": {},
     "output_type": "display_data"
    }
   ],
   "source": [
    "# Instalar a biblioteca do Kaggle (necessário sempre que reinicia o cluster, alternativa seria botar um initscript no cluster)\n",
    "!pip install kaggle\n",
    "!pip install python-dotenv\n",
    "\n",
    "import pandas as pd\n",
    "import io\n",
    "import requests\n",
    "import sqlite3\n",
    "import os\n",
    "from dotenv import load_dotenv\n",
    "from datetime import datetime, timedelta\n",
    "\n"
   ]
  },
  {
   "cell_type": "code",
   "execution_count": 0,
   "metadata": {
    "application/vnd.databricks.v1+cell": {
     "cellMetadata": {
      "byteLimit": 2048000,
      "rowLimit": 10000
     },
     "inputWidgets": {},
     "nuid": "2ab3a180-2af8-417f-b416-ceefd6616cdb",
     "showTitle": false,
     "tableResultSettingsMap": {},
     "title": ""
    }
   },
   "outputs": [],
   "source": [
    "# Função para conseguir acessar o .env, ela lê o conteúdo do arquivo como uma string inteira, diretamente da interface DBFS da Databricks\n",
    "# Foi a unica solução encontrada uma vez que o databricks não conseguiu ler diretamente o arquivo do DBFS.\n",
    "\n",
    "def load_env_from_dbfs(path: str):\n",
    "    env_text = dbutils.fs.head(path)\n",
    "    for line in io.StringIO(env_text):\n",
    "        if \"=\" in line:\n",
    "            key, value = line.strip().split(\"=\", 1)\n",
    "            os.environ[key] = value\n",
    "\n",
    "load_env_from_dbfs(\"dbfs:/FileStore/env/.env\")\n",
    "\n",
    "# Caminho local para acessar arquivo que contem as variaveis de o DBFS\n",
    "env_path = \"/dbfs/FileStore/env/.env\"\n",
    "\n",
    "# Carrega as variáveis de ambiente\n",
    "load_dotenv(dotenv_path=env_path, override=True)\n",
    "\n",
    "# Defina suas credenciais do Kaggle (caso queira rodar coloque explicitamente no codigo ou carregue um arquivo .env no dbfs e ajuste o caminho acima)\n",
    "os.environ[\"KAGGLE_USERNAME\"] = os.getenv(\"KAGGLE_USERNAME\")             # Coloque o seu nome de usuário do Kaggle aqui \n",
    "os.environ[\"KAGGLE_KEY\"] = os.getenv(\"KAGGLE_KEY\")                       # Coloque a sua chave API do Kaggle aqui\n",
    "\n"
   ]
  },
  {
   "cell_type": "code",
   "execution_count": 0,
   "metadata": {
    "application/vnd.databricks.v1+cell": {
     "cellMetadata": {
      "byteLimit": 2048000,
      "rowLimit": 10000
     },
     "inputWidgets": {},
     "nuid": "76aebc25-eb73-4897-b779-59d75a894ea8",
     "showTitle": true,
     "tableResultSettingsMap": {},
     "title": "Baixando o dataset"
    }
   },
   "outputs": [
    {
     "output_type": "stream",
     "name": "stdout",
     "output_type": "stream",
     "text": [
      "Dataset URL: https://www.kaggle.com/datasets/guillemservera/tennis\r\nLicense(s): Attribution-NonCommercial 4.0 International (CC BY-NC 4.0)\r\nOut[62]: ['hsperfdata_root',\n 'driver-env.sh',\n 'systemd-private-1b1b47cc845b43759a67a2c95d8db58a-systemd-resolved.service-9SoJFg',\n '.ICE-unix',\n '.X11-unix',\n 'chauffeur-env.sh',\n 'chauffeur-daemon-params',\n 'systemd-private-1b1b47cc845b43759a67a2c95d8db58a-apache2.service-BDKDqh',\n 'tmp.XmdLHBNBJ3',\n 'driver-daemon-params',\n 'custom-spark.conf',\n 'database.sqlite',\n 'chauffeur-daemon.pid',\n 'tennis_atp',\n 'RtmpLHDb5M',\n '.Test-unix',\n 'Rserv',\n '.XIM-unix',\n 'systemd-private-1b1b47cc845b43759a67a2c95d8db58a-systemd-logind.service-WjlJRe',\n 'driver-daemon.pid',\n '.font-unix',\n 'systemd-private-1b1b47cc845b43759a67a2c95d8db58a-ntp.service-cS4vVg']"
     ]
    }
   ],
   "source": [
    "# Baixar o dataset do Kaggle\n",
    "!kaggle datasets download -d guillemservera/tennis -p /tmp --unzip\n",
    "\n",
    "# Listar arquivos baixados para verificar\n",
    "os.listdir('/tmp')\n"
   ]
  },
  {
   "cell_type": "code",
   "execution_count": 0,
   "metadata": {
    "application/vnd.databricks.v1+cell": {
     "cellMetadata": {
      "byteLimit": 2048000,
      "rowLimit": 10000
     },
     "inputWidgets": {},
     "nuid": "5fc97623-77cd-4019-920d-893bd8940223",
     "showTitle": true,
     "tableResultSettingsMap": {},
     "title": "Verificando as tabelas"
    }
   },
   "outputs": [
    {
     "output_type": "stream",
     "name": "stdout",
     "output_type": "stream",
     "text": [
      "Tabelas disponíveis:        name\n0   matches\n1   players\n2  rankings\n"
     ]
    }
   ],
   "source": [
    "\n",
    "# Definir o caminho do arquivo baixado\n",
    "file_path = \"/tmp/database.sqlite\"  \n",
    "\n",
    "# Conectar ao banco de dados SQLite\n",
    "conn = sqlite3.connect(file_path)\n",
    "\n",
    "# Listar tabelas disponíveis no banco de dados\n",
    "query = \"SELECT name FROM sqlite_master WHERE type='table';\"\n",
    "tables = pd.read_sql(query, conn)\n",
    "print(\"Tabelas disponíveis:\", tables)\n"
   ]
  },
  {
   "cell_type": "code",
   "execution_count": 0,
   "metadata": {
    "application/vnd.databricks.v1+cell": {
     "cellMetadata": {
      "byteLimit": 2048000,
      "rowLimit": 10000
     },
     "inputWidgets": {},
     "nuid": "ad8befc0-6aa3-4fa4-bda8-6809a48fcbec",
     "showTitle": true,
     "tableResultSettingsMap": {},
     "title": "Datasets em pandas"
    }
   },
   "outputs": [],
   "source": [
    "# \n",
    "df_matches = pd.read_sql(\"SELECT * FROM matches\", conn)\n",
    "df_players = pd.read_sql(\"SELECT * FROM players\", conn)\n",
    "df_rankings = pd.read_sql(\"SELECT * FROM rankings\", conn)"
   ]
  },
  {
   "cell_type": "code",
   "execution_count": 0,
   "metadata": {
    "application/vnd.databricks.v1+cell": {
     "cellMetadata": {
      "byteLimit": 2048000,
      "rowLimit": 10000
     },
     "inputWidgets": {},
     "nuid": "4caf9567-d757-4a7c-94f7-88b873868db8",
     "showTitle": false,
     "tableResultSettingsMap": {},
     "title": ""
    }
   },
   "outputs": [
    {
     "output_type": "stream",
     "name": "stdout",
     "output_type": "stream",
     "text": [
      "<class 'pandas.core.frame.DataFrame'>\nRangeIndex: 947720 entries, 0 to 947719\nData columns (total 81 columns):\n #   Column               Non-Null Count   Dtype  \n---  ------               --------------   -----  \n 0   tourney_id           945297 non-null  object \n 1   tourney_name         947720 non-null  object \n 2   surface              941327 non-null  object \n 3   draw_size            946885 non-null  object \n 4   tourney_level        947720 non-null  object \n 5   tourney_date         944748 non-null  float64\n 6   match_num            947720 non-null  object \n 7   winner_id            921321 non-null  float64\n 8   winner_seed          404551 non-null  object \n 9   winner_entry         175563 non-null  object \n 10  winner_name          921321 non-null  object \n 11  winner_hand          901856 non-null  object \n 12  winner_ht            554864 non-null  float64\n 13  winner_ioc           921195 non-null  object \n 14  winner_age           907669 non-null  float64\n 15  loser_id             921321 non-null  float64\n 16  loser_seed           215535 non-null  object \n 17  loser_entry          296140 non-null  object \n 18  loser_name           921321 non-null  object \n 19  loser_hand           900260 non-null  object \n 20  loser_ht             444479 non-null  float64\n 21  loser_ioc            921142 non-null  object \n 22  loser_age            891526 non-null  float64\n 23  score                944195 non-null  object \n 24  best_of              947714 non-null  object \n 25  round                947706 non-null  object \n 26  minutes              199326 non-null  float64\n 27  w_ace                205858 non-null  float64\n 28  w_df                 205857 non-null  float64\n 29  w_svpt               205857 non-null  float64\n 30  w_1stIn              205857 non-null  float64\n 31  w_1stWon             205857 non-null  float64\n 32  w_2ndWon             205857 non-null  float64\n 33  w_SvGms              205856 non-null  float64\n 34  w_bpSaved            205857 non-null  float64\n 35  w_bpFaced            205857 non-null  float64\n 36  l_ace                205857 non-null  float64\n 37  l_df                 205858 non-null  float64\n 38  l_svpt               205857 non-null  float64\n 39  l_1stIn              205857 non-null  float64\n 40  l_1stWon             205857 non-null  float64\n 41  l_2ndWon             205857 non-null  float64\n 42  l_SvGms              205856 non-null  float64\n 43  l_bpSaved            205858 non-null  float64\n 44  l_bpFaced            205858 non-null  float64\n 45  winner_rank          813485 non-null  float64\n 46  winner_rank_points   745187 non-null  float64\n 47  loser_rank           746202 non-null  float64\n 48  loser_rank_points    686508 non-null  float64\n 49  winner1_id           26399 non-null   float64\n 50  winner2_id           19132 non-null   object \n 51  loser1_id            26388 non-null   object \n 52  loser2_id            16464 non-null   float64\n 53  winner1_name         26269 non-null   object \n 54  winner1_hand         26117 non-null   float64\n 55  winner1_ht           26274 non-null   object \n 56  winner1_ioc          26273 non-null   float64\n 57  winner1_age          26075 non-null   object \n 58  winner2_name         26075 non-null   object \n 59  winner2_hand         26016 non-null   float64\n 60  winner2_ht           26118 non-null   object \n 61  winner2_ioc          18135 non-null   float64\n 62  winner2_age          18270 non-null   object \n 63  loser1_name          18270 non-null   object \n 64  loser1_hand          17838 non-null   float64\n 65  loser1_ht            18270 non-null   object \n 66  loser1_ioc           18265 non-null   float64\n 67  loser1_age           18264 non-null   object \n 68  loser2_name          18264 non-null   object \n 69  loser2_hand          17808 non-null   float64\n 70  loser2_ht            18264 non-null   object \n 71  loser2_ioc           18252 non-null   float64\n 72  loser2_age           18042 non-null   float64\n 73  winner1_rank         18042 non-null   float64\n 74  winner1_rank_points  18031 non-null   float64\n 75  winner2_rank         18031 non-null   float64\n 76  winner2_rank_points  17955 non-null   float64\n 77  loser1_rank          17955 non-null   float64\n 78  loser1_rank_points   17944 non-null   float64\n 79  loser2_rank          17944 non-null   float64\n 80  loser2_rank_points   0 non-null       object \ndtypes: float64(48), object(33)\nmemory usage: 585.7+ MB\n"
     ]
    }
   ],
   "source": [
    "df_matches.info()"
   ]
  },
  {
   "cell_type": "code",
   "execution_count": 0,
   "metadata": {
    "application/vnd.databricks.v1+cell": {
     "cellMetadata": {
      "byteLimit": 2048000,
      "rowLimit": 10000
     },
     "inputWidgets": {},
     "nuid": "104e4560-7b56-469c-9674-0c8e63e8b31e",
     "showTitle": false,
     "tableResultSettingsMap": {},
     "title": ""
    }
   },
   "outputs": [],
   "source": [
    "# Excluindo apenas essa coluna pois de cara todos seus valores são nulos (estava dando problema no SELECT)\n",
    "df_matches.drop(\"loser2_rank_points\", axis=1, inplace=True)"
   ]
  },
  {
   "cell_type": "markdown",
   "metadata": {
    "application/vnd.databricks.v1+cell": {
     "cellMetadata": {},
     "inputWidgets": {},
     "nuid": "f26079e2-b2ee-449c-a89a-82c0dd3e96a7",
     "showTitle": false,
     "tableResultSettingsMap": {},
     "title": ""
    }
   },
   "source": [
    "## Camada Raw/Bronze\n",
    "- Captura e persistência dos dados crus (raw)\n",
    "- Sem transformação, schema original, histórico\n",
    "\n",
    "Depois de criadas as tabelas dentro do database no DBFS, basta rodar o código do notebook auxiliar para trazer para memória do hive_metastore."
   ]
  },
  {
   "cell_type": "code",
   "execution_count": 0,
   "metadata": {
    "application/vnd.databricks.v1+cell": {
     "cellMetadata": {
      "byteLimit": 2048000,
      "implicitDf": true,
      "rowLimit": 10000
     },
     "inputWidgets": {},
     "nuid": "6a059ffb-ca33-4e8d-98ec-eb7fc1705775",
     "showTitle": false,
     "tableResultSettingsMap": {},
     "title": ""
    }
   },
   "outputs": [],
   "source": [
    "# %sql DROP DATABASE raw CASCADE"
   ]
  },
  {
   "cell_type": "code",
   "execution_count": 0,
   "metadata": {
    "application/vnd.databricks.v1+cell": {
     "cellMetadata": {
      "byteLimit": 2048000,
      "implicitDf": true,
      "rowLimit": 10000
     },
     "inputWidgets": {},
     "nuid": "14c08ea3-547e-48ef-81fe-5ae435f3b1eb",
     "showTitle": true,
     "tableResultSettingsMap": {},
     "title": "Criação do database"
    }
   },
   "outputs": [],
   "source": [
    "%sql\n",
    "--Utilizado apenas a primeira vez para criação do database, depois carregado do DBFS\n",
    "CREATE DATABASE raw;"
   ]
  },
  {
   "cell_type": "code",
   "execution_count": 0,
   "metadata": {
    "application/vnd.databricks.v1+cell": {
     "cellMetadata": {
      "byteLimit": 2048000,
      "rowLimit": 10000
     },
     "inputWidgets": {},
     "nuid": "abe98715-155a-49ca-af4e-039f8037ee00",
     "showTitle": true,
     "tableResultSettingsMap": {},
     "title": "Criação das tabelas"
    }
   },
   "outputs": [],
   "source": [
    "# Necessário criar as tabelas apenas uma vez, depois de criadas no DBFS rodar o código do notebook auxiliar, para trazer para memória\n",
    "\n",
    "\n",
    "matches_spark_df = spark.createDataFrame(df_matches)\n",
    "matches_spark_df.write.mode(\"overwrite\").saveAsTable(\"raw.matches\")\n",
    "\n",
    "players_spark_df = spark.createDataFrame(df_players)\n",
    "players_spark_df.write.mode(\"overwrite\").saveAsTable(\"raw.players\")\n",
    "\n",
    "rankings_spark_df = spark.createDataFrame(df_rankings)\n",
    "rankings_spark_df.write.mode(\"overwrite\").saveAsTable(\"raw.rankings\")\n"
   ]
  },
  {
   "cell_type": "code",
   "execution_count": 0,
   "metadata": {
    "application/vnd.databricks.v1+cell": {
     "cellMetadata": {
      "byteLimit": 2048000,
      "implicitDf": true,
      "rowLimit": 10000
     },
     "inputWidgets": {},
     "nuid": "51e390be-81e2-42c2-ba99-1e9756fdb621",
     "showTitle": false,
     "tableResultSettingsMap": {},
     "title": ""
    }
   },
   "outputs": [
    {
     "output_type": "display_data",
     "data": {
      "text/html": [
       "<style scoped>\n",
       "  .table-result-container {\n",
       "    max-height: 300px;\n",
       "    overflow: auto;\n",
       "  }\n",
       "  table, th, td {\n",
       "    border: 1px solid black;\n",
       "    border-collapse: collapse;\n",
       "  }\n",
       "  th, td {\n",
       "    padding: 5px;\n",
       "  }\n",
       "  th {\n",
       "    text-align: left;\n",
       "  }\n",
       "</style><div class='table-result-container'><table class='table-result'><thead style='background-color: white'><tr><th>tourney_id</th><th>tourney_name</th><th>surface</th><th>draw_size</th><th>tourney_level</th><th>tourney_date</th><th>match_num</th><th>winner_id</th><th>winner_seed</th><th>winner_entry</th><th>winner_name</th><th>winner_hand</th><th>winner_ht</th><th>winner_ioc</th><th>winner_age</th><th>loser_id</th><th>loser_seed</th><th>loser_entry</th><th>loser_name</th><th>loser_hand</th><th>loser_ht</th><th>loser_ioc</th><th>loser_age</th><th>score</th><th>best_of</th><th>round</th><th>minutes</th><th>w_ace</th><th>w_df</th><th>w_svpt</th><th>w_1stIn</th><th>w_1stWon</th><th>w_2ndWon</th><th>w_SvGms</th><th>w_bpSaved</th><th>w_bpFaced</th><th>l_ace</th><th>l_df</th><th>l_svpt</th><th>l_1stIn</th><th>l_1stWon</th><th>l_2ndWon</th><th>l_SvGms</th><th>l_bpSaved</th><th>l_bpFaced</th><th>winner_rank</th><th>winner_rank_points</th><th>loser_rank</th><th>loser_rank_points</th><th>winner1_id</th><th>winner2_id</th><th>loser1_id</th><th>loser2_id</th><th>winner1_name</th><th>winner1_hand</th><th>winner1_ht</th><th>winner1_ioc</th><th>winner1_age</th><th>winner2_name</th><th>winner2_hand</th><th>winner2_ht</th><th>winner2_ioc</th><th>winner2_age</th><th>loser1_name</th><th>loser1_hand</th><th>loser1_ht</th><th>loser1_ioc</th><th>loser1_age</th><th>loser2_name</th><th>loser2_hand</th><th>loser2_ht</th><th>loser2_ioc</th><th>loser2_age</th><th>winner1_rank</th><th>winner1_rank_points</th><th>winner2_rank</th><th>winner2_rank_points</th><th>loser1_rank</th><th>loser1_rank_points</th><th>loser2_rank</th></tr></thead><tbody><tr><td>2018-M020</td><td>Brisbane</td><td>Hard</td><td>32</td><td>A</td><td>2.0180101E7</td><td>271</td><td>105992.0</td><td>null</td><td>null</td><td>Ryan Harrison</td><td>R</td><td>183.0</td><td>USA</td><td>25.6</td><td>104919.0</td><td>null</td><td>null</td><td>Leonardo Mayer</td><td>R</td><td>188.0</td><td>ARG</td><td>30.6</td><td>6-4 3-6 6-2</td><td>3</td><td>R32</td><td>123.0</td><td>9.0</td><td>2.0</td><td>82.0</td><td>49.0</td><td>39.0</td><td>20.0</td><td>13.0</td><td>8.0</td><td>9.0</td><td>10.0</td><td>3.0</td><td>80.0</td><td>47.0</td><td>33.0</td><td>19.0</td><td>14.0</td><td>1.0</td><td>4.0</td><td>47.0</td><td>1010.0</td><td>52.0</td><td>909.0</td><td>null</td><td>null</td><td>null</td><td>null</td><td>null</td><td>null</td><td>null</td><td>null</td><td>null</td><td>null</td><td>null</td><td>null</td><td>null</td><td>null</td><td>null</td><td>null</td><td>null</td><td>null</td><td>null</td><td>null</td><td>null</td><td>null</td><td>null</td><td>null</td><td>null</td><td>null</td><td>null</td><td>null</td><td>null</td><td>null</td><td>null</td></tr><tr><td>2018-M020</td><td>Brisbane</td><td>Hard</td><td>32</td><td>A</td><td>2.0180101E7</td><td>272</td><td>111577.0</td><td>null</td><td>null</td><td>Jared Donaldson</td><td>R</td><td>188.0</td><td>USA</td><td>21.2</td><td>111442.0</td><td>null</td><td>WC</td><td>Jordan Thompson</td><td>R</td><td>183.0</td><td>AUS</td><td>23.7</td><td>6-2 6-4</td><td>3</td><td>R32</td><td>90.0</td><td>5.0</td><td>3.0</td><td>58.0</td><td>32.0</td><td>25.0</td><td>14.0</td><td>9.0</td><td>4.0</td><td>5.0</td><td>3.0</td><td>5.0</td><td>62.0</td><td>41.0</td><td>25.0</td><td>7.0</td><td>9.0</td><td>7.0</td><td>11.0</td><td>54.0</td><td>890.0</td><td>94.0</td><td>593.0</td><td>null</td><td>null</td><td>null</td><td>null</td><td>null</td><td>null</td><td>null</td><td>null</td><td>null</td><td>null</td><td>null</td><td>null</td><td>null</td><td>null</td><td>null</td><td>null</td><td>null</td><td>null</td><td>null</td><td>null</td><td>null</td><td>null</td><td>null</td><td>null</td><td>null</td><td>null</td><td>null</td><td>null</td><td>null</td><td>null</td><td>null</td></tr><tr><td>2018-M020</td><td>Brisbane</td><td>Hard</td><td>32</td><td>A</td><td>2.0180101E7</td><td>273</td><td>104797.0</td><td>null</td><td>null</td><td>Denis Istomin</td><td>R</td><td>188.0</td><td>UZB</td><td>31.3</td><td>106000.0</td><td>7.0</td><td>null</td><td>Damir Dzumhur</td><td>R</td><td>172.0</td><td>BIH</td><td>25.6</td><td>6-7(4) 6-3 6-2</td><td>3</td><td>R32</td><td>145.0</td><td>7.0</td><td>0.0</td><td>94.0</td><td>66.0</td><td>48.0</td><td>12.0</td><td>14.0</td><td>9.0</td><td>11.0</td><td>8.0</td><td>6.0</td><td>120.0</td><td>53.0</td><td>37.0</td><td>29.0</td><td>15.0</td><td>10.0</td><td>16.0</td><td>63.0</td><td>809.0</td><td>30.0</td><td>1391.0</td><td>null</td><td>null</td><td>null</td><td>null</td><td>null</td><td>null</td><td>null</td><td>null</td><td>null</td><td>null</td><td>null</td><td>null</td><td>null</td><td>null</td><td>null</td><td>null</td><td>null</td><td>null</td><td>null</td><td>null</td><td>null</td><td>null</td><td>null</td><td>null</td><td>null</td><td>null</td><td>null</td><td>null</td><td>null</td><td>null</td><td>null</td></tr><tr><td>2018-M020</td><td>Brisbane</td><td>Hard</td><td>32</td><td>A</td><td>2.0180101E7</td><td>275</td><td>200282.0</td><td>null</td><td>WC</td><td>Alex De Minaur</td><td>R</td><td>183.0</td><td>AUS</td><td>18.8</td><td>105449.0</td><td>null</td><td>null</td><td>Steve Johnson</td><td>R</td><td>188.0</td><td>USA</td><td>28.0</td><td>7-6(7) 6-4</td><td>3</td><td>R32</td><td>104.0</td><td>9.0</td><td>3.0</td><td>66.0</td><td>37.0</td><td>32.0</td><td>17.0</td><td>11.0</td><td>2.0</td><td>3.0</td><td>6.0</td><td>2.0</td><td>80.0</td><td>43.0</td><td>33.0</td><td>17.0</td><td>11.0</td><td>4.0</td><td>6.0</td><td>208.0</td><td>245.0</td><td>44.0</td><td>1055.0</td><td>null</td><td>null</td><td>null</td><td>null</td><td>null</td><td>null</td><td>null</td><td>null</td><td>null</td><td>null</td><td>null</td><td>null</td><td>null</td><td>null</td><td>null</td><td>null</td><td>null</td><td>null</td><td>null</td><td>null</td><td>null</td><td>null</td><td>null</td><td>null</td><td>null</td><td>null</td><td>null</td><td>null</td><td>null</td><td>null</td><td>null</td></tr><tr><td>2018-M020</td><td>Brisbane</td><td>Hard</td><td>32</td><td>A</td><td>2.0180101E7</td><td>276</td><td>111581.0</td><td>null</td><td>Q</td><td>Michael Mmoh</td><td>R</td><td>188.0</td><td>USA</td><td>19.9</td><td>105643.0</td><td>null</td><td>null</td><td>Federico Delbonis</td><td>L</td><td>190.0</td><td>ARG</td><td>27.2</td><td>6-3 6-4</td><td>3</td><td>R32</td><td>69.0</td><td>5.0</td><td>4.0</td><td>55.0</td><td>38.0</td><td>32.0</td><td>11.0</td><td>10.0</td><td>3.0</td><td>3.0</td><td>4.0</td><td>0.0</td><td>45.0</td><td>35.0</td><td>28.0</td><td>5.0</td><td>9.0</td><td>0.0</td><td>2.0</td><td>175.0</td><td>299.0</td><td>68.0</td><td>755.0</td><td>null</td><td>null</td><td>null</td><td>null</td><td>null</td><td>null</td><td>null</td><td>null</td><td>null</td><td>null</td><td>null</td><td>null</td><td>null</td><td>null</td><td>null</td><td>null</td><td>null</td><td>null</td><td>null</td><td>null</td><td>null</td><td>null</td><td>null</td><td>null</td><td>null</td><td>null</td><td>null</td><td>null</td><td>null</td><td>null</td><td>null</td></tr><tr><td>2018-M020</td><td>Brisbane</td><td>Hard</td><td>32</td><td>A</td><td>2.0180101E7</td><td>277</td><td>104999.0</td><td>8.0</td><td>null</td><td>Mischa Zverev</td><td>L</td><td>190.0</td><td>GER</td><td>30.3</td><td>105441.0</td><td>null</td><td>Q</td><td>John Patrick Smith</td><td>L</td><td>188.0</td><td>AUS</td><td>28.9</td><td>6-4 7-5</td><td>3</td><td>R32</td><td>88.0</td><td>4.0</td><td>1.0</td><td>66.0</td><td>51.0</td><td>35.0</td><td>6.0</td><td>11.0</td><td>3.0</td><td>6.0</td><td>4.0</td><td>0.0</td><td>69.0</td><td>51.0</td><td>27.0</td><td>8.0</td><td>11.0</td><td>1.0</td><td>6.0</td><td>33.0</td><td>1302.0</td><td>218.0</td><td>235.0</td><td>null</td><td>null</td><td>null</td><td>null</td><td>null</td><td>null</td><td>null</td><td>null</td><td>null</td><td>null</td><td>null</td><td>null</td><td>null</td><td>null</td><td>null</td><td>null</td><td>null</td><td>null</td><td>null</td><td>null</td><td>null</td><td>null</td><td>null</td><td>null</td><td>null</td><td>null</td><td>null</td><td>null</td><td>null</td><td>null</td><td>null</td></tr><tr><td>2018-M020</td><td>Brisbane</td><td>Hard</td><td>32</td><td>A</td><td>2.0180101E7</td><td>278</td><td>105238.0</td><td>null</td><td>null</td><td>Alexandr Dolgopolov</td><td>R</td><td>180.0</td><td>UKR</td><td>29.1</td><td>106043.0</td><td>6.0</td><td>null</td><td>Diego Schwartzman</td><td>R</td><td>170.0</td><td>ARG</td><td>25.3</td><td>6-4 7-6(3)</td><td>3</td><td>R32</td><td>93.0</td><td>6.0</td><td>4.0</td><td>69.0</td><td>40.0</td><td>32.0</td><td>16.0</td><td>11.0</td><td>3.0</td><td>4.0</td><td>1.0</td><td>2.0</td><td>70.0</td><td>34.0</td><td>22.0</td><td>20.0</td><td>11.0</td><td>1.0</td><td>3.0</td><td>38.0</td><td>1231.0</td><td>26.0</td><td>1675.0</td><td>null</td><td>null</td><td>null</td><td>null</td><td>null</td><td>null</td><td>null</td><td>null</td><td>null</td><td>null</td><td>null</td><td>null</td><td>null</td><td>null</td><td>null</td><td>null</td><td>null</td><td>null</td><td>null</td><td>null</td><td>null</td><td>null</td><td>null</td><td>null</td><td>null</td><td>null</td><td>null</td><td>null</td><td>null</td><td>null</td><td>null</td></tr><tr><td>2018-M020</td><td>Brisbane</td><td>Hard</td><td>32</td><td>A</td><td>2.0180101E7</td><td>279</td><td>104547.0</td><td>null</td><td>null</td><td>Horacio Zeballos</td><td>L</td><td>188.0</td><td>ARG</td><td>32.6</td><td>124014.0</td><td>null</td><td>Q</td><td>Ernesto Escobedo</td><td>R</td><td>185.0</td><td>USA</td><td>21.4</td><td>6-3 6-4</td><td>3</td><td>R32</td><td>72.0</td><td>12.0</td><td>3.0</td><td>57.0</td><td>37.0</td><td>31.0</td><td>11.0</td><td>10.0</td><td>1.0</td><td>1.0</td><td>9.0</td><td>0.0</td><td>51.0</td><td>32.0</td><td>25.0</td><td>10.0</td><td>9.0</td><td>4.0</td><td>6.0</td><td>66.0</td><td>768.0</td><td>120.0</td><td>498.0</td><td>null</td><td>null</td><td>null</td><td>null</td><td>null</td><td>null</td><td>null</td><td>null</td><td>null</td><td>null</td><td>null</td><td>null</td><td>null</td><td>null</td><td>null</td><td>null</td><td>null</td><td>null</td><td>null</td><td>null</td><td>null</td><td>null</td><td>null</td><td>null</td><td>null</td><td>null</td><td>null</td><td>null</td><td>null</td><td>null</td><td>null</td></tr><tr><td>2018-M020</td><td>Brisbane</td><td>Hard</td><td>32</td><td>A</td><td>2.0180101E7</td><td>280</td><td>105051.0</td><td>null</td><td>null</td><td>Matthew Ebden</td><td>R</td><td>188.0</td><td>AUS</td><td>30.0</td><td>126207.0</td><td>null</td><td>null</td><td>Frances Tiafoe</td><td>R</td><td>188.0</td><td>USA</td><td>19.9</td><td>6-3 6-2</td><td>3</td><td>R32</td><td>59.0</td><td>7.0</td><td>1.0</td><td>48.0</td><td>32.0</td><td>23.0</td><td>11.0</td><td>9.0</td><td>2.0</td><td>3.0</td><td>4.0</td><td>4.0</td><td>46.0</td><td>25.0</td><td>18.0</td><td>6.0</td><td>8.0</td><td>1.0</td><td>5.0</td><td>76.0</td><td>670.0</td><td>79.0</td><td>662.0</td><td>null</td><td>null</td><td>null</td><td>null</td><td>null</td><td>null</td><td>null</td><td>null</td><td>null</td><td>null</td><td>null</td><td>null</td><td>null</td><td>null</td><td>null</td><td>null</td><td>null</td><td>null</td><td>null</td><td>null</td><td>null</td><td>null</td><td>null</td><td>null</td><td>null</td><td>null</td><td>null</td><td>null</td><td>null</td><td>null</td><td>null</td></tr><tr><td>2018-M020</td><td>Brisbane</td><td>Hard</td><td>32</td><td>A</td><td>2.0180101E7</td><td>282</td><td>111202.0</td><td>null</td><td>null</td><td>Hyeon Chung</td><td>R</td><td>188.0</td><td>KOR</td><td>21.6</td><td>104180.0</td><td>5.0</td><td>null</td><td>Gilles Muller</td><td>L</td><td>193.0</td><td>LUX</td><td>34.6</td><td>6-3 7-6(1)</td><td>3</td><td>R32</td><td>99.0</td><td>7.0</td><td>4.0</td><td>64.0</td><td>35.0</td><td>29.0</td><td>17.0</td><td>10.0</td><td>2.0</td><td>2.0</td><td>19.0</td><td>5.0</td><td>68.0</td><td>40.0</td><td>33.0</td><td>10.0</td><td>11.0</td><td>3.0</td><td>5.0</td><td>58.0</td><td>844.0</td><td>25.0</td><td>1695.0</td><td>null</td><td>null</td><td>null</td><td>null</td><td>null</td><td>null</td><td>null</td><td>null</td><td>null</td><td>null</td><td>null</td><td>null</td><td>null</td><td>null</td><td>null</td><td>null</td><td>null</td><td>null</td><td>null</td><td>null</td><td>null</td><td>null</td><td>null</td><td>null</td><td>null</td><td>null</td><td>null</td><td>null</td><td>null</td><td>null</td><td>null</td></tr></tbody></table></div>"
      ]
     },
     "metadata": {
      "application/vnd.databricks.v1+output": {
       "addedWidgets": {},
       "aggData": [],
       "aggError": "",
       "aggOverflow": false,
       "aggSchema": [],
       "aggSeriesLimitReached": false,
       "aggType": "",
       "arguments": {},
       "columnCustomDisplayInfos": {},
       "data": [
        [
         "2018-M020",
         "Brisbane",
         "Hard",
         "32",
         "A",
         2.0180101E7,
         "271",
         105992.0,
         null,
         null,
         "Ryan Harrison",
         "R",
         183.0,
         "USA",
         25.6,
         104919.0,
         null,
         null,
         "Leonardo Mayer",
         "R",
         188.0,
         "ARG",
         30.6,
         "6-4 3-6 6-2",
         "3",
         "R32",
         123.0,
         9.0,
         2.0,
         82.0,
         49.0,
         39.0,
         20.0,
         13.0,
         8.0,
         9.0,
         10.0,
         3.0,
         80.0,
         47.0,
         33.0,
         19.0,
         14.0,
         1.0,
         4.0,
         47.0,
         1010.0,
         52.0,
         909.0,
         null,
         null,
         null,
         null,
         null,
         null,
         null,
         null,
         null,
         null,
         null,
         null,
         null,
         null,
         null,
         null,
         null,
         null,
         null,
         null,
         null,
         null,
         null,
         null,
         null,
         null,
         null,
         null,
         null,
         null,
         null
        ],
        [
         "2018-M020",
         "Brisbane",
         "Hard",
         "32",
         "A",
         2.0180101E7,
         "272",
         111577.0,
         null,
         null,
         "Jared Donaldson",
         "R",
         188.0,
         "USA",
         21.2,
         111442.0,
         null,
         "WC",
         "Jordan Thompson",
         "R",
         183.0,
         "AUS",
         23.7,
         "6-2 6-4",
         "3",
         "R32",
         90.0,
         5.0,
         3.0,
         58.0,
         32.0,
         25.0,
         14.0,
         9.0,
         4.0,
         5.0,
         3.0,
         5.0,
         62.0,
         41.0,
         25.0,
         7.0,
         9.0,
         7.0,
         11.0,
         54.0,
         890.0,
         94.0,
         593.0,
         null,
         null,
         null,
         null,
         null,
         null,
         null,
         null,
         null,
         null,
         null,
         null,
         null,
         null,
         null,
         null,
         null,
         null,
         null,
         null,
         null,
         null,
         null,
         null,
         null,
         null,
         null,
         null,
         null,
         null,
         null
        ],
        [
         "2018-M020",
         "Brisbane",
         "Hard",
         "32",
         "A",
         2.0180101E7,
         "273",
         104797.0,
         null,
         null,
         "Denis Istomin",
         "R",
         188.0,
         "UZB",
         31.3,
         106000.0,
         "7.0",
         null,
         "Damir Dzumhur",
         "R",
         172.0,
         "BIH",
         25.6,
         "6-7(4) 6-3 6-2",
         "3",
         "R32",
         145.0,
         7.0,
         0.0,
         94.0,
         66.0,
         48.0,
         12.0,
         14.0,
         9.0,
         11.0,
         8.0,
         6.0,
         120.0,
         53.0,
         37.0,
         29.0,
         15.0,
         10.0,
         16.0,
         63.0,
         809.0,
         30.0,
         1391.0,
         null,
         null,
         null,
         null,
         null,
         null,
         null,
         null,
         null,
         null,
         null,
         null,
         null,
         null,
         null,
         null,
         null,
         null,
         null,
         null,
         null,
         null,
         null,
         null,
         null,
         null,
         null,
         null,
         null,
         null,
         null
        ],
        [
         "2018-M020",
         "Brisbane",
         "Hard",
         "32",
         "A",
         2.0180101E7,
         "275",
         200282.0,
         null,
         "WC",
         "Alex De Minaur",
         "R",
         183.0,
         "AUS",
         18.8,
         105449.0,
         null,
         null,
         "Steve Johnson",
         "R",
         188.0,
         "USA",
         28.0,
         "7-6(7) 6-4",
         "3",
         "R32",
         104.0,
         9.0,
         3.0,
         66.0,
         37.0,
         32.0,
         17.0,
         11.0,
         2.0,
         3.0,
         6.0,
         2.0,
         80.0,
         43.0,
         33.0,
         17.0,
         11.0,
         4.0,
         6.0,
         208.0,
         245.0,
         44.0,
         1055.0,
         null,
         null,
         null,
         null,
         null,
         null,
         null,
         null,
         null,
         null,
         null,
         null,
         null,
         null,
         null,
         null,
         null,
         null,
         null,
         null,
         null,
         null,
         null,
         null,
         null,
         null,
         null,
         null,
         null,
         null,
         null
        ],
        [
         "2018-M020",
         "Brisbane",
         "Hard",
         "32",
         "A",
         2.0180101E7,
         "276",
         111581.0,
         null,
         "Q",
         "Michael Mmoh",
         "R",
         188.0,
         "USA",
         19.9,
         105643.0,
         null,
         null,
         "Federico Delbonis",
         "L",
         190.0,
         "ARG",
         27.2,
         "6-3 6-4",
         "3",
         "R32",
         69.0,
         5.0,
         4.0,
         55.0,
         38.0,
         32.0,
         11.0,
         10.0,
         3.0,
         3.0,
         4.0,
         0.0,
         45.0,
         35.0,
         28.0,
         5.0,
         9.0,
         0.0,
         2.0,
         175.0,
         299.0,
         68.0,
         755.0,
         null,
         null,
         null,
         null,
         null,
         null,
         null,
         null,
         null,
         null,
         null,
         null,
         null,
         null,
         null,
         null,
         null,
         null,
         null,
         null,
         null,
         null,
         null,
         null,
         null,
         null,
         null,
         null,
         null,
         null,
         null
        ],
        [
         "2018-M020",
         "Brisbane",
         "Hard",
         "32",
         "A",
         2.0180101E7,
         "277",
         104999.0,
         "8.0",
         null,
         "Mischa Zverev",
         "L",
         190.0,
         "GER",
         30.3,
         105441.0,
         null,
         "Q",
         "John Patrick Smith",
         "L",
         188.0,
         "AUS",
         28.9,
         "6-4 7-5",
         "3",
         "R32",
         88.0,
         4.0,
         1.0,
         66.0,
         51.0,
         35.0,
         6.0,
         11.0,
         3.0,
         6.0,
         4.0,
         0.0,
         69.0,
         51.0,
         27.0,
         8.0,
         11.0,
         1.0,
         6.0,
         33.0,
         1302.0,
         218.0,
         235.0,
         null,
         null,
         null,
         null,
         null,
         null,
         null,
         null,
         null,
         null,
         null,
         null,
         null,
         null,
         null,
         null,
         null,
         null,
         null,
         null,
         null,
         null,
         null,
         null,
         null,
         null,
         null,
         null,
         null,
         null,
         null
        ],
        [
         "2018-M020",
         "Brisbane",
         "Hard",
         "32",
         "A",
         2.0180101E7,
         "278",
         105238.0,
         null,
         null,
         "Alexandr Dolgopolov",
         "R",
         180.0,
         "UKR",
         29.1,
         106043.0,
         "6.0",
         null,
         "Diego Schwartzman",
         "R",
         170.0,
         "ARG",
         25.3,
         "6-4 7-6(3)",
         "3",
         "R32",
         93.0,
         6.0,
         4.0,
         69.0,
         40.0,
         32.0,
         16.0,
         11.0,
         3.0,
         4.0,
         1.0,
         2.0,
         70.0,
         34.0,
         22.0,
         20.0,
         11.0,
         1.0,
         3.0,
         38.0,
         1231.0,
         26.0,
         1675.0,
         null,
         null,
         null,
         null,
         null,
         null,
         null,
         null,
         null,
         null,
         null,
         null,
         null,
         null,
         null,
         null,
         null,
         null,
         null,
         null,
         null,
         null,
         null,
         null,
         null,
         null,
         null,
         null,
         null,
         null,
         null
        ],
        [
         "2018-M020",
         "Brisbane",
         "Hard",
         "32",
         "A",
         2.0180101E7,
         "279",
         104547.0,
         null,
         null,
         "Horacio Zeballos",
         "L",
         188.0,
         "ARG",
         32.6,
         124014.0,
         null,
         "Q",
         "Ernesto Escobedo",
         "R",
         185.0,
         "USA",
         21.4,
         "6-3 6-4",
         "3",
         "R32",
         72.0,
         12.0,
         3.0,
         57.0,
         37.0,
         31.0,
         11.0,
         10.0,
         1.0,
         1.0,
         9.0,
         0.0,
         51.0,
         32.0,
         25.0,
         10.0,
         9.0,
         4.0,
         6.0,
         66.0,
         768.0,
         120.0,
         498.0,
         null,
         null,
         null,
         null,
         null,
         null,
         null,
         null,
         null,
         null,
         null,
         null,
         null,
         null,
         null,
         null,
         null,
         null,
         null,
         null,
         null,
         null,
         null,
         null,
         null,
         null,
         null,
         null,
         null,
         null,
         null
        ],
        [
         "2018-M020",
         "Brisbane",
         "Hard",
         "32",
         "A",
         2.0180101E7,
         "280",
         105051.0,
         null,
         null,
         "Matthew Ebden",
         "R",
         188.0,
         "AUS",
         30.0,
         126207.0,
         null,
         null,
         "Frances Tiafoe",
         "R",
         188.0,
         "USA",
         19.9,
         "6-3 6-2",
         "3",
         "R32",
         59.0,
         7.0,
         1.0,
         48.0,
         32.0,
         23.0,
         11.0,
         9.0,
         2.0,
         3.0,
         4.0,
         4.0,
         46.0,
         25.0,
         18.0,
         6.0,
         8.0,
         1.0,
         5.0,
         76.0,
         670.0,
         79.0,
         662.0,
         null,
         null,
         null,
         null,
         null,
         null,
         null,
         null,
         null,
         null,
         null,
         null,
         null,
         null,
         null,
         null,
         null,
         null,
         null,
         null,
         null,
         null,
         null,
         null,
         null,
         null,
         null,
         null,
         null,
         null,
         null
        ],
        [
         "2018-M020",
         "Brisbane",
         "Hard",
         "32",
         "A",
         2.0180101E7,
         "282",
         111202.0,
         null,
         null,
         "Hyeon Chung",
         "R",
         188.0,
         "KOR",
         21.6,
         104180.0,
         "5.0",
         null,
         "Gilles Muller",
         "L",
         193.0,
         "LUX",
         34.6,
         "6-3 7-6(1)",
         "3",
         "R32",
         99.0,
         7.0,
         4.0,
         64.0,
         35.0,
         29.0,
         17.0,
         10.0,
         2.0,
         2.0,
         19.0,
         5.0,
         68.0,
         40.0,
         33.0,
         10.0,
         11.0,
         3.0,
         5.0,
         58.0,
         844.0,
         25.0,
         1695.0,
         null,
         null,
         null,
         null,
         null,
         null,
         null,
         null,
         null,
         null,
         null,
         null,
         null,
         null,
         null,
         null,
         null,
         null,
         null,
         null,
         null,
         null,
         null,
         null,
         null,
         null,
         null,
         null,
         null,
         null,
         null
        ]
       ],
       "datasetInfos": [],
       "dbfsResultPath": null,
       "isJsonSchema": true,
       "metadata": {},
       "overflow": false,
       "plotOptions": {
        "customPlotOptions": {},
        "displayType": "table",
        "pivotAggregation": null,
        "pivotColumns": null,
        "xColumns": null,
        "yColumns": null
       },
       "removedWidgets": [],
       "schema": [
        {
         "metadata": "{}",
         "name": "tourney_id",
         "type": "\"string\""
        },
        {
         "metadata": "{}",
         "name": "tourney_name",
         "type": "\"string\""
        },
        {
         "metadata": "{}",
         "name": "surface",
         "type": "\"string\""
        },
        {
         "metadata": "{}",
         "name": "draw_size",
         "type": "\"string\""
        },
        {
         "metadata": "{}",
         "name": "tourney_level",
         "type": "\"string\""
        },
        {
         "metadata": "{}",
         "name": "tourney_date",
         "type": "\"double\""
        },
        {
         "metadata": "{}",
         "name": "match_num",
         "type": "\"string\""
        },
        {
         "metadata": "{}",
         "name": "winner_id",
         "type": "\"double\""
        },
        {
         "metadata": "{}",
         "name": "winner_seed",
         "type": "\"string\""
        },
        {
         "metadata": "{}",
         "name": "winner_entry",
         "type": "\"string\""
        },
        {
         "metadata": "{}",
         "name": "winner_name",
         "type": "\"string\""
        },
        {
         "metadata": "{}",
         "name": "winner_hand",
         "type": "\"string\""
        },
        {
         "metadata": "{}",
         "name": "winner_ht",
         "type": "\"double\""
        },
        {
         "metadata": "{}",
         "name": "winner_ioc",
         "type": "\"string\""
        },
        {
         "metadata": "{}",
         "name": "winner_age",
         "type": "\"double\""
        },
        {
         "metadata": "{}",
         "name": "loser_id",
         "type": "\"double\""
        },
        {
         "metadata": "{}",
         "name": "loser_seed",
         "type": "\"string\""
        },
        {
         "metadata": "{}",
         "name": "loser_entry",
         "type": "\"string\""
        },
        {
         "metadata": "{}",
         "name": "loser_name",
         "type": "\"string\""
        },
        {
         "metadata": "{}",
         "name": "loser_hand",
         "type": "\"string\""
        },
        {
         "metadata": "{}",
         "name": "loser_ht",
         "type": "\"double\""
        },
        {
         "metadata": "{}",
         "name": "loser_ioc",
         "type": "\"string\""
        },
        {
         "metadata": "{}",
         "name": "loser_age",
         "type": "\"double\""
        },
        {
         "metadata": "{}",
         "name": "score",
         "type": "\"string\""
        },
        {
         "metadata": "{}",
         "name": "best_of",
         "type": "\"string\""
        },
        {
         "metadata": "{}",
         "name": "round",
         "type": "\"string\""
        },
        {
         "metadata": "{}",
         "name": "minutes",
         "type": "\"double\""
        },
        {
         "metadata": "{}",
         "name": "w_ace",
         "type": "\"double\""
        },
        {
         "metadata": "{}",
         "name": "w_df",
         "type": "\"double\""
        },
        {
         "metadata": "{}",
         "name": "w_svpt",
         "type": "\"double\""
        },
        {
         "metadata": "{}",
         "name": "w_1stIn",
         "type": "\"double\""
        },
        {
         "metadata": "{}",
         "name": "w_1stWon",
         "type": "\"double\""
        },
        {
         "metadata": "{}",
         "name": "w_2ndWon",
         "type": "\"double\""
        },
        {
         "metadata": "{}",
         "name": "w_SvGms",
         "type": "\"double\""
        },
        {
         "metadata": "{}",
         "name": "w_bpSaved",
         "type": "\"double\""
        },
        {
         "metadata": "{}",
         "name": "w_bpFaced",
         "type": "\"double\""
        },
        {
         "metadata": "{}",
         "name": "l_ace",
         "type": "\"double\""
        },
        {
         "metadata": "{}",
         "name": "l_df",
         "type": "\"double\""
        },
        {
         "metadata": "{}",
         "name": "l_svpt",
         "type": "\"double\""
        },
        {
         "metadata": "{}",
         "name": "l_1stIn",
         "type": "\"double\""
        },
        {
         "metadata": "{}",
         "name": "l_1stWon",
         "type": "\"double\""
        },
        {
         "metadata": "{}",
         "name": "l_2ndWon",
         "type": "\"double\""
        },
        {
         "metadata": "{}",
         "name": "l_SvGms",
         "type": "\"double\""
        },
        {
         "metadata": "{}",
         "name": "l_bpSaved",
         "type": "\"double\""
        },
        {
         "metadata": "{}",
         "name": "l_bpFaced",
         "type": "\"double\""
        },
        {
         "metadata": "{}",
         "name": "winner_rank",
         "type": "\"double\""
        },
        {
         "metadata": "{}",
         "name": "winner_rank_points",
         "type": "\"double\""
        },
        {
         "metadata": "{}",
         "name": "loser_rank",
         "type": "\"double\""
        },
        {
         "metadata": "{}",
         "name": "loser_rank_points",
         "type": "\"double\""
        },
        {
         "metadata": "{}",
         "name": "winner1_id",
         "type": "\"double\""
        },
        {
         "metadata": "{}",
         "name": "winner2_id",
         "type": "\"string\""
        },
        {
         "metadata": "{}",
         "name": "loser1_id",
         "type": "\"string\""
        },
        {
         "metadata": "{}",
         "name": "loser2_id",
         "type": "\"double\""
        },
        {
         "metadata": "{}",
         "name": "winner1_name",
         "type": "\"string\""
        },
        {
         "metadata": "{}",
         "name": "winner1_hand",
         "type": "\"double\""
        },
        {
         "metadata": "{}",
         "name": "winner1_ht",
         "type": "\"string\""
        },
        {
         "metadata": "{}",
         "name": "winner1_ioc",
         "type": "\"double\""
        },
        {
         "metadata": "{}",
         "name": "winner1_age",
         "type": "\"string\""
        },
        {
         "metadata": "{}",
         "name": "winner2_name",
         "type": "\"string\""
        },
        {
         "metadata": "{}",
         "name": "winner2_hand",
         "type": "\"double\""
        },
        {
         "metadata": "{}",
         "name": "winner2_ht",
         "type": "\"string\""
        },
        {
         "metadata": "{}",
         "name": "winner2_ioc",
         "type": "\"double\""
        },
        {
         "metadata": "{}",
         "name": "winner2_age",
         "type": "\"string\""
        },
        {
         "metadata": "{}",
         "name": "loser1_name",
         "type": "\"string\""
        },
        {
         "metadata": "{}",
         "name": "loser1_hand",
         "type": "\"double\""
        },
        {
         "metadata": "{}",
         "name": "loser1_ht",
         "type": "\"string\""
        },
        {
         "metadata": "{}",
         "name": "loser1_ioc",
         "type": "\"double\""
        },
        {
         "metadata": "{}",
         "name": "loser1_age",
         "type": "\"string\""
        },
        {
         "metadata": "{}",
         "name": "loser2_name",
         "type": "\"string\""
        },
        {
         "metadata": "{}",
         "name": "loser2_hand",
         "type": "\"double\""
        },
        {
         "metadata": "{}",
         "name": "loser2_ht",
         "type": "\"string\""
        },
        {
         "metadata": "{}",
         "name": "loser2_ioc",
         "type": "\"double\""
        },
        {
         "metadata": "{}",
         "name": "loser2_age",
         "type": "\"double\""
        },
        {
         "metadata": "{}",
         "name": "winner1_rank",
         "type": "\"double\""
        },
        {
         "metadata": "{}",
         "name": "winner1_rank_points",
         "type": "\"double\""
        },
        {
         "metadata": "{}",
         "name": "winner2_rank",
         "type": "\"double\""
        },
        {
         "metadata": "{}",
         "name": "winner2_rank_points",
         "type": "\"double\""
        },
        {
         "metadata": "{}",
         "name": "loser1_rank",
         "type": "\"double\""
        },
        {
         "metadata": "{}",
         "name": "loser1_rank_points",
         "type": "\"double\""
        },
        {
         "metadata": "{}",
         "name": "loser2_rank",
         "type": "\"double\""
        }
       ],
       "type": "table"
      }
     },
     "output_type": "display_data"
    }
   ],
   "source": [
    "%sql SELECT * FROM raw.matches LIMIT 10"
   ]
  },
  {
   "cell_type": "code",
   "execution_count": 0,
   "metadata": {
    "application/vnd.databricks.v1+cell": {
     "cellMetadata": {
      "byteLimit": 2048000,
      "implicitDf": true,
      "rowLimit": 10000
     },
     "inputWidgets": {},
     "nuid": "005901d2-a302-4880-97b4-458d2cd3e613",
     "showTitle": false,
     "tableResultSettingsMap": {},
     "title": ""
    }
   },
   "outputs": [
    {
     "output_type": "display_data",
     "data": {
      "text/html": [
       "<style scoped>\n",
       "  .table-result-container {\n",
       "    max-height: 300px;\n",
       "    overflow: auto;\n",
       "  }\n",
       "  table, th, td {\n",
       "    border: 1px solid black;\n",
       "    border-collapse: collapse;\n",
       "  }\n",
       "  th, td {\n",
       "    padding: 5px;\n",
       "  }\n",
       "  th {\n",
       "    text-align: left;\n",
       "  }\n",
       "</style><div class='table-result-container'><table class='table-result'><thead style='background-color: white'><tr><th>player_id</th><th>name_first</th><th>name_last</th><th>hand</th><th>dob</th><th>ioc</th><th>height</th><th>wikidata_id</th></tr></thead><tbody><tr><td>100001</td><td>Gardnar</td><td>Mulloy</td><td>R</td><td>1.9131122E7</td><td>USA</td><td>185.0</td><td>Q54544</td></tr><tr><td>100002</td><td>Pancho</td><td>Segura</td><td>R</td><td>1.921062E7</td><td>ECU</td><td>168.0</td><td>Q54581</td></tr><tr><td>100003</td><td>Frank</td><td>Sedgman</td><td>R</td><td>1.9271002E7</td><td>AUS</td><td>180.0</td><td>Q962049</td></tr><tr><td>100004</td><td>Giuseppe</td><td>Merlo</td><td>R</td><td>1.9271011E7</td><td>ITA</td><td>null</td><td>Q1258752</td></tr><tr><td>100005</td><td>Richard</td><td>Gonzalez</td><td>R</td><td>1.9280509E7</td><td>USA</td><td>188.0</td><td>Q53554</td></tr><tr><td>100006</td><td>Grant</td><td>Golden</td><td>R</td><td>1.9290821E7</td><td>USA</td><td>175.0</td><td>Q3115390</td></tr><tr><td>100007</td><td>Abe</td><td>Segal</td><td>L</td><td>1.9301023E7</td><td>RSA</td><td>null</td><td>Q1258527</td></tr><tr><td>100008</td><td>Kurt</td><td>Nielsen</td><td>R</td><td>1.9301119E7</td><td>DEN</td><td>null</td><td>Q552261</td></tr><tr><td>100009</td><td>Istvan</td><td>Gulyas</td><td>R</td><td>1.9311014E7</td><td>HUN</td><td>null</td><td>Q51066</td></tr><tr><td>100010</td><td>Luis</td><td>Ayala</td><td>R</td><td>1.9320918E7</td><td>CHI</td><td>170.0</td><td>Q1275397</td></tr></tbody></table></div>"
      ]
     },
     "metadata": {
      "application/vnd.databricks.v1+output": {
       "addedWidgets": {},
       "aggData": [],
       "aggError": "",
       "aggOverflow": false,
       "aggSchema": [],
       "aggSeriesLimitReached": false,
       "aggType": "",
       "arguments": {},
       "columnCustomDisplayInfos": {},
       "data": [
        [
         100001,
         "Gardnar",
         "Mulloy",
         "R",
         1.9131122E7,
         "USA",
         185.0,
         "Q54544"
        ],
        [
         100002,
         "Pancho",
         "Segura",
         "R",
         1.921062E7,
         "ECU",
         168.0,
         "Q54581"
        ],
        [
         100003,
         "Frank",
         "Sedgman",
         "R",
         1.9271002E7,
         "AUS",
         180.0,
         "Q962049"
        ],
        [
         100004,
         "Giuseppe",
         "Merlo",
         "R",
         1.9271011E7,
         "ITA",
         null,
         "Q1258752"
        ],
        [
         100005,
         "Richard",
         "Gonzalez",
         "R",
         1.9280509E7,
         "USA",
         188.0,
         "Q53554"
        ],
        [
         100006,
         "Grant",
         "Golden",
         "R",
         1.9290821E7,
         "USA",
         175.0,
         "Q3115390"
        ],
        [
         100007,
         "Abe",
         "Segal",
         "L",
         1.9301023E7,
         "RSA",
         null,
         "Q1258527"
        ],
        [
         100008,
         "Kurt",
         "Nielsen",
         "R",
         1.9301119E7,
         "DEN",
         null,
         "Q552261"
        ],
        [
         100009,
         "Istvan",
         "Gulyas",
         "R",
         1.9311014E7,
         "HUN",
         null,
         "Q51066"
        ],
        [
         100010,
         "Luis",
         "Ayala",
         "R",
         1.9320918E7,
         "CHI",
         170.0,
         "Q1275397"
        ]
       ],
       "datasetInfos": [],
       "dbfsResultPath": null,
       "isJsonSchema": true,
       "metadata": {},
       "overflow": false,
       "plotOptions": {
        "customPlotOptions": {},
        "displayType": "table",
        "pivotAggregation": null,
        "pivotColumns": null,
        "xColumns": null,
        "yColumns": null
       },
       "removedWidgets": [],
       "schema": [
        {
         "metadata": "{}",
         "name": "player_id",
         "type": "\"long\""
        },
        {
         "metadata": "{}",
         "name": "name_first",
         "type": "\"string\""
        },
        {
         "metadata": "{}",
         "name": "name_last",
         "type": "\"string\""
        },
        {
         "metadata": "{}",
         "name": "hand",
         "type": "\"string\""
        },
        {
         "metadata": "{}",
         "name": "dob",
         "type": "\"double\""
        },
        {
         "metadata": "{}",
         "name": "ioc",
         "type": "\"string\""
        },
        {
         "metadata": "{}",
         "name": "height",
         "type": "\"double\""
        },
        {
         "metadata": "{}",
         "name": "wikidata_id",
         "type": "\"string\""
        }
       ],
       "type": "table"
      }
     },
     "output_type": "display_data"
    }
   ],
   "source": [
    "%sql SELECT * FROM raw.players LIMIT 10"
   ]
  },
  {
   "cell_type": "code",
   "execution_count": 0,
   "metadata": {
    "application/vnd.databricks.v1+cell": {
     "cellMetadata": {
      "byteLimit": 2048000,
      "implicitDf": true,
      "rowLimit": 10000
     },
     "inputWidgets": {},
     "nuid": "4676d97b-9d31-4160-a566-8d5bf00b161b",
     "showTitle": false,
     "tableResultSettingsMap": {},
     "title": ""
    }
   },
   "outputs": [
    {
     "output_type": "display_data",
     "data": {
      "text/html": [
       "<style scoped>\n",
       "  .table-result-container {\n",
       "    max-height: 300px;\n",
       "    overflow: auto;\n",
       "  }\n",
       "  table, th, td {\n",
       "    border: 1px solid black;\n",
       "    border-collapse: collapse;\n",
       "  }\n",
       "  th, td {\n",
       "    padding: 5px;\n",
       "  }\n",
       "  th {\n",
       "    text-align: left;\n",
       "  }\n",
       "</style><div class='table-result-container'><table class='table-result'><thead style='background-color: white'><tr><th>ranking_date</th><th>rank</th><th>player</th><th>points</th></tr></thead><tbody><tr><td>20000110</td><td>1</td><td>101736</td><td>4135.0</td></tr><tr><td>20000110</td><td>2</td><td>102338</td><td>2915.0</td></tr><tr><td>20000110</td><td>3</td><td>101948</td><td>2419.0</td></tr><tr><td>20000110</td><td>4</td><td>103017</td><td>2184.0</td></tr><tr><td>20000110</td><td>5</td><td>102856</td><td>2169.0</td></tr><tr><td>20000110</td><td>6</td><td>102358</td><td>2107.0</td></tr><tr><td>20000110</td><td>7</td><td>102839</td><td>1966.0</td></tr><tr><td>20000110</td><td>8</td><td>101774</td><td>1929.0</td></tr><tr><td>20000110</td><td>9</td><td>102701</td><td>1846.0</td></tr><tr><td>20000110</td><td>10</td><td>101990</td><td>1739.0</td></tr></tbody></table></div>"
      ]
     },
     "metadata": {
      "application/vnd.databricks.v1+output": {
       "addedWidgets": {},
       "aggData": [],
       "aggError": "",
       "aggOverflow": false,
       "aggSchema": [],
       "aggSeriesLimitReached": false,
       "aggType": "",
       "arguments": {},
       "columnCustomDisplayInfos": {},
       "data": [
        [
         20000110,
         1,
         101736,
         4135.0
        ],
        [
         20000110,
         2,
         102338,
         2915.0
        ],
        [
         20000110,
         3,
         101948,
         2419.0
        ],
        [
         20000110,
         4,
         103017,
         2184.0
        ],
        [
         20000110,
         5,
         102856,
         2169.0
        ],
        [
         20000110,
         6,
         102358,
         2107.0
        ],
        [
         20000110,
         7,
         102839,
         1966.0
        ],
        [
         20000110,
         8,
         101774,
         1929.0
        ],
        [
         20000110,
         9,
         102701,
         1846.0
        ],
        [
         20000110,
         10,
         101990,
         1739.0
        ]
       ],
       "datasetInfos": [],
       "dbfsResultPath": null,
       "isJsonSchema": true,
       "metadata": {},
       "overflow": false,
       "plotOptions": {
        "customPlotOptions": {},
        "displayType": "table",
        "pivotAggregation": null,
        "pivotColumns": null,
        "xColumns": null,
        "yColumns": null
       },
       "removedWidgets": [],
       "schema": [
        {
         "metadata": "{}",
         "name": "ranking_date",
         "type": "\"long\""
        },
        {
         "metadata": "{}",
         "name": "rank",
         "type": "\"long\""
        },
        {
         "metadata": "{}",
         "name": "player",
         "type": "\"long\""
        },
        {
         "metadata": "{}",
         "name": "points",
         "type": "\"double\""
        }
       ],
       "type": "table"
      }
     },
     "output_type": "display_data"
    }
   ],
   "source": [
    "%sql SELECT * FROM raw.rankings LIMIT 10"
   ]
  },
  {
   "cell_type": "markdown",
   "metadata": {
    "application/vnd.databricks.v1+cell": {
     "cellMetadata": {
      "byteLimit": 2048000,
      "rowLimit": 10000
     },
     "inputWidgets": {},
     "nuid": "f8b32fd8-8d2a-40bb-be58-f76f619089fa",
     "showTitle": false,
     "tableResultSettingsMap": {},
     "title": ""
    }
   },
   "source": []
  },
  {
   "cell_type": "markdown",
   "metadata": {
    "application/vnd.databricks.v1+cell": {
     "cellMetadata": {},
     "inputWidgets": {},
     "nuid": "6fda5355-ca51-44cd-b8f2-aaaba56d8f10",
     "showTitle": false,
     "tableResultSettingsMap": {},
     "title": ""
    }
   },
   "source": [
    "# Modelagem\n",
    "## Modelo Estrela\n",
    "\n",
    "### Tabela Fato\n",
    "- **f_Matches**: contém o resultado e estatísticas das partidas\n",
    "  - FK: `tourney_id`, `winner_id`, `loser_id`, `tourney_date`\n",
    "  - Métricas: aces, double faults, pontos de saque, tempo, score, ranking etc.\n",
    "\n",
    "### Tabelas Dimensão\n",
    "- **d_Players**: dados dos jogadores (mão, altura, país, data de nascimento)\n",
    "- **d_Tournaments**: informações dos torneios (superfície, nível, tamanho da chave)\n",
    "- **d_Calendario**: tempo em granularidade de dia, mês, ano\n",
    "- **d_Ranking**: posição e pontos de ranking por jogador por data (1 data por semana)\n"
   ]
  },
  {
   "cell_type": "markdown",
   "metadata": {
    "application/vnd.databricks.v1+cell": {
     "cellMetadata": {},
     "inputWidgets": {},
     "nuid": "906a0c10-2fa5-4fad-a159-5e1542cc0edf",
     "showTitle": false,
     "tableResultSettingsMap": {},
     "title": ""
    }
   },
   "source": [
    "Motivos para a seleção do modelo estrela:\n",
    "- Nosso objetivo é análise rápida e clara de dados históricos de partidas, rankings e torneios.\n",
    "- As dimensões são simples e não precisam ser quebradas.\n",
    "- Ganhamos em performance e simplicidade.\n",
    "- É o modelo mais usado em BI\n",
    "\n",
    "Esse modelo poderia evoluir para um modelo Snow Flake, porém o Snow Flake:\n",
    "- Pode deixar o modelo mais organizado, mas também mais complicado.\n",
    "- Requer mais joins, o que pode deixar as consultas mais lentas.\n",
    "- Indicado quando há hierarquias complexas (ex: país → estado → cidade).\n"
   ]
  },
  {
   "cell_type": "markdown",
   "metadata": {
    "application/vnd.databricks.v1+cell": {
     "cellMetadata": {
      "byteLimit": 2048000,
      "rowLimit": 10000
     },
     "inputWidgets": {},
     "nuid": "aed511eb-7c17-44bf-b01a-2cf9787fe230",
     "showTitle": false,
     "tableResultSettingsMap": {},
     "title": ""
    }
   },
   "source": [
    "# Tranformação e Carga"
   ]
  },
  {
   "cell_type": "markdown",
   "metadata": {
    "application/vnd.databricks.v1+cell": {
     "cellMetadata": {},
     "inputWidgets": {},
     "nuid": "75da9338-b535-41da-96f4-78903f456786",
     "showTitle": false,
     "tableResultSettingsMap": {},
     "title": ""
    }
   },
   "source": [
    "## Camada Trusted/Silver\n",
    "- Limpeza e data quality\n",
    "- Dados consistentes e confiáveis"
   ]
  },
  {
   "cell_type": "code",
   "execution_count": 0,
   "metadata": {
    "application/vnd.databricks.v1+cell": {
     "cellMetadata": {
      "byteLimit": 2048000,
      "implicitDf": true,
      "rowLimit": 10000
     },
     "inputWidgets": {},
     "nuid": "1e53fff4-6a2e-4a89-bd89-ab5da86ffcc0",
     "showTitle": true,
     "tableResultSettingsMap": {},
     "title": "Criação do database"
    }
   },
   "outputs": [
    {
     "output_type": "display_data",
     "data": {
      "text/html": [
       "<style scoped>\n",
       "  .table-result-container {\n",
       "    max-height: 300px;\n",
       "    overflow: auto;\n",
       "  }\n",
       "  table, th, td {\n",
       "    border: 1px solid black;\n",
       "    border-collapse: collapse;\n",
       "  }\n",
       "  th, td {\n",
       "    padding: 5px;\n",
       "  }\n",
       "  th {\n",
       "    text-align: left;\n",
       "  }\n",
       "</style><div class='table-result-container'><table class='table-result'><thead style='background-color: white'><tr></tr></thead><tbody></tbody></table></div>"
      ]
     },
     "metadata": {
      "application/vnd.databricks.v1+output": {
       "addedWidgets": {},
       "aggData": [],
       "aggError": "",
       "aggOverflow": false,
       "aggSchema": [],
       "aggSeriesLimitReached": false,
       "aggType": "",
       "arguments": {},
       "columnCustomDisplayInfos": {},
       "data": [],
       "datasetInfos": [],
       "dbfsResultPath": null,
       "isJsonSchema": true,
       "metadata": {},
       "overflow": false,
       "plotOptions": {
        "customPlotOptions": {},
        "displayType": "table",
        "pivotAggregation": null,
        "pivotColumns": null,
        "xColumns": null,
        "yColumns": null
       },
       "removedWidgets": [],
       "schema": [],
       "type": "table"
      }
     },
     "output_type": "display_data"
    }
   ],
   "source": [
    "%sql CREATE DATABASE trusted;"
   ]
  },
  {
   "cell_type": "markdown",
   "metadata": {
    "application/vnd.databricks.v1+cell": {
     "cellMetadata": {},
     "inputWidgets": {},
     "nuid": "ec2cdcb2-1454-4cd1-9ccd-ad8ae653072c",
     "showTitle": false,
     "tableResultSettingsMap": {},
     "title": ""
    }
   },
   "source": [
    "### Qualidade de Dados\n",
    "\n",
    "Nesta seção, foram abordadas algumas das tratativas de dados identificadas em um primeiro momento. Essas tratativas foram aplicadas nas tabelas *raw* de **players**, **rankings** e **matches** para garantir a integridade, consistência e precisão das informações.\n"
   ]
  },
  {
   "cell_type": "markdown",
   "metadata": {
    "application/vnd.databricks.v1+cell": {
     "cellMetadata": {},
     "inputWidgets": {},
     "nuid": "c14dc9b1-a287-4c99-b72d-6727c30f7424",
     "showTitle": false,
     "tableResultSettingsMap": {},
     "title": ""
    }
   },
   "source": [
    "### Tabela de jogadores (players)\n",
    "\n",
    "\n",
    "Existem ocorrencias na tabela de jogadores com nome e sobrenome duplicados e que possuem a mesma data de nascimento, como correção devem ser removidas as duplicatas, porém é necessário verificar o impacto disso nas outras tabelas.\n",
    "\n",
    "Como solução estou criando uma nova camada de staging para criar uma tabela que vai mapear o id que será mantido (canonical_player_id), arbitrariamente escolhi o menor id para ser mantido. Como solução mais rebuscada poderia selecionar os ids com campos mais corretos (ex.: menos campos nulos, maior altura, mão dominante diferente de U).\n",
    "\n",
    "O objetivo dessa staging é utilizar nas demais tabelas para alterar os ids que foram removidos da tabela players e botar os ids que ficaram.\n",
    "\n",
    "Por fim, ao criar a tabela players na camada trusted sem duplicatas, foi removida a coluna \"wikidata_id\", pois não tinha utilidade."
   ]
  },
  {
   "cell_type": "code",
   "execution_count": 0,
   "metadata": {
    "application/vnd.databricks.v1+cell": {
     "cellMetadata": {
      "byteLimit": 2048000,
      "implicitDf": true,
      "rowLimit": 10000
     },
     "inputWidgets": {},
     "nuid": "8f96c39b-9f7f-4bc5-afca-56f17e00f997",
     "showTitle": false,
     "tableResultSettingsMap": {},
     "title": ""
    }
   },
   "outputs": [
    {
     "output_type": "display_data",
     "data": {
      "text/html": [
       "<style scoped>\n",
       "  .table-result-container {\n",
       "    max-height: 300px;\n",
       "    overflow: auto;\n",
       "  }\n",
       "  table, th, td {\n",
       "    border: 1px solid black;\n",
       "    border-collapse: collapse;\n",
       "  }\n",
       "  th, td {\n",
       "    padding: 5px;\n",
       "  }\n",
       "  th {\n",
       "    text-align: left;\n",
       "  }\n",
       "</style><div class='table-result-container'><table class='table-result'><thead style='background-color: white'><tr><th>name_first</th><th>name_last</th><th>dob</th><th>count_duplicados</th></tr></thead><tbody><tr><td>Kenichi</td><td>Kiyomiya</td><td>1.9671101E7</td><td>2</td></tr><tr><td>Juan</td><td>Jimenez</td><td>null</td><td>2</td></tr><tr><td>Attila</td><td>Korpas</td><td>1.9450901E7</td><td>2</td></tr><tr><td>P</td><td>Quilichini</td><td>null</td><td>2</td></tr><tr><td>Phillip</td><td>Williamson</td><td>1.9650529E7</td><td>2</td></tr><tr><td>Jose</td><td>Tort</td><td>null</td><td>2</td></tr><tr><td>Fabiano</td><td>Mintz</td><td>1.9750516E7</td><td>2</td></tr><tr><td>Jean Pierre</td><td>Olivier</td><td>null</td><td>2</td></tr><tr><td>Gaston</td><td>Naon</td><td>1.9700925E7</td><td>2</td></tr><tr><td>Kurt</td><td>Robinson</td><td>1.9660301E7</td><td>2</td></tr><tr><td>Dragan</td><td>Savic</td><td>null</td><td>2</td></tr><tr><td>Kent</td><td>Seton</td><td>1.9701005E7</td><td>2</td></tr><tr><td>Ben</td><td>Bishop</td><td>null</td><td>2</td></tr><tr><td>Mariano</td><td>Pettigrosso</td><td>1.9800201E7</td><td>2</td></tr><tr><td>Tony</td><td>Bardsley</td><td>1.9450209E7</td><td>2</td></tr><tr><td>Deon</td><td>Joubert</td><td>1.9530619E7</td><td>2</td></tr><tr><td>Justin</td><td>Stead</td><td>1.9670705E7</td><td>2</td></tr><tr><td>Michael</td><td>Roberts</td><td>1.9700929E7</td><td>2</td></tr><tr><td>Martin</td><td>Dionne</td><td>1.9711115E7</td><td>2</td></tr><tr><td>Mark</td><td>Andrews</td><td>null</td><td>2</td></tr><tr><td>Christian</td><td>Kuhnke</td><td>1.9390413E7</td><td>2</td></tr><tr><td>Peter</td><td>Gerads</td><td>null</td><td>2</td></tr><tr><td>Francisco</td><td>Mastelli</td><td>1.952033E7</td><td>2</td></tr><tr><td>Graeme</td><td>Thomson</td><td>null</td><td>2</td></tr><tr><td>Ben</td><td>Knapp</td><td>null</td><td>2</td></tr><tr><td>Mark</td><td>Greenan</td><td>1.966063E7</td><td>2</td></tr><tr><td>Matthew</td><td>Macmahon</td><td>1.9720822E7</td><td>2</td></tr><tr><td>Crawford</td><td>Henry</td><td>1.937053E7</td><td>2</td></tr><tr><td>Jean</td><td>Desdunes</td><td>null</td><td>2</td></tr><tr><td>Miguel</td><td>Jimenez</td><td>null</td><td>2</td></tr><tr><td>Marco</td><td>Gudino</td><td>1.9720223E7</td><td>2</td></tr><tr><td>Marcos</td><td>Fernandes</td><td>1.9650208E7</td><td>2</td></tr><tr><td>Howard</td><td>Mcguiness</td><td>null</td><td>2</td></tr><tr><td>Nuno</td><td>Mota</td><td>1.9680609E7</td><td>2</td></tr><tr><td>John</td><td>Mclean</td><td>null</td><td>2</td></tr><tr><td>Terry</td><td>Ryan</td><td>1.9420427E7</td><td>2</td></tr><tr><td>Felipe</td><td>Lemos</td><td>1.983111E7</td><td>2</td></tr><tr><td>Massimo</td><td>Di Domenico</td><td>1.9451215E7</td><td>2</td></tr><tr><td>Federico</td><td>Pierini</td><td>1.9720805E7</td><td>2</td></tr><tr><td>Jorge</td><td>Vila</td><td>null</td><td>2</td></tr><tr><td>Rich</td><td>Benson</td><td>1.9670522E7</td><td>2</td></tr><tr><td>Kelvin</td><td>Maclean</td><td>null</td><td>2</td></tr><tr><td>Luciano</td><td>Dandrea</td><td>null</td><td>2</td></tr><tr><td>Jan</td><td>Krajcik</td><td>1.9240116E7</td><td>2</td></tr><tr><td>Guy</td><td>Cheng</td><td>null</td><td>2</td></tr><tr><td>Jack</td><td>Condon</td><td>1.9030909E7</td><td>2</td></tr><tr><td>Paul</td><td>Kong</td><td>null</td><td>2</td></tr><tr><td>Henri</td><td>Rochon</td><td>1.9240312E7</td><td>2</td></tr><tr><td>Wolfgang</td><td>Spannagel</td><td>null</td><td>2</td></tr><tr><td>Gaetan</td><td>Koenig</td><td>1.9341107E7</td><td>2</td></tr><tr><td>Jean</td><td>Wuarin</td><td>null</td><td>2</td></tr><tr><td>Max</td><td>Albrecht</td><td>null</td><td>2</td></tr><tr><td>Paul</td><td>De Borman</td><td>1.8791201E7</td><td>2</td></tr><tr><td>Loutfalla</td><td>Wahid</td><td>null</td><td>2</td></tr><tr><td>Rolando</td><td>Vega</td><td>null</td><td>2</td></tr><tr><td>Alfonso</td><td>Unda</td><td>null</td><td>2</td></tr><tr><td>Ivko</td><td>Plecevic</td><td>null</td><td>2</td></tr><tr><td>Lawrence</td><td>Shaffi</td><td>null</td><td>2</td></tr><tr><td>Willem</td><td>Karsten</td><td>null</td><td>2</td></tr><tr><td>George</td><td>Lewis</td><td>null</td><td>2</td></tr><tr><td>Gustav</td><td>Specht</td><td>null</td><td>2</td></tr><tr><td>Mario</td><td>Szavoszt</td><td>null</td><td>2</td></tr><tr><td>Chew Bee</td><td>Ong</td><td>null</td><td>2</td></tr><tr><td>Gregg</td><td>Prudhomme</td><td>1.9700624E7</td><td>2</td></tr><tr><td>Donald</td><td>Mcdiarmid</td><td>null</td><td>2</td></tr><tr><td>Ahmed</td><td>Shukry</td><td>null</td><td>2</td></tr><tr><td>Alberto</td><td>Del Bono</td><td>null</td><td>2</td></tr><tr><td>Rolf</td><td>Kinzl</td><td>1.8781019E7</td><td>2</td></tr><tr><td>Maas</td><td>Van Der Feen</td><td>1.8880201E7</td><td>2</td></tr><tr><td>Gheorghe</td><td>Viziru</td><td>null</td><td>2</td></tr><tr><td>Lamar</td><td>Roemer</td><td>1.9460401E7</td><td>2</td></tr><tr><td>Jacques</td><td>Van Den Eynde</td><td>null</td><td>2</td></tr><tr><td>Walter</td><td>Martin</td><td>null</td><td>2</td></tr><tr><td>Fred</td><td>Berli</td><td>null</td><td>2</td></tr><tr><td>R</td><td>Johnson</td><td>null</td><td>2</td></tr><tr><td>Gustavo</td><td>Castillo</td><td>null</td><td>2</td></tr><tr><td>Elek</td><td>Straub</td><td>null</td><td>2</td></tr><tr><td>Guy</td><td>Van Zuylen</td><td>null</td><td>2</td></tr><tr><td>Felipe</td><td>Dannunzio</td><td>1.997013E7</td><td>2</td></tr><tr><td>null</td><td>null</td><td>null</td><td>46</td></tr><tr><td>Christoph</td><td>Biederlack</td><td>null</td><td>2</td></tr><tr><td>Antal</td><td>Jancso</td><td>1.9341028E7</td><td>2</td></tr><tr><td>Emanuele</td><td>Sertorio</td><td>null</td><td>2</td></tr><tr><td>Carlos Andres</td><td>Carrera Hidalgo</td><td>1.993123E7</td><td>2</td></tr><tr><td>Song Kean</td><td>Tan</td><td>null</td><td>2</td></tr><tr><td>Carlos</td><td>Ponce De Leon</td><td>null</td><td>3</td></tr><tr><td>Sebastian</td><td>Harreguy</td><td>null</td><td>2</td></tr><tr><td>Paul</td><td>Brick</td><td>null</td><td>2</td></tr><tr><td>Gyorgy</td><td>Dungyersky</td><td>null</td><td>2</td></tr><tr><td>Kazimierz</td><td>Tarlowski</td><td>null</td><td>2</td></tr><tr><td>Hugh</td><td>Stewart</td><td>1.9280524E7</td><td>2</td></tr><tr><td>null</td><td>Unknown</td><td>null</td><td>2</td></tr><tr><td>William</td><td>Kyriakos</td><td>1.9720903E7</td><td>2</td></tr><tr><td>Michael</td><td>Reynolds</td><td>null</td><td>2</td></tr><tr><td>Jakub</td><td>Nicod</td><td>2.0040721E7</td><td>2</td></tr><tr><td>Martin</td><td>Landaluce</td><td>2.0060108E7</td><td>2</td></tr><tr><td>Rob</td><td>Kilderry</td><td>null</td><td>2</td></tr><tr><td>P</td><td>Mortoire</td><td>null</td><td>2</td></tr><tr><td>John</td><td>Ross</td><td>null</td><td>2</td></tr><tr><td>Mike</td><td>Reilly</td><td>null</td><td>2</td></tr><tr><td>Sean</td><td>Hodkin</td><td>1.9981031E7</td><td>2</td></tr><tr><td>null</td><td>Pick</td><td>null</td><td>2</td></tr><tr><td>Milledge</td><td>Cossu</td><td>null</td><td>2</td></tr><tr><td>Vuk</td><td>Budic</td><td>1.9980511E7</td><td>2</td></tr><tr><td>Gordon</td><td>Smith</td><td>null</td><td>2</td></tr><tr><td>Luis Mauricio</td><td>Bonilla</td><td>1.9971203E7</td><td>2</td></tr><tr><td>Gary</td><td>Cruth</td><td>null</td><td>2</td></tr><tr><td>Dan</td><td>Martin</td><td>1.9990509E7</td><td>3</td></tr><tr><td>Bruno</td><td>Kuzuhara</td><td>2.0040401E7</td><td>2</td></tr><tr><td>Fernando</td><td>Vasconcelos</td><td>null</td><td>2</td></tr><tr><td>Arklon</td><td>Huertas Del Pino</td><td>1.9940716E7</td><td>2</td></tr><tr><td>Lautaro</td><td>Midon</td><td>2.0040329E7</td><td>2</td></tr><tr><td>Sven</td><td>Ginman</td><td>null</td><td>2</td></tr><tr><td>William</td><td>Jansen</td><td>2.0041206E7</td><td>2</td></tr><tr><td>Frank</td><td>Harris</td><td>null</td><td>2</td></tr><tr><td>James</td><td>Flanagan</td><td>null</td><td>2</td></tr><tr><td>Budiman</td><td>Aznar</td><td>null</td><td>2</td></tr><tr><td>Arnold</td><td>Saul</td><td>null</td><td>2</td></tr><tr><td>Stefan</td><td>Loncar</td><td>null</td><td>2</td></tr><tr><td>Bill</td><td>Cantrell</td><td>null</td><td>2</td></tr><tr><td>Ian</td><td>Middleton</td><td>null</td><td>2</td></tr><tr><td>C R</td><td>Evans</td><td>null</td><td>2</td></tr><tr><td>Gustavo</td><td>Teisen Pereira</td><td>2.0000602E7</td><td>2</td></tr><tr><td>A</td><td>Ferguson</td><td>null</td><td>3</td></tr><tr><td>Matteo</td><td>Gigante</td><td>2.0020104E7</td><td>2</td></tr><tr><td>D</td><td>Smith</td><td>null</td><td>2</td></tr><tr><td>Grant</td><td>Kerr</td><td>null</td><td>2</td></tr><tr><td>Cedric</td><td>Mason</td><td>null</td><td>2</td></tr><tr><td>Russell</td><td>Phillips</td><td>null</td><td>2</td></tr><tr><td>Salvador</td><td>Cabeza</td><td>null</td><td>2</td></tr><tr><td>Wally</td><td>Bostick</td><td>null</td><td>2</td></tr><tr><td>Roland</td><td>So</td><td>1.9660622E7</td><td>2</td></tr><tr><td>Stanley</td><td>Bellows</td><td>null</td><td>2</td></tr><tr><td>Peter</td><td>Witt</td><td>null</td><td>2</td></tr><tr><td>Glenn</td><td>Gardner</td><td>null</td><td>2</td></tr><tr><td>Merrill</td><td>Ehmke</td><td>null</td><td>2</td></tr><tr><td>Roger</td><td>Danet</td><td>null</td><td>2</td></tr><tr><td>Peter</td><td>Macdonald</td><td>null</td><td>2</td></tr><tr><td>Peter</td><td>Richardson</td><td>null</td><td>2</td></tr><tr><td>Jack</td><td>Mahoney</td><td>null</td><td>2</td></tr><tr><td>Bela</td><td>Von Kehrling</td><td>1.8910125E7</td><td>2</td></tr><tr><td>J</td><td>Andreu</td><td>null</td><td>2</td></tr><tr><td>Kimbark</td><td>Peterson</td><td>null</td><td>2</td></tr><tr><td>Ray</td><td>Wilson</td><td>null</td><td>2</td></tr><tr><td>Paul</td><td>Sullivan</td><td>1.9410417E7</td><td>2</td></tr><tr><td>Mel</td><td>Baleson</td><td>null</td><td>2</td></tr><tr><td>Clint</td><td>Nettleton</td><td>null</td><td>2</td></tr><tr><td>Scott</td><td>Clark</td><td>1.9770505E7</td><td>2</td></tr><tr><td>Marco Aurelio</td><td>Nunez</td><td>1.9930521E7</td><td>2</td></tr><tr><td>Vincenzo</td><td>Franchitti</td><td>1.9500522E7</td><td>2</td></tr><tr><td>Larry</td><td>Huebner</td><td>null</td><td>2</td></tr><tr><td>Doug</td><td>Smith</td><td>null</td><td>2</td></tr><tr><td>Philippe</td><td>Poullain</td><td>null</td><td>2</td></tr><tr><td>Thomas</td><td>Prerovsky</td><td>1.9690215E7</td><td>2</td></tr><tr><td>John</td><td>Baker</td><td>null</td><td>3</td></tr><tr><td>Stewart</td><td>Waller</td><td>null</td><td>2</td></tr><tr><td>Sam</td><td>Lee</td><td>null</td><td>2</td></tr><tr><td>Ned</td><td>Weld</td><td>null</td><td>3</td></tr><tr><td>John</td><td>McDonald</td><td>1.9310402E7</td><td>2</td></tr><tr><td>Fergus</td><td>Reid</td><td>null</td><td>2</td></tr><tr><td>Hugh</td><td>Ditzler</td><td>null</td><td>2</td></tr><tr><td>Roy</td><td>Allen</td><td>1.8681228E7</td><td>2</td></tr><tr><td>Shamil</td><td>Tarpischev</td><td>1.9480307E7</td><td>2</td></tr><tr><td>Derek</td><td>Collins</td><td>1.9301005E7</td><td>2</td></tr><tr><td>Brian</td><td>Bowman</td><td>null</td><td>2</td></tr><tr><td>Jeff</td><td>Podesta</td><td>null</td><td>2</td></tr><tr><td>Vittorio</td><td>Crotta</td><td>1.9460412E7</td><td>2</td></tr><tr><td>Leo</td><td>Maxse</td><td>1.8641211E7</td><td>2</td></tr><tr><td>Rod</td><td>Brent</td><td>null</td><td>2</td></tr><tr><td>Doug</td><td>Reid</td><td>null</td><td>2</td></tr><tr><td>R</td><td>Rogers</td><td>null</td><td>2</td></tr><tr><td>Bob</td><td>Dekkers</td><td>null</td><td>2</td></tr><tr><td>H</td><td>Cox</td><td>null</td><td>2</td></tr><tr><td>null</td><td>Davidson</td><td>null</td><td>2</td></tr><tr><td>Roger</td><td>Jones</td><td>null</td><td>2</td></tr><tr><td>null</td><td>Richards</td><td>null</td><td>3</td></tr><tr><td>R</td><td>Wilson</td><td>null</td><td>2</td></tr><tr><td>null</td><td>Corradi</td><td>null</td><td>2</td></tr><tr><td>R</td><td>Smith</td><td>null</td><td>2</td></tr><tr><td>Gordon</td><td>Campbell</td><td>null</td><td>2</td></tr><tr><td>null</td><td>Wayne</td><td>null</td><td>3</td></tr><tr><td>Ray</td><td>Smith</td><td>null</td><td>2</td></tr><tr><td>null</td><td>Bowker</td><td>null</td><td>2</td></tr><tr><td>null</td><td>Wyatt</td><td>null</td><td>2</td></tr><tr><td>null</td><td>Davis</td><td>null</td><td>3</td></tr><tr><td>null</td><td>Agger</td><td>null</td><td>2</td></tr><tr><td>Hameed</td><td>Ul Haq</td><td>null</td><td>2</td></tr><tr><td>Paul</td><td>O'Donoghue</td><td>null</td><td>2</td></tr><tr><td>null</td><td>Segun</td><td>null</td><td>2</td></tr><tr><td>D</td><td>Woods</td><td>null</td><td>2</td></tr><tr><td>null</td><td>Coffin</td><td>null</td><td>2</td></tr><tr><td>J</td><td>Adams</td><td>null</td><td>2</td></tr><tr><td>Mark</td><td>Mcloughlin</td><td>null</td><td>2</td></tr><tr><td>null</td><td>Mezger</td><td>null</td><td>2</td></tr><tr><td>Brian</td><td>Mcnamee</td><td>null</td><td>2</td></tr><tr><td>Robert</td><td>Brown</td><td>null</td><td>2</td></tr><tr><td>null</td><td>Atkinson</td><td>null</td><td>2</td></tr><tr><td>null</td><td>Wood</td><td>null</td><td>2</td></tr><tr><td>null</td><td>Hennik</td><td>null</td><td>2</td></tr><tr><td>Robert</td><td>Machan</td><td>1.9481018E7</td><td>2</td></tr><tr><td>Greg</td><td>Perkins</td><td>null</td><td>2</td></tr><tr><td>Juan</td><td>Hernandez</td><td>null</td><td>2</td></tr><tr><td>Michael</td><td>Penman</td><td>null</td><td>2</td></tr><tr><td>Michael</td><td>Zoricich</td><td>1.9720307E7</td><td>2</td></tr><tr><td>Julian</td><td>Alonso</td><td>1.9770802E7</td><td>2</td></tr><tr><td>Dick</td><td>Dell</td><td>1.9470929E7</td><td>2</td></tr><tr><td>Nigel</td><td>Orourke</td><td>1.9581007E7</td><td>3</td></tr><tr><td>Luis</td><td>Andreotti</td><td>1.9690123E7</td><td>2</td></tr><tr><td>Tom</td><td>Gorman</td><td>1.9460119E7</td><td>2</td></tr><tr><td>Gavin</td><td>Pfitzner</td><td>1.9660901E7</td><td>2</td></tr><tr><td>Ian</td><td>Crookenden</td><td>1.943121E7</td><td>2</td></tr><tr><td>Karathozuvu</td><td>Ramesh</td><td>1.9640608E7</td><td>2</td></tr><tr><td>Gene</td><td>Russo</td><td>1.9460122E7</td><td>2</td></tr><tr><td>Birger</td><td>Andersson</td><td>1.9510326E7</td><td>2</td></tr><tr><td>Justin</td><td>Mackenzie</td><td>null</td><td>2</td></tr><tr><td>Eugenio</td><td>Castigliano</td><td>1.9460206E7</td><td>2</td></tr><tr><td>Jean Loup</td><td>Rouyer</td><td>1.9450804E7</td><td>2</td></tr><tr><td>John</td><td>Fraser</td><td>1.9350801E7</td><td>2</td></tr><tr><td>Kevin</td><td>Werwie</td><td>1.968083E7</td><td>2</td></tr><tr><td>Alexandru Daniel</td><td>Carpen</td><td>1.9861124E7</td><td>2</td></tr><tr><td>Rafael</td><td>Rangel</td><td>1.9701026E7</td><td>2</td></tr><tr><td>Craig</td><td>Mcinnes</td><td>null</td><td>2</td></tr><tr><td>Robert</td><td>Dunkle</td><td>null</td><td>2</td></tr><tr><td>Hugo</td><td>Varela</td><td>null</td><td>2</td></tr><tr><td>Manuel</td><td>Gasbarri</td><td>1.9720307E7</td><td>2</td></tr><tr><td>David</td><td>Whyte</td><td>null</td><td>2</td></tr><tr><td>Miecyslav</td><td>Rybarczyk</td><td>null</td><td>2</td></tr><tr><td>Janos</td><td>Benyik</td><td>1.9510604E7</td><td>2</td></tr><tr><td>Mauricio</td><td>Aquino</td><td>1.9680331E7</td><td>2</td></tr><tr><td>Vitaliy</td><td>Kachanovskiy</td><td>1.9910412E7</td><td>2</td></tr><tr><td>Kenzo</td><td>Ukon</td><td>null</td><td>2</td></tr><tr><td>Juan Ignacio</td><td>Muntanola</td><td>null</td><td>2</td></tr><tr><td>Douglas</td><td>Palm</td><td>1.9550506E7</td><td>2</td></tr><tr><td>Joe</td><td>Mcdonough</td><td>null</td><td>2</td></tr><tr><td>Lukas</td><td>Thomas</td><td>1.973012E7</td><td>2</td></tr><tr><td>J</td><td>Alvarino</td><td>null</td><td>2</td></tr><tr><td>Tito</td><td>Vazquez</td><td>1.9490101E7</td><td>2</td></tr><tr><td>Richard</td><td>Russell</td><td>1.9450908E7</td><td>2</td></tr><tr><td>H</td><td>Hsu</td><td>null</td><td>2</td></tr><tr><td>Ezio</td><td>Di Matteo</td><td>1.9481102E7</td><td>2</td></tr><tr><td>Luis</td><td>Motivar</td><td>null</td><td>2</td></tr><tr><td>Hernan</td><td>Chousa</td><td>1.9710925E7</td><td>2</td></tr><tr><td>Otto</td><td>Pueski</td><td>null</td><td>2</td></tr><tr><td>Ray</td><td>Kelly</td><td>null</td><td>2</td></tr><tr><td>Andre</td><td>Pinheiro</td><td>1.9881019E7</td><td>2</td></tr><tr><td>Richard</td><td>O'Farrell</td><td>null</td><td>2</td></tr><tr><td>Jean</td><td>Washer</td><td>1.8940822E7</td><td>2</td></tr><tr><td>Lenny</td><td>Schloss</td><td>null</td><td>3</td></tr><tr><td>Jozef</td><td>Hebda</td><td>1.9061007E7</td><td>2</td></tr><tr><td>Roland</td><td>Borghini</td><td>null</td><td>2</td></tr><tr><td>Wallace</td><td>Johnson</td><td>1.8890713E7</td><td>2</td></tr><tr><td>Leopold</td><td>De Borman</td><td>1.9090321E7</td><td>2</td></tr><tr><td>Kamilo</td><td>Keretic</td><td>1.9330419E7</td><td>2</td></tr><tr><td>Franz</td><td>Hainka</td><td>null</td><td>2</td></tr><tr><td>Clemente</td><td>Serventi</td><td>1.8890907E7</td><td>2</td></tr><tr><td>Nelson</td><td>Cruz</td><td>null</td><td>2</td></tr><tr><td>Jose Maria</td><td>Tejada</td><td>null</td><td>2</td></tr><tr><td>Gaston</td><td>Medecin</td><td>null</td><td>2</td></tr><tr><td>Hernando</td><td>Salas</td><td>null</td><td>2</td></tr><tr><td>Cesar</td><td>Carmona</td><td>null</td><td>2</td></tr><tr><td>Edward</td><td>Kleinadel</td><td>null</td><td>2</td></tr><tr><td>Jose</td><td>Villarete</td><td>null</td><td>2</td></tr><tr><td>C</td><td>Cleveland</td><td>null</td><td>2</td></tr><tr><td>Rafael</td><td>Ortega</td><td>null</td><td>2</td></tr><tr><td>Adriano</td><td>Zappa</td><td>null</td><td>2</td></tr><tr><td>Erik</td><td>Bjerre</td><td>null</td><td>2</td></tr><tr><td>Manuel</td><td>Llano</td><td>null</td><td>2</td></tr><tr><td>Erik</td><td>Tegner</td><td>1.8961029E7</td><td>2</td></tr><tr><td>William</td><td>Alvarez</td><td>1.9341215E7</td><td>2</td></tr><tr><td>Henning</td><td>Larsen</td><td>null</td><td>2</td></tr><tr><td>Ludwig</td><td>Krijt</td><td>null</td><td>2</td></tr><tr><td>Ignacio</td><td>De La Borbolla</td><td>null</td><td>2</td></tr><tr><td>Jose</td><td>Antelo</td><td>1.9820703E7</td><td>2</td></tr><tr><td>Georges</td><td>Grange</td><td>null</td><td>2</td></tr><tr><td>Enrique</td><td>Obarrio</td><td>null</td><td>2</td></tr><tr><td>Jack</td><td>Jackson</td><td>null</td><td>2</td></tr><tr><td>Andre</td><td>Ewbank</td><td>null</td><td>2</td></tr><tr><td>Shaun</td><td>O'Donovan</td><td>1.968101E7</td><td>2</td></tr><tr><td>Jin</td><td>Ho</td><td>null</td><td>2</td></tr><tr><td>Gino</td><td>Mezzi</td><td>null</td><td>2</td></tr><tr><td>Jost</td><td>Spitzer</td><td>1.9190905E7</td><td>2</td></tr><tr><td>Omar</td><td>Pabst</td><td>null</td><td>2</td></tr><tr><td>Georges</td><td>Watson</td><td>null</td><td>2</td></tr><tr><td>Zoltan</td><td>Katona</td><td>null</td><td>2</td></tr><tr><td>Richard</td><td>Anderson</td><td>null</td><td>2</td></tr><tr><td>Lucilo</td><td>Del Castillo</td><td>null</td><td>2</td></tr><tr><td>Ernest</td><td>Black</td><td>null</td><td>2</td></tr><tr><td>Adrian</td><td>Quist</td><td>1.9130123E7</td><td>2</td></tr><tr><td>Guillermo</td><td>Aragon</td><td>null</td><td>2</td></tr><tr><td>A</td><td>Riches</td><td>null</td><td>2</td></tr><tr><td>Ivie</td><td>Richardson</td><td>1.8950116E7</td><td>2</td></tr><tr><td>Angel</td><td>Roldan</td><td>null</td><td>2</td></tr><tr><td>Hans</td><td>Huonder</td><td>null</td><td>2</td></tr><tr><td>Juan</td><td>Weiss</td><td>null</td><td>2</td></tr><tr><td>Placido</td><td>Gaslini</td><td>null</td><td>2</td></tr><tr><td>Carlos</td><td>Ferrer</td><td>null</td><td>2</td></tr><tr><td>Marcel</td><td>Coen</td><td>null</td><td>2</td></tr><tr><td>Ted</td><td>Gorski</td><td>null</td><td>2</td></tr><tr><td>Wai Chuen</td><td>Choy</td><td>null</td><td>2</td></tr><tr><td>Luis</td><td>Carles</td><td>null</td><td>2</td></tr><tr><td>Unknown</td><td>Unknown</td><td>null</td><td>3</td></tr><tr><td>Toshitsugu</td><td>Mori</td><td>1.9691222E7</td><td>2</td></tr><tr><td>Juan Carlos</td><td>Wynter</td><td>null</td><td>2</td></tr><tr><td>Jean Pierre</td><td>Blondel</td><td>null</td><td>2</td></tr><tr><td>Pedro</td><td>Iamachkine</td><td>1.9960403E7</td><td>2</td></tr><tr><td>Srdjan</td><td>Jelic</td><td>null</td><td>2</td></tr><tr><td>Marcelo</td><td>Zormann Da Silva</td><td>1.996061E7</td><td>2</td></tr><tr><td>Nicolas</td><td>Ngodrela</td><td>1.9841006E7</td><td>2</td></tr><tr><td>Ladislav</td><td>Jagec</td><td>null</td><td>2</td></tr><tr><td>Jean Pierre</td><td>Froment</td><td>null</td><td>2</td></tr><tr><td>Carlos</td><td>Caminos</td><td>null</td><td>2</td></tr><tr><td>Liep Tjiauw</td><td>Tan</td><td>null</td><td>2</td></tr><tr><td>Erwin</td><td>Balestra</td><td>null</td><td>2</td></tr><tr><td>Petko</td><td>Milojkovic</td><td>null</td><td>2</td></tr><tr><td>Mahmoud</td><td>Alam</td><td>null</td><td>2</td></tr><tr><td>Heraldo</td><td>Weiss</td><td>null</td><td>2</td></tr><tr><td>Carlos</td><td>Ripoll</td><td>null</td><td>2</td></tr><tr><td>Sebastien</td><td>Ndoumbe Moukouri</td><td>1.9690806E7</td><td>2</td></tr><tr><td>Aj</td><td>Catanzariti</td><td>1.9950821E7</td><td>2</td></tr><tr><td>Adam</td><td>Baworowski</td><td>1.9130809E7</td><td>2</td></tr><tr><td>Santiago</td><td>Moncayo</td><td>1.9780912E7</td><td>2</td></tr><tr><td>Matthew</td><td>Mendez</td><td>1.9951129E7</td><td>3</td></tr><tr><td>Hector</td><td>Chiesa</td><td>null</td><td>2</td></tr><tr><td>Bill</td><td>Brown</td><td>null</td><td>2</td></tr><tr><td>Edoardo</td><td>Cherie Ligniere</td><td>null</td><td>2</td></tr><tr><td>P</td><td>Smith</td><td>null</td><td>2</td></tr><tr><td>Alfred</td><td>Schwartz</td><td>null</td><td>2</td></tr><tr><td>Peter</td><td>Becroft</td><td>null</td><td>2</td></tr><tr><td>Emery</td><td>Neale</td><td>null</td><td>2</td></tr><tr><td>Dave</td><td>Shibley</td><td>null</td><td>2</td></tr><tr><td>Dezso</td><td>Vad</td><td>null</td><td>2</td></tr><tr><td>Kalman</td><td>Feher</td><td>null</td><td>2</td></tr><tr><td>Robert</td><td>Shelton</td><td>null</td><td>2</td></tr><tr><td>Jeremy</td><td>Jin</td><td>2.0040627E7</td><td>2</td></tr><tr><td>Bob</td><td>Powell</td><td>null</td><td>2</td></tr><tr><td>Neville</td><td>Nette</td><td>null</td><td>2</td></tr><tr><td>Don</td><td>Lawrie</td><td>null</td><td>2</td></tr><tr><td>Tommaso</td><td>Compagnucci</td><td>1.9991105E7</td><td>2</td></tr><tr><td>null</td><td>Taylor</td><td>null</td><td>2</td></tr><tr><td>George</td><td>Wrenn</td><td>1.8650702E7</td><td>2</td></tr><tr><td>Don</td><td>Candy</td><td>1.9290331E7</td><td>2</td></tr><tr><td>Ronan</td><td>Fearon</td><td>null</td><td>2</td></tr><tr><td>Don</td><td>Turner</td><td>1.9490412E7</td><td>2</td></tr><tr><td>Bjorn</td><td>Thalbitzer</td><td>1.8951213E7</td><td>2</td></tr><tr><td>Andy</td><td>Lloyd</td><td>null</td><td>2</td></tr><tr><td>Noel Galway</td><td>Holmes</td><td>null</td><td>2</td></tr><tr><td>Francisco</td><td>Gallardo</td><td>null</td><td>2</td></tr><tr><td>Werner</td><td>Steiner</td><td>null</td><td>2</td></tr><tr><td>Antonio</td><td>Martinez</td><td>null</td><td>2</td></tr><tr><td>Jack</td><td>Tesch</td><td>null</td><td>2</td></tr><tr><td>Bert</td><td>Leach</td><td>null</td><td>2</td></tr><tr><td>null</td><td>Moore</td><td>null</td><td>4</td></tr><tr><td>Paul</td><td>Hearnden</td><td>null</td><td>2</td></tr><tr><td>Jakub</td><td>Mensik</td><td>2.0050901E7</td><td>2</td></tr><tr><td>Pedro</td><td>Barrios</td><td>null</td><td>2</td></tr><tr><td>Luca</td><td>Wiedenmann</td><td>1.9980428E7</td><td>2</td></tr><tr><td>Michele</td><td>Vianello</td><td>2.0010103E7</td><td>2</td></tr><tr><td>R W</td><td>Davies</td><td>null</td><td>2</td></tr><tr><td>Hans</td><td>Pfaff</td><td>null</td><td>2</td></tr><tr><td>A</td><td>Macdonald</td><td>null</td><td>2</td></tr><tr><td>Romain</td><td>Faucon</td><td>2.0020904E7</td><td>2</td></tr><tr><td>B</td><td>Johnston</td><td>null</td><td>2</td></tr><tr><td>Aaron</td><td>Cohen</td><td>2.0020821E7</td><td>2</td></tr><tr><td>Don</td><td>Gale</td><td>null</td><td>2</td></tr><tr><td>Fernando</td><td>Olozaga</td><td>null</td><td>2</td></tr><tr><td>Larry</td><td>Axtell</td><td>null</td><td>2</td></tr><tr><td>Tristan</td><td>Mccormick</td><td>1.9990401E7</td><td>2</td></tr><tr><td>Mihaly</td><td>Csikos</td><td>null</td><td>2</td></tr><tr><td>null</td><td>Parker</td><td>null</td><td>2</td></tr><tr><td>Toby Alex</td><td>Kodat</td><td>2.0030113E7</td><td>2</td></tr><tr><td>Maurice</td><td>Ferrier</td><td>1.9011108E7</td><td>2</td></tr><tr><td>Victor Hugo</td><td>Nunez Mendoza</td><td>2.0000128E7</td><td>2</td></tr><tr><td>Warren</td><td>Fulgenzi</td><td>1.9681122E7</td><td>2</td></tr><tr><td>Jim</td><td>Farrin</td><td>null</td><td>2</td></tr><tr><td>David</td><td>O'Hare</td><td>1.9900601E7</td><td>2</td></tr><tr><td>Peter</td><td>Harris</td><td>null</td><td>2</td></tr><tr><td>Dick</td><td>Potter</td><td>null</td><td>2</td></tr><tr><td>Ian</td><td>Hewitt</td><td>null</td><td>2</td></tr><tr><td>William</td><td>Tym</td><td>null</td><td>2</td></tr><tr><td>Lazaros</td><td>Stalios</td><td>null</td><td>2</td></tr><tr><td>Mike</td><td>Prineas</td><td>null</td><td>2</td></tr><tr><td>Chum</td><td>Steele Iii</td><td>1.9440216E7</td><td>2</td></tr><tr><td>Alfred</td><td>Vinton</td><td>null</td><td>2</td></tr><tr><td>John</td><td>Stephens</td><td>null</td><td>2</td></tr><tr><td>Jean Paul</td><td>Vincent</td><td>1.9440302E7</td><td>2</td></tr><tr><td>John</td><td>Blizard</td><td>null</td><td>2</td></tr><tr><td>Fred</td><td>Mcnair Iii</td><td>null</td><td>2</td></tr><tr><td>Clive</td><td>Brebnor</td><td>1.9430212E7</td><td>2</td></tr><tr><td>Carl</td><td>Fischer</td><td>null</td><td>2</td></tr><tr><td>Jack</td><td>Rodgers</td><td>null</td><td>2</td></tr><tr><td>Geoffrey</td><td>Hammond</td><td>null</td><td>2</td></tr><tr><td>Jim</td><td>Buck</td><td>null</td><td>2</td></tr><tr><td>Bernie</td><td>Friedman</td><td>null</td><td>2</td></tr><tr><td>Lloyd</td><td>Moglen</td><td>null</td><td>2</td></tr><tr><td>Witold</td><td>Meres</td><td>1.9500412E7</td><td>2</td></tr><tr><td>Peter</td><td>Van Lingen</td><td>1.9430208E7</td><td>2</td></tr><tr><td>Atet</td><td>Wijono</td><td>1.9510311E7</td><td>2</td></tr><tr><td>Will</td><td>Coghlan</td><td>null</td><td>3</td></tr><tr><td>Pedro</td><td>Garriga Nogues</td><td>null</td><td>2</td></tr><tr><td>E</td><td>Salmond</td><td>null</td><td>2</td></tr><tr><td>D</td><td>Meyer</td><td>null</td><td>2</td></tr><tr><td>John</td><td>Mcmanus</td><td>null</td><td>2</td></tr><tr><td>Glenn</td><td>Mccoll</td><td>null</td><td>2</td></tr><tr><td>Peter</td><td>Cawthorn</td><td>null</td><td>2</td></tr><tr><td>Bill</td><td>Davis</td><td>null</td><td>2</td></tr><tr><td>Jim</td><td>Bentley</td><td>null</td><td>2</td></tr><tr><td>Rohan</td><td>Summers</td><td>null</td><td>2</td></tr><tr><td>Enrique</td><td>Buse</td><td>null</td><td>2</td></tr><tr><td>Derek</td><td>Capell</td><td>null</td><td>2</td></tr><tr><td>Tony</td><td>Bujan</td><td>1.9700911E7</td><td>2</td></tr><tr><td>Bernard</td><td>Boutboul</td><td>null</td><td>2</td></tr><tr><td>Zdravko</td><td>Mincek</td><td>null</td><td>2</td></tr><tr><td>James</td><td>Brown</td><td>null</td><td>3</td></tr><tr><td>Bill</td><td>Robertson</td><td>null</td><td>2</td></tr><tr><td>C F</td><td>Watson Jr</td><td>null</td><td>2</td></tr><tr><td>null</td><td>Lewis</td><td>null</td><td>2</td></tr><tr><td>R</td><td>Anderson</td><td>null</td><td>2</td></tr><tr><td>Zack</td><td>Mccourt</td><td>1.992122E7</td><td>2</td></tr><tr><td>null</td><td>Patterson</td><td>null</td><td>3</td></tr><tr><td>null</td><td>Thompson</td><td>null</td><td>3</td></tr><tr><td>John</td><td>Edmond</td><td>null</td><td>2</td></tr><tr><td>Raul</td><td>Contreras</td><td>1.9430916E7</td><td>2</td></tr><tr><td>S</td><td>Smith</td><td>null</td><td>2</td></tr><tr><td>null</td><td>Ferrero</td><td>null</td><td>2</td></tr><tr><td>null</td><td>Gomez</td><td>null</td><td>2</td></tr><tr><td>G R</td><td>Smith</td><td>null</td><td>2</td></tr><tr><td>Jorge</td><td>Solano</td><td>null</td><td>2</td></tr><tr><td>Bob</td><td>Luxembourg</td><td>null</td><td>2</td></tr><tr><td>null</td><td>Zapata</td><td>null</td><td>2</td></tr><tr><td>null</td><td>Bradley</td><td>null</td><td>2</td></tr><tr><td>null</td><td>Vicens</td><td>null</td><td>2</td></tr><tr><td>null</td><td>Edwards</td><td>null</td><td>2</td></tr><tr><td>null</td><td>Rogers</td><td>null</td><td>2</td></tr><tr><td>Hugh</td><td>Orourke</td><td>null</td><td>2</td></tr><tr><td>Eugene</td><td>Russo</td><td>null</td><td>2</td></tr><tr><td>null</td><td>Vaughn</td><td>null</td><td>2</td></tr><tr><td>null</td><td>Henderson</td><td>null</td><td>2</td></tr><tr><td>null</td><td>Brown</td><td>null</td><td>2</td></tr><tr><td>null</td><td>Mezquita</td><td>null</td><td>2</td></tr><tr><td>R K</td><td>Tomlin Jr</td><td>null</td><td>2</td></tr><tr><td>null</td><td>De Mattei</td><td>null</td><td>2</td></tr><tr><td>null</td><td>Ellis</td><td>null</td><td>2</td></tr><tr><td>F</td><td>Hardcastle Jr</td><td>null</td><td>2</td></tr><tr><td>null</td><td>Bryan</td><td>null</td><td>2</td></tr><tr><td>Juan Ignacio</td><td>Muntanola Vilamela</td><td>null</td><td>2</td></tr><tr><td>null</td><td>Wills</td><td>null</td><td>2</td></tr><tr><td>null</td><td>Lawrence</td><td>null</td><td>2</td></tr><tr><td>J</td><td>Micelli</td><td>null</td><td>2</td></tr><tr><td>R</td><td>Preston</td><td>null</td><td>2</td></tr></tbody></table></div>"
      ]
     },
     "metadata": {
      "application/vnd.databricks.v1+output": {
       "addedWidgets": {},
       "aggData": [],
       "aggError": "",
       "aggOverflow": false,
       "aggSchema": [],
       "aggSeriesLimitReached": false,
       "aggType": "",
       "arguments": {},
       "columnCustomDisplayInfos": {},
       "data": [
        [
         "Kenichi",
         "Kiyomiya",
         1.9671101E7,
         2
        ],
        [
         "Juan",
         "Jimenez",
         null,
         2
        ],
        [
         "Attila",
         "Korpas",
         1.9450901E7,
         2
        ],
        [
         "P",
         "Quilichini",
         null,
         2
        ],
        [
         "Phillip",
         "Williamson",
         1.9650529E7,
         2
        ],
        [
         "Jose",
         "Tort",
         null,
         2
        ],
        [
         "Fabiano",
         "Mintz",
         1.9750516E7,
         2
        ],
        [
         "Jean Pierre",
         "Olivier",
         null,
         2
        ],
        [
         "Gaston",
         "Naon",
         1.9700925E7,
         2
        ],
        [
         "Kurt",
         "Robinson",
         1.9660301E7,
         2
        ],
        [
         "Dragan",
         "Savic",
         null,
         2
        ],
        [
         "Kent",
         "Seton",
         1.9701005E7,
         2
        ],
        [
         "Ben",
         "Bishop",
         null,
         2
        ],
        [
         "Mariano",
         "Pettigrosso",
         1.9800201E7,
         2
        ],
        [
         "Tony",
         "Bardsley",
         1.9450209E7,
         2
        ],
        [
         "Deon",
         "Joubert",
         1.9530619E7,
         2
        ],
        [
         "Justin",
         "Stead",
         1.9670705E7,
         2
        ],
        [
         "Michael",
         "Roberts",
         1.9700929E7,
         2
        ],
        [
         "Martin",
         "Dionne",
         1.9711115E7,
         2
        ],
        [
         "Mark",
         "Andrews",
         null,
         2
        ],
        [
         "Christian",
         "Kuhnke",
         1.9390413E7,
         2
        ],
        [
         "Peter",
         "Gerads",
         null,
         2
        ],
        [
         "Francisco",
         "Mastelli",
         1.952033E7,
         2
        ],
        [
         "Graeme",
         "Thomson",
         null,
         2
        ],
        [
         "Ben",
         "Knapp",
         null,
         2
        ],
        [
         "Mark",
         "Greenan",
         1.966063E7,
         2
        ],
        [
         "Matthew",
         "Macmahon",
         1.9720822E7,
         2
        ],
        [
         "Crawford",
         "Henry",
         1.937053E7,
         2
        ],
        [
         "Jean",
         "Desdunes",
         null,
         2
        ],
        [
         "Miguel",
         "Jimenez",
         null,
         2
        ],
        [
         "Marco",
         "Gudino",
         1.9720223E7,
         2
        ],
        [
         "Marcos",
         "Fernandes",
         1.9650208E7,
         2
        ],
        [
         "Howard",
         "Mcguiness",
         null,
         2
        ],
        [
         "Nuno",
         "Mota",
         1.9680609E7,
         2
        ],
        [
         "John",
         "Mclean",
         null,
         2
        ],
        [
         "Terry",
         "Ryan",
         1.9420427E7,
         2
        ],
        [
         "Felipe",
         "Lemos",
         1.983111E7,
         2
        ],
        [
         "Massimo",
         "Di Domenico",
         1.9451215E7,
         2
        ],
        [
         "Federico",
         "Pierini",
         1.9720805E7,
         2
        ],
        [
         "Jorge",
         "Vila",
         null,
         2
        ],
        [
         "Rich",
         "Benson",
         1.9670522E7,
         2
        ],
        [
         "Kelvin",
         "Maclean",
         null,
         2
        ],
        [
         "Luciano",
         "Dandrea",
         null,
         2
        ],
        [
         "Jan",
         "Krajcik",
         1.9240116E7,
         2
        ],
        [
         "Guy",
         "Cheng",
         null,
         2
        ],
        [
         "Jack",
         "Condon",
         1.9030909E7,
         2
        ],
        [
         "Paul",
         "Kong",
         null,
         2
        ],
        [
         "Henri",
         "Rochon",
         1.9240312E7,
         2
        ],
        [
         "Wolfgang",
         "Spannagel",
         null,
         2
        ],
        [
         "Gaetan",
         "Koenig",
         1.9341107E7,
         2
        ],
        [
         "Jean",
         "Wuarin",
         null,
         2
        ],
        [
         "Max",
         "Albrecht",
         null,
         2
        ],
        [
         "Paul",
         "De Borman",
         1.8791201E7,
         2
        ],
        [
         "Loutfalla",
         "Wahid",
         null,
         2
        ],
        [
         "Rolando",
         "Vega",
         null,
         2
        ],
        [
         "Alfonso",
         "Unda",
         null,
         2
        ],
        [
         "Ivko",
         "Plecevic",
         null,
         2
        ],
        [
         "Lawrence",
         "Shaffi",
         null,
         2
        ],
        [
         "Willem",
         "Karsten",
         null,
         2
        ],
        [
         "George",
         "Lewis",
         null,
         2
        ],
        [
         "Gustav",
         "Specht",
         null,
         2
        ],
        [
         "Mario",
         "Szavoszt",
         null,
         2
        ],
        [
         "Chew Bee",
         "Ong",
         null,
         2
        ],
        [
         "Gregg",
         "Prudhomme",
         1.9700624E7,
         2
        ],
        [
         "Donald",
         "Mcdiarmid",
         null,
         2
        ],
        [
         "Ahmed",
         "Shukry",
         null,
         2
        ],
        [
         "Alberto",
         "Del Bono",
         null,
         2
        ],
        [
         "Rolf",
         "Kinzl",
         1.8781019E7,
         2
        ],
        [
         "Maas",
         "Van Der Feen",
         1.8880201E7,
         2
        ],
        [
         "Gheorghe",
         "Viziru",
         null,
         2
        ],
        [
         "Lamar",
         "Roemer",
         1.9460401E7,
         2
        ],
        [
         "Jacques",
         "Van Den Eynde",
         null,
         2
        ],
        [
         "Walter",
         "Martin",
         null,
         2
        ],
        [
         "Fred",
         "Berli",
         null,
         2
        ],
        [
         "R",
         "Johnson",
         null,
         2
        ],
        [
         "Gustavo",
         "Castillo",
         null,
         2
        ],
        [
         "Elek",
         "Straub",
         null,
         2
        ],
        [
         "Guy",
         "Van Zuylen",
         null,
         2
        ],
        [
         "Felipe",
         "Dannunzio",
         1.997013E7,
         2
        ],
        [
         null,
         null,
         null,
         46
        ],
        [
         "Christoph",
         "Biederlack",
         null,
         2
        ],
        [
         "Antal",
         "Jancso",
         1.9341028E7,
         2
        ],
        [
         "Emanuele",
         "Sertorio",
         null,
         2
        ],
        [
         "Carlos Andres",
         "Carrera Hidalgo",
         1.993123E7,
         2
        ],
        [
         "Song Kean",
         "Tan",
         null,
         2
        ],
        [
         "Carlos",
         "Ponce De Leon",
         null,
         3
        ],
        [
         "Sebastian",
         "Harreguy",
         null,
         2
        ],
        [
         "Paul",
         "Brick",
         null,
         2
        ],
        [
         "Gyorgy",
         "Dungyersky",
         null,
         2
        ],
        [
         "Kazimierz",
         "Tarlowski",
         null,
         2
        ],
        [
         "Hugh",
         "Stewart",
         1.9280524E7,
         2
        ],
        [
         null,
         "Unknown",
         null,
         2
        ],
        [
         "William",
         "Kyriakos",
         1.9720903E7,
         2
        ],
        [
         "Michael",
         "Reynolds",
         null,
         2
        ],
        [
         "Jakub",
         "Nicod",
         2.0040721E7,
         2
        ],
        [
         "Martin",
         "Landaluce",
         2.0060108E7,
         2
        ],
        [
         "Rob",
         "Kilderry",
         null,
         2
        ],
        [
         "P",
         "Mortoire",
         null,
         2
        ],
        [
         "John",
         "Ross",
         null,
         2
        ],
        [
         "Mike",
         "Reilly",
         null,
         2
        ],
        [
         "Sean",
         "Hodkin",
         1.9981031E7,
         2
        ],
        [
         null,
         "Pick",
         null,
         2
        ],
        [
         "Milledge",
         "Cossu",
         null,
         2
        ],
        [
         "Vuk",
         "Budic",
         1.9980511E7,
         2
        ],
        [
         "Gordon",
         "Smith",
         null,
         2
        ],
        [
         "Luis Mauricio",
         "Bonilla",
         1.9971203E7,
         2
        ],
        [
         "Gary",
         "Cruth",
         null,
         2
        ],
        [
         "Dan",
         "Martin",
         1.9990509E7,
         3
        ],
        [
         "Bruno",
         "Kuzuhara",
         2.0040401E7,
         2
        ],
        [
         "Fernando",
         "Vasconcelos",
         null,
         2
        ],
        [
         "Arklon",
         "Huertas Del Pino",
         1.9940716E7,
         2
        ],
        [
         "Lautaro",
         "Midon",
         2.0040329E7,
         2
        ],
        [
         "Sven",
         "Ginman",
         null,
         2
        ],
        [
         "William",
         "Jansen",
         2.0041206E7,
         2
        ],
        [
         "Frank",
         "Harris",
         null,
         2
        ],
        [
         "James",
         "Flanagan",
         null,
         2
        ],
        [
         "Budiman",
         "Aznar",
         null,
         2
        ],
        [
         "Arnold",
         "Saul",
         null,
         2
        ],
        [
         "Stefan",
         "Loncar",
         null,
         2
        ],
        [
         "Bill",
         "Cantrell",
         null,
         2
        ],
        [
         "Ian",
         "Middleton",
         null,
         2
        ],
        [
         "C R",
         "Evans",
         null,
         2
        ],
        [
         "Gustavo",
         "Teisen Pereira",
         2.0000602E7,
         2
        ],
        [
         "A",
         "Ferguson",
         null,
         3
        ],
        [
         "Matteo",
         "Gigante",
         2.0020104E7,
         2
        ],
        [
         "D",
         "Smith",
         null,
         2
        ],
        [
         "Grant",
         "Kerr",
         null,
         2
        ],
        [
         "Cedric",
         "Mason",
         null,
         2
        ],
        [
         "Russell",
         "Phillips",
         null,
         2
        ],
        [
         "Salvador",
         "Cabeza",
         null,
         2
        ],
        [
         "Wally",
         "Bostick",
         null,
         2
        ],
        [
         "Roland",
         "So",
         1.9660622E7,
         2
        ],
        [
         "Stanley",
         "Bellows",
         null,
         2
        ],
        [
         "Peter",
         "Witt",
         null,
         2
        ],
        [
         "Glenn",
         "Gardner",
         null,
         2
        ],
        [
         "Merrill",
         "Ehmke",
         null,
         2
        ],
        [
         "Roger",
         "Danet",
         null,
         2
        ],
        [
         "Peter",
         "Macdonald",
         null,
         2
        ],
        [
         "Peter",
         "Richardson",
         null,
         2
        ],
        [
         "Jack",
         "Mahoney",
         null,
         2
        ],
        [
         "Bela",
         "Von Kehrling",
         1.8910125E7,
         2
        ],
        [
         "J",
         "Andreu",
         null,
         2
        ],
        [
         "Kimbark",
         "Peterson",
         null,
         2
        ],
        [
         "Ray",
         "Wilson",
         null,
         2
        ],
        [
         "Paul",
         "Sullivan",
         1.9410417E7,
         2
        ],
        [
         "Mel",
         "Baleson",
         null,
         2
        ],
        [
         "Clint",
         "Nettleton",
         null,
         2
        ],
        [
         "Scott",
         "Clark",
         1.9770505E7,
         2
        ],
        [
         "Marco Aurelio",
         "Nunez",
         1.9930521E7,
         2
        ],
        [
         "Vincenzo",
         "Franchitti",
         1.9500522E7,
         2
        ],
        [
         "Larry",
         "Huebner",
         null,
         2
        ],
        [
         "Doug",
         "Smith",
         null,
         2
        ],
        [
         "Philippe",
         "Poullain",
         null,
         2
        ],
        [
         "Thomas",
         "Prerovsky",
         1.9690215E7,
         2
        ],
        [
         "John",
         "Baker",
         null,
         3
        ],
        [
         "Stewart",
         "Waller",
         null,
         2
        ],
        [
         "Sam",
         "Lee",
         null,
         2
        ],
        [
         "Ned",
         "Weld",
         null,
         3
        ],
        [
         "John",
         "McDonald",
         1.9310402E7,
         2
        ],
        [
         "Fergus",
         "Reid",
         null,
         2
        ],
        [
         "Hugh",
         "Ditzler",
         null,
         2
        ],
        [
         "Roy",
         "Allen",
         1.8681228E7,
         2
        ],
        [
         "Shamil",
         "Tarpischev",
         1.9480307E7,
         2
        ],
        [
         "Derek",
         "Collins",
         1.9301005E7,
         2
        ],
        [
         "Brian",
         "Bowman",
         null,
         2
        ],
        [
         "Jeff",
         "Podesta",
         null,
         2
        ],
        [
         "Vittorio",
         "Crotta",
         1.9460412E7,
         2
        ],
        [
         "Leo",
         "Maxse",
         1.8641211E7,
         2
        ],
        [
         "Rod",
         "Brent",
         null,
         2
        ],
        [
         "Doug",
         "Reid",
         null,
         2
        ],
        [
         "R",
         "Rogers",
         null,
         2
        ],
        [
         "Bob",
         "Dekkers",
         null,
         2
        ],
        [
         "H",
         "Cox",
         null,
         2
        ],
        [
         null,
         "Davidson",
         null,
         2
        ],
        [
         "Roger",
         "Jones",
         null,
         2
        ],
        [
         null,
         "Richards",
         null,
         3
        ],
        [
         "R",
         "Wilson",
         null,
         2
        ],
        [
         null,
         "Corradi",
         null,
         2
        ],
        [
         "R",
         "Smith",
         null,
         2
        ],
        [
         "Gordon",
         "Campbell",
         null,
         2
        ],
        [
         null,
         "Wayne",
         null,
         3
        ],
        [
         "Ray",
         "Smith",
         null,
         2
        ],
        [
         null,
         "Bowker",
         null,
         2
        ],
        [
         null,
         "Wyatt",
         null,
         2
        ],
        [
         null,
         "Davis",
         null,
         3
        ],
        [
         null,
         "Agger",
         null,
         2
        ],
        [
         "Hameed",
         "Ul Haq",
         null,
         2
        ],
        [
         "Paul",
         "O'Donoghue",
         null,
         2
        ],
        [
         null,
         "Segun",
         null,
         2
        ],
        [
         "D",
         "Woods",
         null,
         2
        ],
        [
         null,
         "Coffin",
         null,
         2
        ],
        [
         "J",
         "Adams",
         null,
         2
        ],
        [
         "Mark",
         "Mcloughlin",
         null,
         2
        ],
        [
         null,
         "Mezger",
         null,
         2
        ],
        [
         "Brian",
         "Mcnamee",
         null,
         2
        ],
        [
         "Robert",
         "Brown",
         null,
         2
        ],
        [
         null,
         "Atkinson",
         null,
         2
        ],
        [
         null,
         "Wood",
         null,
         2
        ],
        [
         null,
         "Hennik",
         null,
         2
        ],
        [
         "Robert",
         "Machan",
         1.9481018E7,
         2
        ],
        [
         "Greg",
         "Perkins",
         null,
         2
        ],
        [
         "Juan",
         "Hernandez",
         null,
         2
        ],
        [
         "Michael",
         "Penman",
         null,
         2
        ],
        [
         "Michael",
         "Zoricich",
         1.9720307E7,
         2
        ],
        [
         "Julian",
         "Alonso",
         1.9770802E7,
         2
        ],
        [
         "Dick",
         "Dell",
         1.9470929E7,
         2
        ],
        [
         "Nigel",
         "Orourke",
         1.9581007E7,
         3
        ],
        [
         "Luis",
         "Andreotti",
         1.9690123E7,
         2
        ],
        [
         "Tom",
         "Gorman",
         1.9460119E7,
         2
        ],
        [
         "Gavin",
         "Pfitzner",
         1.9660901E7,
         2
        ],
        [
         "Ian",
         "Crookenden",
         1.943121E7,
         2
        ],
        [
         "Karathozuvu",
         "Ramesh",
         1.9640608E7,
         2
        ],
        [
         "Gene",
         "Russo",
         1.9460122E7,
         2
        ],
        [
         "Birger",
         "Andersson",
         1.9510326E7,
         2
        ],
        [
         "Justin",
         "Mackenzie",
         null,
         2
        ],
        [
         "Eugenio",
         "Castigliano",
         1.9460206E7,
         2
        ],
        [
         "Jean Loup",
         "Rouyer",
         1.9450804E7,
         2
        ],
        [
         "John",
         "Fraser",
         1.9350801E7,
         2
        ],
        [
         "Kevin",
         "Werwie",
         1.968083E7,
         2
        ],
        [
         "Alexandru Daniel",
         "Carpen",
         1.9861124E7,
         2
        ],
        [
         "Rafael",
         "Rangel",
         1.9701026E7,
         2
        ],
        [
         "Craig",
         "Mcinnes",
         null,
         2
        ],
        [
         "Robert",
         "Dunkle",
         null,
         2
        ],
        [
         "Hugo",
         "Varela",
         null,
         2
        ],
        [
         "Manuel",
         "Gasbarri",
         1.9720307E7,
         2
        ],
        [
         "David",
         "Whyte",
         null,
         2
        ],
        [
         "Miecyslav",
         "Rybarczyk",
         null,
         2
        ],
        [
         "Janos",
         "Benyik",
         1.9510604E7,
         2
        ],
        [
         "Mauricio",
         "Aquino",
         1.9680331E7,
         2
        ],
        [
         "Vitaliy",
         "Kachanovskiy",
         1.9910412E7,
         2
        ],
        [
         "Kenzo",
         "Ukon",
         null,
         2
        ],
        [
         "Juan Ignacio",
         "Muntanola",
         null,
         2
        ],
        [
         "Douglas",
         "Palm",
         1.9550506E7,
         2
        ],
        [
         "Joe",
         "Mcdonough",
         null,
         2
        ],
        [
         "Lukas",
         "Thomas",
         1.973012E7,
         2
        ],
        [
         "J",
         "Alvarino",
         null,
         2
        ],
        [
         "Tito",
         "Vazquez",
         1.9490101E7,
         2
        ],
        [
         "Richard",
         "Russell",
         1.9450908E7,
         2
        ],
        [
         "H",
         "Hsu",
         null,
         2
        ],
        [
         "Ezio",
         "Di Matteo",
         1.9481102E7,
         2
        ],
        [
         "Luis",
         "Motivar",
         null,
         2
        ],
        [
         "Hernan",
         "Chousa",
         1.9710925E7,
         2
        ],
        [
         "Otto",
         "Pueski",
         null,
         2
        ],
        [
         "Ray",
         "Kelly",
         null,
         2
        ],
        [
         "Andre",
         "Pinheiro",
         1.9881019E7,
         2
        ],
        [
         "Richard",
         "O'Farrell",
         null,
         2
        ],
        [
         "Jean",
         "Washer",
         1.8940822E7,
         2
        ],
        [
         "Lenny",
         "Schloss",
         null,
         3
        ],
        [
         "Jozef",
         "Hebda",
         1.9061007E7,
         2
        ],
        [
         "Roland",
         "Borghini",
         null,
         2
        ],
        [
         "Wallace",
         "Johnson",
         1.8890713E7,
         2
        ],
        [
         "Leopold",
         "De Borman",
         1.9090321E7,
         2
        ],
        [
         "Kamilo",
         "Keretic",
         1.9330419E7,
         2
        ],
        [
         "Franz",
         "Hainka",
         null,
         2
        ],
        [
         "Clemente",
         "Serventi",
         1.8890907E7,
         2
        ],
        [
         "Nelson",
         "Cruz",
         null,
         2
        ],
        [
         "Jose Maria",
         "Tejada",
         null,
         2
        ],
        [
         "Gaston",
         "Medecin",
         null,
         2
        ],
        [
         "Hernando",
         "Salas",
         null,
         2
        ],
        [
         "Cesar",
         "Carmona",
         null,
         2
        ],
        [
         "Edward",
         "Kleinadel",
         null,
         2
        ],
        [
         "Jose",
         "Villarete",
         null,
         2
        ],
        [
         "C",
         "Cleveland",
         null,
         2
        ],
        [
         "Rafael",
         "Ortega",
         null,
         2
        ],
        [
         "Adriano",
         "Zappa",
         null,
         2
        ],
        [
         "Erik",
         "Bjerre",
         null,
         2
        ],
        [
         "Manuel",
         "Llano",
         null,
         2
        ],
        [
         "Erik",
         "Tegner",
         1.8961029E7,
         2
        ],
        [
         "William",
         "Alvarez",
         1.9341215E7,
         2
        ],
        [
         "Henning",
         "Larsen",
         null,
         2
        ],
        [
         "Ludwig",
         "Krijt",
         null,
         2
        ],
        [
         "Ignacio",
         "De La Borbolla",
         null,
         2
        ],
        [
         "Jose",
         "Antelo",
         1.9820703E7,
         2
        ],
        [
         "Georges",
         "Grange",
         null,
         2
        ],
        [
         "Enrique",
         "Obarrio",
         null,
         2
        ],
        [
         "Jack",
         "Jackson",
         null,
         2
        ],
        [
         "Andre",
         "Ewbank",
         null,
         2
        ],
        [
         "Shaun",
         "O'Donovan",
         1.968101E7,
         2
        ],
        [
         "Jin",
         "Ho",
         null,
         2
        ],
        [
         "Gino",
         "Mezzi",
         null,
         2
        ],
        [
         "Jost",
         "Spitzer",
         1.9190905E7,
         2
        ],
        [
         "Omar",
         "Pabst",
         null,
         2
        ],
        [
         "Georges",
         "Watson",
         null,
         2
        ],
        [
         "Zoltan",
         "Katona",
         null,
         2
        ],
        [
         "Richard",
         "Anderson",
         null,
         2
        ],
        [
         "Lucilo",
         "Del Castillo",
         null,
         2
        ],
        [
         "Ernest",
         "Black",
         null,
         2
        ],
        [
         "Adrian",
         "Quist",
         1.9130123E7,
         2
        ],
        [
         "Guillermo",
         "Aragon",
         null,
         2
        ],
        [
         "A",
         "Riches",
         null,
         2
        ],
        [
         "Ivie",
         "Richardson",
         1.8950116E7,
         2
        ],
        [
         "Angel",
         "Roldan",
         null,
         2
        ],
        [
         "Hans",
         "Huonder",
         null,
         2
        ],
        [
         "Juan",
         "Weiss",
         null,
         2
        ],
        [
         "Placido",
         "Gaslini",
         null,
         2
        ],
        [
         "Carlos",
         "Ferrer",
         null,
         2
        ],
        [
         "Marcel",
         "Coen",
         null,
         2
        ],
        [
         "Ted",
         "Gorski",
         null,
         2
        ],
        [
         "Wai Chuen",
         "Choy",
         null,
         2
        ],
        [
         "Luis",
         "Carles",
         null,
         2
        ],
        [
         "Unknown",
         "Unknown",
         null,
         3
        ],
        [
         "Toshitsugu",
         "Mori",
         1.9691222E7,
         2
        ],
        [
         "Juan Carlos",
         "Wynter",
         null,
         2
        ],
        [
         "Jean Pierre",
         "Blondel",
         null,
         2
        ],
        [
         "Pedro",
         "Iamachkine",
         1.9960403E7,
         2
        ],
        [
         "Srdjan",
         "Jelic",
         null,
         2
        ],
        [
         "Marcelo",
         "Zormann Da Silva",
         1.996061E7,
         2
        ],
        [
         "Nicolas",
         "Ngodrela",
         1.9841006E7,
         2
        ],
        [
         "Ladislav",
         "Jagec",
         null,
         2
        ],
        [
         "Jean Pierre",
         "Froment",
         null,
         2
        ],
        [
         "Carlos",
         "Caminos",
         null,
         2
        ],
        [
         "Liep Tjiauw",
         "Tan",
         null,
         2
        ],
        [
         "Erwin",
         "Balestra",
         null,
         2
        ],
        [
         "Petko",
         "Milojkovic",
         null,
         2
        ],
        [
         "Mahmoud",
         "Alam",
         null,
         2
        ],
        [
         "Heraldo",
         "Weiss",
         null,
         2
        ],
        [
         "Carlos",
         "Ripoll",
         null,
         2
        ],
        [
         "Sebastien",
         "Ndoumbe Moukouri",
         1.9690806E7,
         2
        ],
        [
         "Aj",
         "Catanzariti",
         1.9950821E7,
         2
        ],
        [
         "Adam",
         "Baworowski",
         1.9130809E7,
         2
        ],
        [
         "Santiago",
         "Moncayo",
         1.9780912E7,
         2
        ],
        [
         "Matthew",
         "Mendez",
         1.9951129E7,
         3
        ],
        [
         "Hector",
         "Chiesa",
         null,
         2
        ],
        [
         "Bill",
         "Brown",
         null,
         2
        ],
        [
         "Edoardo",
         "Cherie Ligniere",
         null,
         2
        ],
        [
         "P",
         "Smith",
         null,
         2
        ],
        [
         "Alfred",
         "Schwartz",
         null,
         2
        ],
        [
         "Peter",
         "Becroft",
         null,
         2
        ],
        [
         "Emery",
         "Neale",
         null,
         2
        ],
        [
         "Dave",
         "Shibley",
         null,
         2
        ],
        [
         "Dezso",
         "Vad",
         null,
         2
        ],
        [
         "Kalman",
         "Feher",
         null,
         2
        ],
        [
         "Robert",
         "Shelton",
         null,
         2
        ],
        [
         "Jeremy",
         "Jin",
         2.0040627E7,
         2
        ],
        [
         "Bob",
         "Powell",
         null,
         2
        ],
        [
         "Neville",
         "Nette",
         null,
         2
        ],
        [
         "Don",
         "Lawrie",
         null,
         2
        ],
        [
         "Tommaso",
         "Compagnucci",
         1.9991105E7,
         2
        ],
        [
         null,
         "Taylor",
         null,
         2
        ],
        [
         "George",
         "Wrenn",
         1.8650702E7,
         2
        ],
        [
         "Don",
         "Candy",
         1.9290331E7,
         2
        ],
        [
         "Ronan",
         "Fearon",
         null,
         2
        ],
        [
         "Don",
         "Turner",
         1.9490412E7,
         2
        ],
        [
         "Bjorn",
         "Thalbitzer",
         1.8951213E7,
         2
        ],
        [
         "Andy",
         "Lloyd",
         null,
         2
        ],
        [
         "Noel Galway",
         "Holmes",
         null,
         2
        ],
        [
         "Francisco",
         "Gallardo",
         null,
         2
        ],
        [
         "Werner",
         "Steiner",
         null,
         2
        ],
        [
         "Antonio",
         "Martinez",
         null,
         2
        ],
        [
         "Jack",
         "Tesch",
         null,
         2
        ],
        [
         "Bert",
         "Leach",
         null,
         2
        ],
        [
         null,
         "Moore",
         null,
         4
        ],
        [
         "Paul",
         "Hearnden",
         null,
         2
        ],
        [
         "Jakub",
         "Mensik",
         2.0050901E7,
         2
        ],
        [
         "Pedro",
         "Barrios",
         null,
         2
        ],
        [
         "Luca",
         "Wiedenmann",
         1.9980428E7,
         2
        ],
        [
         "Michele",
         "Vianello",
         2.0010103E7,
         2
        ],
        [
         "R W",
         "Davies",
         null,
         2
        ],
        [
         "Hans",
         "Pfaff",
         null,
         2
        ],
        [
         "A",
         "Macdonald",
         null,
         2
        ],
        [
         "Romain",
         "Faucon",
         2.0020904E7,
         2
        ],
        [
         "B",
         "Johnston",
         null,
         2
        ],
        [
         "Aaron",
         "Cohen",
         2.0020821E7,
         2
        ],
        [
         "Don",
         "Gale",
         null,
         2
        ],
        [
         "Fernando",
         "Olozaga",
         null,
         2
        ],
        [
         "Larry",
         "Axtell",
         null,
         2
        ],
        [
         "Tristan",
         "Mccormick",
         1.9990401E7,
         2
        ],
        [
         "Mihaly",
         "Csikos",
         null,
         2
        ],
        [
         null,
         "Parker",
         null,
         2
        ],
        [
         "Toby Alex",
         "Kodat",
         2.0030113E7,
         2
        ],
        [
         "Maurice",
         "Ferrier",
         1.9011108E7,
         2
        ],
        [
         "Victor Hugo",
         "Nunez Mendoza",
         2.0000128E7,
         2
        ],
        [
         "Warren",
         "Fulgenzi",
         1.9681122E7,
         2
        ],
        [
         "Jim",
         "Farrin",
         null,
         2
        ],
        [
         "David",
         "O'Hare",
         1.9900601E7,
         2
        ],
        [
         "Peter",
         "Harris",
         null,
         2
        ],
        [
         "Dick",
         "Potter",
         null,
         2
        ],
        [
         "Ian",
         "Hewitt",
         null,
         2
        ],
        [
         "William",
         "Tym",
         null,
         2
        ],
        [
         "Lazaros",
         "Stalios",
         null,
         2
        ],
        [
         "Mike",
         "Prineas",
         null,
         2
        ],
        [
         "Chum",
         "Steele Iii",
         1.9440216E7,
         2
        ],
        [
         "Alfred",
         "Vinton",
         null,
         2
        ],
        [
         "John",
         "Stephens",
         null,
         2
        ],
        [
         "Jean Paul",
         "Vincent",
         1.9440302E7,
         2
        ],
        [
         "John",
         "Blizard",
         null,
         2
        ],
        [
         "Fred",
         "Mcnair Iii",
         null,
         2
        ],
        [
         "Clive",
         "Brebnor",
         1.9430212E7,
         2
        ],
        [
         "Carl",
         "Fischer",
         null,
         2
        ],
        [
         "Jack",
         "Rodgers",
         null,
         2
        ],
        [
         "Geoffrey",
         "Hammond",
         null,
         2
        ],
        [
         "Jim",
         "Buck",
         null,
         2
        ],
        [
         "Bernie",
         "Friedman",
         null,
         2
        ],
        [
         "Lloyd",
         "Moglen",
         null,
         2
        ],
        [
         "Witold",
         "Meres",
         1.9500412E7,
         2
        ],
        [
         "Peter",
         "Van Lingen",
         1.9430208E7,
         2
        ],
        [
         "Atet",
         "Wijono",
         1.9510311E7,
         2
        ],
        [
         "Will",
         "Coghlan",
         null,
         3
        ],
        [
         "Pedro",
         "Garriga Nogues",
         null,
         2
        ],
        [
         "E",
         "Salmond",
         null,
         2
        ],
        [
         "D",
         "Meyer",
         null,
         2
        ],
        [
         "John",
         "Mcmanus",
         null,
         2
        ],
        [
         "Glenn",
         "Mccoll",
         null,
         2
        ],
        [
         "Peter",
         "Cawthorn",
         null,
         2
        ],
        [
         "Bill",
         "Davis",
         null,
         2
        ],
        [
         "Jim",
         "Bentley",
         null,
         2
        ],
        [
         "Rohan",
         "Summers",
         null,
         2
        ],
        [
         "Enrique",
         "Buse",
         null,
         2
        ],
        [
         "Derek",
         "Capell",
         null,
         2
        ],
        [
         "Tony",
         "Bujan",
         1.9700911E7,
         2
        ],
        [
         "Bernard",
         "Boutboul",
         null,
         2
        ],
        [
         "Zdravko",
         "Mincek",
         null,
         2
        ],
        [
         "James",
         "Brown",
         null,
         3
        ],
        [
         "Bill",
         "Robertson",
         null,
         2
        ],
        [
         "C F",
         "Watson Jr",
         null,
         2
        ],
        [
         null,
         "Lewis",
         null,
         2
        ],
        [
         "R",
         "Anderson",
         null,
         2
        ],
        [
         "Zack",
         "Mccourt",
         1.992122E7,
         2
        ],
        [
         null,
         "Patterson",
         null,
         3
        ],
        [
         null,
         "Thompson",
         null,
         3
        ],
        [
         "John",
         "Edmond",
         null,
         2
        ],
        [
         "Raul",
         "Contreras",
         1.9430916E7,
         2
        ],
        [
         "S",
         "Smith",
         null,
         2
        ],
        [
         null,
         "Ferrero",
         null,
         2
        ],
        [
         null,
         "Gomez",
         null,
         2
        ],
        [
         "G R",
         "Smith",
         null,
         2
        ],
        [
         "Jorge",
         "Solano",
         null,
         2
        ],
        [
         "Bob",
         "Luxembourg",
         null,
         2
        ],
        [
         null,
         "Zapata",
         null,
         2
        ],
        [
         null,
         "Bradley",
         null,
         2
        ],
        [
         null,
         "Vicens",
         null,
         2
        ],
        [
         null,
         "Edwards",
         null,
         2
        ],
        [
         null,
         "Rogers",
         null,
         2
        ],
        [
         "Hugh",
         "Orourke",
         null,
         2
        ],
        [
         "Eugene",
         "Russo",
         null,
         2
        ],
        [
         null,
         "Vaughn",
         null,
         2
        ],
        [
         null,
         "Henderson",
         null,
         2
        ],
        [
         null,
         "Brown",
         null,
         2
        ],
        [
         null,
         "Mezquita",
         null,
         2
        ],
        [
         "R K",
         "Tomlin Jr",
         null,
         2
        ],
        [
         null,
         "De Mattei",
         null,
         2
        ],
        [
         null,
         "Ellis",
         null,
         2
        ],
        [
         "F",
         "Hardcastle Jr",
         null,
         2
        ],
        [
         null,
         "Bryan",
         null,
         2
        ],
        [
         "Juan Ignacio",
         "Muntanola Vilamela",
         null,
         2
        ],
        [
         null,
         "Wills",
         null,
         2
        ],
        [
         null,
         "Lawrence",
         null,
         2
        ],
        [
         "J",
         "Micelli",
         null,
         2
        ],
        [
         "R",
         "Preston",
         null,
         2
        ]
       ],
       "datasetInfos": [],
       "dbfsResultPath": null,
       "isJsonSchema": true,
       "metadata": {},
       "overflow": false,
       "plotOptions": {
        "customPlotOptions": {},
        "displayType": "table",
        "pivotAggregation": null,
        "pivotColumns": null,
        "xColumns": null,
        "yColumns": null
       },
       "removedWidgets": [],
       "schema": [
        {
         "metadata": "{}",
         "name": "name_first",
         "type": "\"string\""
        },
        {
         "metadata": "{}",
         "name": "name_last",
         "type": "\"string\""
        },
        {
         "metadata": "{}",
         "name": "dob",
         "type": "\"double\""
        },
        {
         "metadata": "{}",
         "name": "count_duplicados",
         "type": "\"long\""
        }
       ],
       "type": "table"
      }
     },
     "output_type": "display_data"
    }
   ],
   "source": [
    "%sql\n",
    "SELECT \n",
    "    name_first, \n",
    "    name_last, \n",
    "    dob,\n",
    "    COUNT(*) as count_duplicados\n",
    "FROM \n",
    "    raw.players\n",
    "GROUP BY \n",
    "    name_first, \n",
    "    name_last,\n",
    "    dob\n",
    "HAVING \n",
    "    COUNT(*) > 1;\n"
   ]
  },
  {
   "cell_type": "code",
   "execution_count": 0,
   "metadata": {
    "application/vnd.databricks.v1+cell": {
     "cellMetadata": {
      "byteLimit": 2048000,
      "implicitDf": true,
      "rowLimit": 10000
     },
     "inputWidgets": {},
     "nuid": "f22888b1-ddee-45c6-b231-4bee71c24a12",
     "showTitle": false,
     "tableResultSettingsMap": {},
     "title": ""
    }
   },
   "outputs": [
    {
     "output_type": "display_data",
     "data": {
      "text/html": [
       "<style scoped>\n",
       "  .table-result-container {\n",
       "    max-height: 300px;\n",
       "    overflow: auto;\n",
       "  }\n",
       "  table, th, td {\n",
       "    border: 1px solid black;\n",
       "    border-collapse: collapse;\n",
       "  }\n",
       "  th, td {\n",
       "    padding: 5px;\n",
       "  }\n",
       "  th {\n",
       "    text-align: left;\n",
       "  }\n",
       "</style><div class='table-result-container'><table class='table-result'><thead style='background-color: white'><tr><th>player_id</th><th>name_first</th><th>name_last</th><th>hand</th><th>dob</th><th>ioc</th><th>height</th><th>wikidata_id</th></tr></thead><tbody><tr><td>206876</td><td>Dan</td><td>Martin</td><td>U</td><td>1.9990509E7</td><td>CAN</td><td>null</td><td>null</td></tr><tr><td>209399</td><td>Dan</td><td>Martin</td><td>U</td><td>1.9990509E7</td><td>CAN</td><td>null</td><td>null</td></tr><tr><td>202297</td><td>Dan</td><td>Martin</td><td>U</td><td>1.9990509E7</td><td>CAN</td><td>null</td><td>null</td></tr></tbody></table></div>"
      ]
     },
     "metadata": {
      "application/vnd.databricks.v1+output": {
       "addedWidgets": {},
       "aggData": [],
       "aggError": "",
       "aggOverflow": false,
       "aggSchema": [],
       "aggSeriesLimitReached": false,
       "aggType": "",
       "arguments": {},
       "columnCustomDisplayInfos": {},
       "data": [
        [
         206876,
         "Dan",
         "Martin",
         "U",
         1.9990509E7,
         "CAN",
         null,
         null
        ],
        [
         209399,
         "Dan",
         "Martin",
         "U",
         1.9990509E7,
         "CAN",
         null,
         null
        ],
        [
         202297,
         "Dan",
         "Martin",
         "U",
         1.9990509E7,
         "CAN",
         null,
         null
        ]
       ],
       "datasetInfos": [],
       "dbfsResultPath": null,
       "isJsonSchema": true,
       "metadata": {},
       "overflow": false,
       "plotOptions": {
        "customPlotOptions": {},
        "displayType": "table",
        "pivotAggregation": null,
        "pivotColumns": null,
        "xColumns": null,
        "yColumns": null
       },
       "removedWidgets": [],
       "schema": [
        {
         "metadata": "{}",
         "name": "player_id",
         "type": "\"long\""
        },
        {
         "metadata": "{}",
         "name": "name_first",
         "type": "\"string\""
        },
        {
         "metadata": "{}",
         "name": "name_last",
         "type": "\"string\""
        },
        {
         "metadata": "{}",
         "name": "hand",
         "type": "\"string\""
        },
        {
         "metadata": "{}",
         "name": "dob",
         "type": "\"double\""
        },
        {
         "metadata": "{}",
         "name": "ioc",
         "type": "\"string\""
        },
        {
         "metadata": "{}",
         "name": "height",
         "type": "\"double\""
        },
        {
         "metadata": "{}",
         "name": "wikidata_id",
         "type": "\"string\""
        }
       ],
       "type": "table"
      }
     },
     "output_type": "display_data"
    }
   ],
   "source": [
    "%sql\n",
    "select * from raw.players where name_first= \"Dan\" and name_last =\"Martin\""
   ]
  },
  {
   "cell_type": "code",
   "execution_count": 0,
   "metadata": {
    "application/vnd.databricks.v1+cell": {
     "cellMetadata": {
      "byteLimit": 2048000,
      "implicitDf": true,
      "rowLimit": 10000
     },
     "inputWidgets": {},
     "nuid": "3a9452de-f7a8-4be6-befd-7277dca89887",
     "showTitle": false,
     "tableResultSettingsMap": {},
     "title": ""
    }
   },
   "outputs": [
    {
     "output_type": "display_data",
     "data": {
      "text/html": [
       "<style scoped>\n",
       "  .table-result-container {\n",
       "    max-height: 300px;\n",
       "    overflow: auto;\n",
       "  }\n",
       "  table, th, td {\n",
       "    border: 1px solid black;\n",
       "    border-collapse: collapse;\n",
       "  }\n",
       "  th, td {\n",
       "    padding: 5px;\n",
       "  }\n",
       "  th {\n",
       "    text-align: left;\n",
       "  }\n",
       "</style><div class='table-result-container'><table class='table-result'><thead style='background-color: white'><tr></tr></thead><tbody></tbody></table></div>"
      ]
     },
     "metadata": {
      "application/vnd.databricks.v1+output": {
       "addedWidgets": {},
       "aggData": [],
       "aggError": "",
       "aggOverflow": false,
       "aggSchema": [],
       "aggSeriesLimitReached": false,
       "aggType": "",
       "arguments": {},
       "columnCustomDisplayInfos": {},
       "data": [],
       "datasetInfos": [],
       "dbfsResultPath": null,
       "isJsonSchema": true,
       "metadata": {},
       "overflow": false,
       "plotOptions": {
        "customPlotOptions": {},
        "displayType": "table",
        "pivotAggregation": null,
        "pivotColumns": null,
        "xColumns": null,
        "yColumns": null
       },
       "removedWidgets": [],
       "schema": [],
       "type": "table"
      }
     },
     "output_type": "display_data"
    }
   ],
   "source": [
    "%sql CREATE DATABASE staging;"
   ]
  },
  {
   "cell_type": "code",
   "execution_count": 0,
   "metadata": {
    "application/vnd.databricks.v1+cell": {
     "cellMetadata": {
      "byteLimit": 2048000,
      "implicitDf": true,
      "rowLimit": 10000
     },
     "inputWidgets": {},
     "nuid": "2fa28a88-0c86-4313-9550-ecbe20b74490",
     "showTitle": false,
     "tableResultSettingsMap": {},
     "title": ""
    }
   },
   "outputs": [
    {
     "output_type": "display_data",
     "data": {
      "text/html": [
       "<style scoped>\n",
       "  .table-result-container {\n",
       "    max-height: 300px;\n",
       "    overflow: auto;\n",
       "  }\n",
       "  table, th, td {\n",
       "    border: 1px solid black;\n",
       "    border-collapse: collapse;\n",
       "  }\n",
       "  th, td {\n",
       "    padding: 5px;\n",
       "  }\n",
       "  th {\n",
       "    text-align: left;\n",
       "  }\n",
       "</style><div class='table-result-container'><table class='table-result'><thead style='background-color: white'><tr></tr></thead><tbody></tbody></table></div>"
      ]
     },
     "metadata": {
      "application/vnd.databricks.v1+output": {
       "addedWidgets": {},
       "aggData": [],
       "aggError": "",
       "aggOverflow": false,
       "aggSchema": [],
       "aggSeriesLimitReached": false,
       "aggType": "",
       "arguments": {},
       "columnCustomDisplayInfos": {},
       "data": [],
       "datasetInfos": [],
       "dbfsResultPath": null,
       "isJsonSchema": true,
       "metadata": {},
       "overflow": false,
       "plotOptions": {
        "customPlotOptions": {},
        "displayType": "table",
        "pivotAggregation": null,
        "pivotColumns": null,
        "xColumns": null,
        "yColumns": null
       },
       "removedWidgets": [],
       "schema": [],
       "type": "table"
      }
     },
     "output_type": "display_data"
    }
   ],
   "source": [
    "%sql\n",
    "drop table staging.player_id_mapping"
   ]
  },
  {
   "cell_type": "code",
   "execution_count": 0,
   "metadata": {
    "application/vnd.databricks.v1+cell": {
     "cellMetadata": {
      "byteLimit": 2048000,
      "implicitDf": true,
      "rowLimit": 10000
     },
     "inputWidgets": {},
     "nuid": "998e6c5d-9ce2-4360-901c-72bd09b25bcb",
     "showTitle": false,
     "tableResultSettingsMap": {},
     "title": ""
    }
   },
   "outputs": [
    {
     "output_type": "display_data",
     "data": {
      "text/html": [
       "<style scoped>\n",
       "  .table-result-container {\n",
       "    max-height: 300px;\n",
       "    overflow: auto;\n",
       "  }\n",
       "  table, th, td {\n",
       "    border: 1px solid black;\n",
       "    border-collapse: collapse;\n",
       "  }\n",
       "  th, td {\n",
       "    padding: 5px;\n",
       "  }\n",
       "  th {\n",
       "    text-align: left;\n",
       "  }\n",
       "</style><div class='table-result-container'><table class='table-result'><thead style='background-color: white'><tr><th>num_affected_rows</th><th>num_inserted_rows</th></tr></thead><tbody></tbody></table></div>"
      ]
     },
     "metadata": {
      "application/vnd.databricks.v1+output": {
       "addedWidgets": {},
       "aggData": [],
       "aggError": "",
       "aggOverflow": false,
       "aggSchema": [],
       "aggSeriesLimitReached": false,
       "aggType": "",
       "arguments": {},
       "columnCustomDisplayInfos": {},
       "data": [],
       "datasetInfos": [],
       "dbfsResultPath": null,
       "isJsonSchema": true,
       "metadata": {},
       "overflow": false,
       "plotOptions": {
        "customPlotOptions": {},
        "displayType": "table",
        "pivotAggregation": null,
        "pivotColumns": null,
        "xColumns": null,
        "yColumns": null
       },
       "removedWidgets": [],
       "schema": [
        {
         "metadata": "{}",
         "name": "num_affected_rows",
         "type": "\"long\""
        },
        {
         "metadata": "{}",
         "name": "num_inserted_rows",
         "type": "\"long\""
        }
       ],
       "type": "table"
      }
     },
     "output_type": "display_data"
    }
   ],
   "source": [
    "%sql\n",
    "CREATE TABLE staging.player_id_mapping AS\n",
    "WITH jogadores_duplicados AS (\n",
    "    SELECT\n",
    "        name_first,\n",
    "        name_last,\n",
    "        dob,\n",
    "        MIN(player_id) AS canonical_player_id\n",
    "    FROM raw.players\n",
    "    GROUP BY name_first, name_last, dob\n",
    "    HAVING COUNT(*) > 1\n",
    ")\n",
    "SELECT \n",
    "    p.player_id AS duplicate_player_id,\n",
    "    jd.canonical_player_id,\n",
    "    p.name_first,\n",
    "    p.name_last,\n",
    "    p.dob\n",
    "FROM raw.players p\n",
    "JOIN jogadores_duplicados jd\n",
    "  ON p.name_first = jd.name_first\n",
    " AND p.name_last = jd.name_last\n",
    " AND p.dob = jd.dob\n",
    "WHERE p.player_id != jd.canonical_player_id;\n"
   ]
  },
  {
   "cell_type": "code",
   "execution_count": 0,
   "metadata": {
    "application/vnd.databricks.v1+cell": {
     "cellMetadata": {
      "byteLimit": 2048000,
      "implicitDf": true,
      "rowLimit": 10000
     },
     "inputWidgets": {},
     "nuid": "642098d7-3fb0-4b0b-8dc8-168c5e03c181",
     "showTitle": false,
     "tableResultSettingsMap": {},
     "title": ""
    }
   },
   "outputs": [
    {
     "output_type": "display_data",
     "data": {
      "text/html": [
       "<style scoped>\n",
       "  .table-result-container {\n",
       "    max-height: 300px;\n",
       "    overflow: auto;\n",
       "  }\n",
       "  table, th, td {\n",
       "    border: 1px solid black;\n",
       "    border-collapse: collapse;\n",
       "  }\n",
       "  th, td {\n",
       "    padding: 5px;\n",
       "  }\n",
       "  th {\n",
       "    text-align: left;\n",
       "  }\n",
       "</style><div class='table-result-container'><table class='table-result'><thead style='background-color: white'><tr><th>duplicate_player_id</th><th>canonical_player_id</th><th>name_first</th><th>name_last</th><th>dob</th></tr></thead><tbody><tr><td>209399</td><td>202297</td><td>Dan</td><td>Martin</td><td>1.9990509E7</td></tr><tr><td>206876</td><td>202297</td><td>Dan</td><td>Martin</td><td>1.9990509E7</td></tr></tbody></table></div>"
      ]
     },
     "metadata": {
      "application/vnd.databricks.v1+output": {
       "addedWidgets": {},
       "aggData": [],
       "aggError": "",
       "aggOverflow": false,
       "aggSchema": [],
       "aggSeriesLimitReached": false,
       "aggType": "",
       "arguments": {},
       "columnCustomDisplayInfos": {},
       "data": [
        [
         209399,
         202297,
         "Dan",
         "Martin",
         1.9990509E7
        ],
        [
         206876,
         202297,
         "Dan",
         "Martin",
         1.9990509E7
        ]
       ],
       "datasetInfos": [],
       "dbfsResultPath": null,
       "isJsonSchema": true,
       "metadata": {},
       "overflow": false,
       "plotOptions": {
        "customPlotOptions": {},
        "displayType": "table",
        "pivotAggregation": null,
        "pivotColumns": null,
        "xColumns": null,
        "yColumns": null
       },
       "removedWidgets": [],
       "schema": [
        {
         "metadata": "{}",
         "name": "duplicate_player_id",
         "type": "\"long\""
        },
        {
         "metadata": "{}",
         "name": "canonical_player_id",
         "type": "\"long\""
        },
        {
         "metadata": "{}",
         "name": "name_first",
         "type": "\"string\""
        },
        {
         "metadata": "{}",
         "name": "name_last",
         "type": "\"string\""
        },
        {
         "metadata": "{}",
         "name": "dob",
         "type": "\"double\""
        }
       ],
       "type": "table"
      }
     },
     "output_type": "display_data"
    }
   ],
   "source": [
    "%sql\n",
    "-- Exemplo de caso duplicado e como ele é utilizado na player_id_mapping, esse caso possuia 3 ids diferentes, e sera mantido apenas o canonical_player_id (202297)\n",
    "\n",
    "SELECT * FROM staging.player_id_mapping WHERE name_first = \"Dan\""
   ]
  },
  {
   "cell_type": "code",
   "execution_count": 0,
   "metadata": {
    "application/vnd.databricks.v1+cell": {
     "cellMetadata": {
      "byteLimit": 2048000,
      "implicitDf": true,
      "rowLimit": 10000
     },
     "inputWidgets": {},
     "nuid": "50637daa-1285-4036-963b-71bae0255b10",
     "showTitle": false,
     "tableResultSettingsMap": {},
     "title": ""
    }
   },
   "outputs": [
    {
     "output_type": "display_data",
     "data": {
      "text/html": [
       "<style scoped>\n",
       "  .table-result-container {\n",
       "    max-height: 300px;\n",
       "    overflow: auto;\n",
       "  }\n",
       "  table, th, td {\n",
       "    border: 1px solid black;\n",
       "    border-collapse: collapse;\n",
       "  }\n",
       "  th, td {\n",
       "    padding: 5px;\n",
       "  }\n",
       "  th {\n",
       "    text-align: left;\n",
       "  }\n",
       "</style><div class='table-result-container'><table class='table-result'><thead style='background-color: white'><tr><th>num_affected_rows</th><th>num_inserted_rows</th></tr></thead><tbody></tbody></table></div>"
      ]
     },
     "metadata": {
      "application/vnd.databricks.v1+output": {
       "addedWidgets": {},
       "aggData": [],
       "aggError": "",
       "aggOverflow": false,
       "aggSchema": [],
       "aggSeriesLimitReached": false,
       "aggType": "",
       "arguments": {},
       "columnCustomDisplayInfos": {},
       "data": [],
       "datasetInfos": [],
       "dbfsResultPath": null,
       "isJsonSchema": true,
       "metadata": {},
       "overflow": false,
       "plotOptions": {
        "customPlotOptions": {},
        "displayType": "table",
        "pivotAggregation": null,
        "pivotColumns": null,
        "xColumns": null,
        "yColumns": null
       },
       "removedWidgets": [],
       "schema": [
        {
         "metadata": "{}",
         "name": "num_affected_rows",
         "type": "\"long\""
        },
        {
         "metadata": "{}",
         "name": "num_inserted_rows",
         "type": "\"long\""
        }
       ],
       "type": "table"
      }
     },
     "output_type": "display_data"
    }
   ],
   "source": [
    "%sql\n",
    "CREATE TABLE trusted.players AS\n",
    "WITH\n",
    "-- IDs duplicados que devem ser ignorados\n",
    "ids_duplicados AS (\n",
    "    SELECT duplicate_player_id FROM staging.player_id_mapping\n",
    "),\n",
    "-- Dados consolidados (sem a coluna wikidata_id)\n",
    "consolidados AS (\n",
    "    SELECT \n",
    "        player_id,\n",
    "        name_first,\n",
    "        name_last,\n",
    "        hand,\n",
    "        dob,\n",
    "        ioc,\n",
    "        height\n",
    "    FROM raw.players\n",
    "    WHERE player_id NOT IN (SELECT duplicate_player_id FROM ids_duplicados)\n",
    ")\n",
    "SELECT * FROM consolidados;\n"
   ]
  },
  {
   "cell_type": "markdown",
   "metadata": {
    "application/vnd.databricks.v1+cell": {
     "cellMetadata": {},
     "inputWidgets": {},
     "nuid": "30d32079-32c1-4daa-a12f-2e4eecf09c54",
     "showTitle": false,
     "tableResultSettingsMap": {},
     "title": ""
    }
   },
   "source": [
    "### Tabela de rank (rankings)\n",
    "\n",
    "\n",
    "Também existem ocorrencias na tabela de rankings com jogadores duplicados para a mesma data, porém um jogador deveria ter 2 posições no rank no mesmo dia.\n",
    "\n",
    "Como solução arbitrariamente escolhi o menor rank no dia será mantido, ou seja, o momento em que ele tem o maior numero de pontos registrados no dia.\n",
    "\n",
    "Outro tratamento nessa tabela é utilizar a tabela de mapeamento de ids criada na staging para alterar os ids que foram removidos da tabela players e botar os ids que ficaram."
   ]
  },
  {
   "cell_type": "code",
   "execution_count": 0,
   "metadata": {
    "application/vnd.databricks.v1+cell": {
     "cellMetadata": {
      "byteLimit": 2048000,
      "implicitDf": true,
      "rowLimit": 10000
     },
     "inputWidgets": {},
     "nuid": "1d637cbe-1731-4b6a-84b0-18d5cb796d1a",
     "showTitle": false,
     "tableResultSettingsMap": {},
     "title": ""
    }
   },
   "outputs": [
    {
     "output_type": "display_data",
     "data": {
      "text/html": [
       "<style scoped>\n",
       "  .table-result-container {\n",
       "    max-height: 300px;\n",
       "    overflow: auto;\n",
       "  }\n",
       "  table, th, td {\n",
       "    border: 1px solid black;\n",
       "    border-collapse: collapse;\n",
       "  }\n",
       "  th, td {\n",
       "    padding: 5px;\n",
       "  }\n",
       "  th {\n",
       "    text-align: left;\n",
       "  }\n",
       "</style><div class='table-result-container'><table class='table-result'><thead style='background-color: white'><tr><th>ranking_date</th><th>player</th><th>count(1)</th></tr></thead><tbody><tr><td>20220523</td><td>208147</td><td>2</td></tr><tr><td>20210823</td><td>208142</td><td>2</td></tr><tr><td>20210719</td><td>144703</td><td>2</td></tr><tr><td>20210809</td><td>208147</td><td>2</td></tr><tr><td>20220207</td><td>208142</td><td>2</td></tr><tr><td>20211004</td><td>208147</td><td>2</td></tr><tr><td>20210927</td><td>206904</td><td>2</td></tr><tr><td>20211018</td><td>206904</td><td>2</td></tr><tr><td>20210719</td><td>127032</td><td>2</td></tr><tr><td>20231225</td><td>208147</td><td>2</td></tr><tr><td>20230814</td><td>208147</td><td>2</td></tr><tr><td>20210719</td><td>200273</td><td>2</td></tr><tr><td>20210719</td><td>132054</td><td>2</td></tr><tr><td>20211108</td><td>206904</td><td>2</td></tr><tr><td>20210719</td><td>202150</td><td>2</td></tr><tr><td>20220523</td><td>208142</td><td>2</td></tr><tr><td>20210719</td><td>126464</td><td>2</td></tr><tr><td>20210802</td><td>208147</td><td>2</td></tr><tr><td>20210719</td><td>200184</td><td>2</td></tr><tr><td>20210726</td><td>208142</td><td>2</td></tr><tr><td>20220214</td><td>208142</td><td>2</td></tr><tr><td>20210719</td><td>105493</td><td>2</td></tr><tr><td>20210809</td><td>206904</td><td>2</td></tr><tr><td>20230731</td><td>208147</td><td>2</td></tr><tr><td>20210719</td><td>209209</td><td>2</td></tr><tr><td>20230626</td><td>208147</td><td>2</td></tr><tr><td>20230828</td><td>208147</td><td>2</td></tr><tr><td>20190805</td><td>208109</td><td>2</td></tr><tr><td>20210719</td><td>208931</td><td>2</td></tr><tr><td>20210719</td><td>126152</td><td>2</td></tr><tr><td>20190923</td><td>208109</td><td>2</td></tr><tr><td>20191021</td><td>208147</td><td>2</td></tr><tr><td>20190812</td><td>208142</td><td>2</td></tr><tr><td>20220228</td><td>208147</td><td>2</td></tr><tr><td>20190812</td><td>208124</td><td>2</td></tr><tr><td>20220321</td><td>206904</td><td>2</td></tr><tr><td>20220411</td><td>208142</td><td>2</td></tr><tr><td>20191007</td><td>208147</td><td>2</td></tr><tr><td>20190826</td><td>206904</td><td>2</td></tr><tr><td>20210531</td><td>206904</td><td>2</td></tr><tr><td>20220502</td><td>208147</td><td>2</td></tr><tr><td>20221121</td><td>208147</td><td>2</td></tr><tr><td>20210426</td><td>208147</td><td>2</td></tr><tr><td>20210315</td><td>208147</td><td>2</td></tr><tr><td>20221003</td><td>208142</td><td>2</td></tr><tr><td>20220822</td><td>208142</td><td>2</td></tr><tr><td>20220711</td><td>208147</td><td>2</td></tr><tr><td>20201026</td><td>208142</td><td>2</td></tr><tr><td>20220926</td><td>208142</td><td>2</td></tr><tr><td>20210621</td><td>208142</td><td>2</td></tr><tr><td>20211115</td><td>208147</td><td>2</td></tr><tr><td>20211115</td><td>208142</td><td>2</td></tr><tr><td>20230320</td><td>208147</td><td>2</td></tr><tr><td>20210412</td><td>206904</td><td>2</td></tr><tr><td>20220815</td><td>208142</td><td>2</td></tr><tr><td>20201012</td><td>208147</td><td>2</td></tr><tr><td>20210712</td><td>208147</td><td>2</td></tr><tr><td>20220718</td><td>208142</td><td>2</td></tr><tr><td>20210628</td><td>206904</td><td>2</td></tr><tr><td>20200914</td><td>208147</td><td>2</td></tr><tr><td>20200217</td><td>208142</td><td>2</td></tr><tr><td>20191028</td><td>208147</td><td>2</td></tr><tr><td>20191202</td><td>208147</td><td>2</td></tr><tr><td>20200302</td><td>208142</td><td>2</td></tr><tr><td>20191202</td><td>208142</td><td>2</td></tr><tr><td>20191111</td><td>206904</td><td>2</td></tr><tr><td>20191111</td><td>208109</td><td>2</td></tr><tr><td>20191125</td><td>208109</td><td>2</td></tr><tr><td>20200217</td><td>208147</td><td>2</td></tr><tr><td>20210201</td><td>206904</td><td>2</td></tr><tr><td>20191230</td><td>206904</td><td>2</td></tr><tr><td>20191125</td><td>208147</td><td>2</td></tr><tr><td>20191028</td><td>208109</td><td>2</td></tr><tr><td>20221205</td><td>208533</td><td>2</td></tr><tr><td>20191223</td><td>208147</td><td>2</td></tr><tr><td>20201123</td><td>208142</td><td>2</td></tr><tr><td>20201026</td><td>206904</td><td>2</td></tr><tr><td>20201102</td><td>208147</td><td>2</td></tr><tr><td>20201123</td><td>208147</td><td>2</td></tr><tr><td>20201102</td><td>208142</td><td>2</td></tr><tr><td>20201214</td><td>208142</td><td>2</td></tr><tr><td>19910520</td><td>108831</td><td>2</td></tr><tr><td>20201116</td><td>208147</td><td>2</td></tr><tr><td>20201221</td><td>208147</td><td>2</td></tr><tr><td>20201116</td><td>206904</td><td>2</td></tr><tr><td>19960902</td><td>103073</td><td>2</td></tr><tr><td>19840806</td><td>123200</td><td>2</td></tr><tr><td>19840730</td><td>110788</td><td>2</td></tr><tr><td>19840709</td><td>124487</td><td>2</td></tr><tr><td>19890717</td><td>100905</td><td>2</td></tr><tr><td>19780102</td><td>100054</td><td>2</td></tr><tr><td>19791226</td><td>110788</td><td>2</td></tr><tr><td>19780717</td><td>100054</td><td>2</td></tr><tr><td>19891016</td><td>108831</td><td>2</td></tr><tr><td>19890612</td><td>108831</td><td>2</td></tr><tr><td>19891023</td><td>108831</td><td>2</td></tr><tr><td>19890814</td><td>108831</td><td>2</td></tr><tr><td>19910211</td><td>108831</td><td>2</td></tr><tr><td>19910114</td><td>108831</td><td>2</td></tr><tr><td>19841008</td><td>110788</td><td>2</td></tr><tr><td>19841008</td><td>123200</td><td>2</td></tr><tr><td>20240422</td><td>208147</td><td>2</td></tr><tr><td>20210830</td><td>206904</td><td>2</td></tr><tr><td>20210719</td><td>132573</td><td>2</td></tr><tr><td>20210719</td><td>106021</td><td>2</td></tr><tr><td>20210719</td><td>144681</td><td>2</td></tr><tr><td>20230807</td><td>208147</td><td>2</td></tr><tr><td>20220117</td><td>208147</td><td>2</td></tr><tr><td>20210830</td><td>208147</td><td>2</td></tr><tr><td>20210719</td><td>109318</td><td>2</td></tr><tr><td>20210719</td><td>208119</td><td>2</td></tr><tr><td>20210719</td><td>105716</td><td>2</td></tr><tr><td>20240408</td><td>208147</td><td>2</td></tr><tr><td>20220214</td><td>208147</td><td>2</td></tr><tr><td>20210719</td><td>202126</td><td>2</td></tr><tr><td>20230828</td><td>208142</td><td>2</td></tr><tr><td>20210719</td><td>207815</td><td>2</td></tr><tr><td>20230911</td><td>208147</td><td>2</td></tr><tr><td>20211025</td><td>206904</td><td>2</td></tr><tr><td>20210719</td><td>105421</td><td>2</td></tr><tr><td>20230717</td><td>208147</td><td>2</td></tr><tr><td>20210719</td><td>206746</td><td>2</td></tr><tr><td>20211108</td><td>208147</td><td>2</td></tr><tr><td>20210719</td><td>105059</td><td>2</td></tr><tr><td>20210719</td><td>132744</td><td>2</td></tr><tr><td>20210719</td><td>111459</td><td>2</td></tr><tr><td>20220516</td><td>206904</td><td>2</td></tr><tr><td>20210830</td><td>208142</td><td>2</td></tr><tr><td>20210719</td><td>200595</td><td>2</td></tr><tr><td>20240415</td><td>208147</td><td>2</td></tr><tr><td>20210816</td><td>206904</td><td>2</td></tr><tr><td>20220418</td><td>208147</td><td>2</td></tr><tr><td>20191021</td><td>208109</td><td>2</td></tr><tr><td>20220411</td><td>206904</td><td>2</td></tr><tr><td>20240205</td><td>208147</td><td>2</td></tr><tr><td>20190805</td><td>208124</td><td>2</td></tr><tr><td>20190923</td><td>208147</td><td>2</td></tr><tr><td>20210524</td><td>208147</td><td>2</td></tr><tr><td>20190819</td><td>208124</td><td>2</td></tr><tr><td>20190909</td><td>208109</td><td>2</td></tr><tr><td>20190930</td><td>208147</td><td>2</td></tr><tr><td>20211213</td><td>208142</td><td>2</td></tr><tr><td>20220620</td><td>208142</td><td>2</td></tr><tr><td>20200921</td><td>208142</td><td>2</td></tr><tr><td>20210628</td><td>208147</td><td>2</td></tr><tr><td>20210322</td><td>206904</td><td>2</td></tr><tr><td>20210222</td><td>208142</td><td>2</td></tr><tr><td>20210426</td><td>208142</td><td>2</td></tr><tr><td>20211206</td><td>208147</td><td>2</td></tr><tr><td>20221003</td><td>208147</td><td>2</td></tr><tr><td>20220822</td><td>208147</td><td>2</td></tr><tr><td>20221010</td><td>208142</td><td>2</td></tr><tr><td>20220829</td><td>208142</td><td>2</td></tr><tr><td>20210301</td><td>208147</td><td>2</td></tr><tr><td>20221128</td><td>208147</td><td>2</td></tr><tr><td>20191111</td><td>208147</td><td>2</td></tr><tr><td>20221226</td><td>208147</td><td>2</td></tr><tr><td>20191216</td><td>206904</td><td>2</td></tr><tr><td>20210125</td><td>208142</td><td>2</td></tr><tr><td>20191125</td><td>208142</td><td>2</td></tr><tr><td>20200203</td><td>208147</td><td>2</td></tr><tr><td>20210104</td><td>206904</td><td>2</td></tr><tr><td>20220103</td><td>208142</td><td>2</td></tr><tr><td>20200120</td><td>206904</td><td>2</td></tr><tr><td>20200224</td><td>208142</td><td>2</td></tr><tr><td>20201221</td><td>206904</td><td>2</td></tr><tr><td>20201207</td><td>206904</td><td>2</td></tr><tr><td>20201123</td><td>206904</td><td>2</td></tr><tr><td>20200106</td><td>208147</td><td>2</td></tr><tr><td>20201116</td><td>208142</td><td>2</td></tr><tr><td>19840716</td><td>124487</td><td>2</td></tr><tr><td>19910304</td><td>108831</td><td>2</td></tr><tr><td>19910225</td><td>108831</td><td>2</td></tr><tr><td>19840917</td><td>123200</td><td>2</td></tr><tr><td>19890424</td><td>108831</td><td>2</td></tr><tr><td>19851125</td><td>108831</td><td>2</td></tr><tr><td>19890515</td><td>108831</td><td>2</td></tr><tr><td>19880926</td><td>123200</td><td>2</td></tr><tr><td>19841217</td><td>110788</td><td>2</td></tr><tr><td>20231211</td><td>208147</td><td>2</td></tr><tr><td>20211025</td><td>208142</td><td>2</td></tr><tr><td>20210920</td><td>208142</td><td>2</td></tr><tr><td>20210920</td><td>206904</td><td>2</td></tr><tr><td>20230612</td><td>208147</td><td>2</td></tr><tr><td>20210719</td><td>106397</td><td>2</td></tr><tr><td>20210816</td><td>208142</td><td>2</td></tr><tr><td>20230911</td><td>208142</td><td>2</td></tr><tr><td>20210719</td><td>105223</td><td>2</td></tr><tr><td>20230731</td><td>208142</td><td>2</td></tr><tr><td>20210823</td><td>208147</td><td>2</td></tr><tr><td>20220117</td><td>206904</td><td>2</td></tr><tr><td>20231023</td><td>208147</td><td>2</td></tr><tr><td>20210719</td><td>132495</td><td>2</td></tr><tr><td>20210719</td><td>122393</td><td>2</td></tr><tr><td>20220620</td><td>208147</td><td>2</td></tr><tr><td>20211101</td><td>208142</td><td>2</td></tr><tr><td>20210927</td><td>208142</td><td>2</td></tr><tr><td>20210913</td><td>208142</td><td>2</td></tr><tr><td>20210719</td><td>106254</td><td>2</td></tr><tr><td>20231106</td><td>208147</td><td>2</td></tr><tr><td>20230522</td><td>208147</td><td>2</td></tr><tr><td>20210719</td><td>209259</td><td>2</td></tr><tr><td>20220411</td><td>208147</td><td>2</td></tr><tr><td>20190909</td><td>208147</td><td>2</td></tr><tr><td>20220418</td><td>208142</td><td>2</td></tr><tr><td>20210531</td><td>208147</td><td>2</td></tr><tr><td>20240101</td><td>208147</td><td>2</td></tr><tr><td>20220307</td><td>206904</td><td>2</td></tr><tr><td>20240520</td><td>208147</td><td>2</td></tr><tr><td>20240527</td><td>208147</td><td>2</td></tr><tr><td>20190916</td><td>208142</td><td>2</td></tr><tr><td>20220307</td><td>208142</td><td>2</td></tr><tr><td>20191021</td><td>208142</td><td>2</td></tr><tr><td>20220404</td><td>206904</td><td>2</td></tr><tr><td>20190916</td><td>208109</td><td>2</td></tr><tr><td>20190819</td><td>208142</td><td>2</td></tr><tr><td>20220321</td><td>208142</td><td>2</td></tr><tr><td>20240115</td><td>208147</td><td>2</td></tr><tr><td>20190909</td><td>208142</td><td>2</td></tr><tr><td>20210628</td><td>208142</td><td>2</td></tr><tr><td>20220801</td><td>208142</td><td>2</td></tr><tr><td>20230220</td><td>208147</td><td>2</td></tr><tr><td>20230227</td><td>208147</td><td>2</td></tr><tr><td>20230213</td><td>208147</td><td>2</td></tr><tr><td>20210419</td><td>206904</td><td>2</td></tr><tr><td>20220725</td><td>208147</td><td>2</td></tr><tr><td>20230206</td><td>208147</td><td>2</td></tr><tr><td>20210301</td><td>208142</td><td>2</td></tr><tr><td>20220801</td><td>208147</td><td>2</td></tr><tr><td>20211122</td><td>206904</td><td>2</td></tr><tr><td>20211129</td><td>206904</td><td>2</td></tr><tr><td>20220912</td><td>208147</td><td>2</td></tr><tr><td>20210419</td><td>208142</td><td>2</td></tr><tr><td>20230424</td><td>208147</td><td>2</td></tr><tr><td>20200914</td><td>206904</td><td>2</td></tr><tr><td>20210222</td><td>206904</td><td>2</td></tr><tr><td>20191104</td><td>208147</td><td>2</td></tr><tr><td>20210125</td><td>208147</td><td>2</td></tr><tr><td>20221212</td><td>208147</td><td>2</td></tr><tr><td>20191209</td><td>206904</td><td>2</td></tr><tr><td>20230109</td><td>208147</td><td>2</td></tr><tr><td>20230116</td><td>208147</td><td>2</td></tr><tr><td>20220103</td><td>208147</td><td>2</td></tr><tr><td>20211220</td><td>208142</td><td>2</td></tr><tr><td>20191223</td><td>208109</td><td>2</td></tr><tr><td>20210118</td><td>208142</td><td>2</td></tr><tr><td>20211227</td><td>208147</td><td>2</td></tr><tr><td>20191230</td><td>208147</td><td>2</td></tr><tr><td>20210125</td><td>206904</td><td>2</td></tr><tr><td>20200203</td><td>208142</td><td>2</td></tr><tr><td>20200203</td><td>206904</td><td>2</td></tr><tr><td>20191104</td><td>208109</td><td>2</td></tr><tr><td>20200316</td><td>208142</td><td>2</td></tr><tr><td>20200824</td><td>208147</td><td>2</td></tr><tr><td>20201221</td><td>208142</td><td>2</td></tr><tr><td>20201102</td><td>206904</td><td>2</td></tr><tr><td>20201109</td><td>208147</td><td>2</td></tr><tr><td>20200106</td><td>206904</td><td>2</td></tr><tr><td>19900813</td><td>108831</td><td>2</td></tr><tr><td>19900820</td><td>108831</td><td>2</td></tr><tr><td>19840625</td><td>124487</td><td>2</td></tr><tr><td>19841022</td><td>110788</td><td>2</td></tr><tr><td>19890710</td><td>108831</td><td>2</td></tr><tr><td>19850527</td><td>110788</td><td>2</td></tr><tr><td>19781231</td><td>110788</td><td>2</td></tr><tr><td>19851021</td><td>124487</td><td>2</td></tr><tr><td>19890417</td><td>108831</td><td>2</td></tr><tr><td>19890710</td><td>100905</td><td>2</td></tr><tr><td>19891009</td><td>123200</td><td>2</td></tr><tr><td>19890731</td><td>100905</td><td>2</td></tr><tr><td>19890724</td><td>100905</td><td>2</td></tr><tr><td>19860714</td><td>123200</td><td>2</td></tr><tr><td>20210719</td><td>201995</td><td>2</td></tr><tr><td>20210719</td><td>208882</td><td>2</td></tr><tr><td>20210719</td><td>209260</td><td>2</td></tr><tr><td>20210719</td><td>208300</td><td>2</td></tr><tr><td>20211108</td><td>208142</td><td>2</td></tr><tr><td>20210719</td><td>200466</td><td>2</td></tr><tr><td>20230724</td><td>208147</td><td>2</td></tr><tr><td>20210719</td><td>208859</td><td>2</td></tr><tr><td>20231030</td><td>208147</td><td>2</td></tr><tr><td>20210719</td><td>110647</td><td>2</td></tr><tr><td>20210719</td><td>200070</td><td>2</td></tr><tr><td>20231127</td><td>208147</td><td>2</td></tr><tr><td>20211004</td><td>206904</td><td>2</td></tr><tr><td>20210719</td><td>122606</td><td>2</td></tr><tr><td>20220221</td><td>208142</td><td>2</td></tr><tr><td>20211004</td><td>208142</td><td>2</td></tr><tr><td>20210719</td><td>200418</td><td>2</td></tr><tr><td>20210719</td><td>122352</td><td>2</td></tr><tr><td>20210719</td><td>105691</td><td>2</td></tr><tr><td>20210913</td><td>206904</td><td>2</td></tr><tr><td>20210719</td><td>209857</td><td>2</td></tr><tr><td>20210719</td><td>111784</td><td>2</td></tr><tr><td>20230918</td><td>208142</td><td>2</td></tr><tr><td>20210719</td><td>138485</td><td>2</td></tr><tr><td>20210726</td><td>206904</td><td>2</td></tr><tr><td>20240304</td><td>208147</td><td>2</td></tr><tr><td>20230918</td><td>208147</td><td>2</td></tr><tr><td>20210719</td><td>104905</td><td>2</td></tr><tr><td>20210510</td><td>206904</td><td>2</td></tr><tr><td>20210517</td><td>206904</td><td>2</td></tr><tr><td>20220228</td><td>208142</td><td>2</td></tr><tr><td>20191007</td><td>208142</td><td>2</td></tr><tr><td>19741223</td><td>106859</td><td>2</td></tr><tr><td>20220404</td><td>208142</td><td>2</td></tr><tr><td>20220425</td><td>208147</td><td>2</td></tr><tr><td>20191014</td><td>208142</td><td>2</td></tr><tr><td>20190916</td><td>208147</td><td>2</td></tr><tr><td>20220228</td><td>206904</td><td>2</td></tr><tr><td>20220404</td><td>208147</td><td>2</td></tr><tr><td>20210510</td><td>208147</td><td>2</td></tr><tr><td>20190930</td><td>208142</td><td>2</td></tr><tr><td>20220627</td><td>208142</td><td>2</td></tr><tr><td>20200921</td><td>202421</td><td>2</td></tr><tr><td>20211129</td><td>208147</td><td>2</td></tr><tr><td>20220725</td><td>208142</td><td>2</td></tr><tr><td>20230417</td><td>208147</td><td>2</td></tr><tr><td>20220919</td><td>208142</td><td>2</td></tr><tr><td>20210614</td><td>208142</td><td>2</td></tr><tr><td>20210315</td><td>206904</td><td>2</td></tr><tr><td>20210621</td><td>206904</td><td>2</td></tr><tr><td>20211206</td><td>206904</td><td>2</td></tr><tr><td>20200921</td><td>111183</td><td>2</td></tr><tr><td>20201019</td><td>206904</td><td>2</td></tr><tr><td>20220718</td><td>208147</td><td>2</td></tr><tr><td>20220627</td><td>208147</td><td>2</td></tr><tr><td>20210426</td><td>206904</td><td>2</td></tr><tr><td>20210208</td><td>206904</td><td>2</td></tr><tr><td>20210412</td><td>208142</td><td>2</td></tr><tr><td>20210405</td><td>208147</td><td>2</td></tr><tr><td>20191223</td><td>206904</td><td>2</td></tr><tr><td>20191104</td><td>208142</td><td>2</td></tr><tr><td>20191202</td><td>208109</td><td>2</td></tr><tr><td>20230130</td><td>208147</td><td>2</td></tr><tr><td>20191230</td><td>208142</td><td>2</td></tr><tr><td>20220110</td><td>208142</td><td>2</td></tr><tr><td>20220103</td><td>206904</td><td>2</td></tr><tr><td>20191118</td><td>208147</td><td>2</td></tr><tr><td>20191216</td><td>208147</td><td>2</td></tr><tr><td>20191118</td><td>208109</td><td>2</td></tr><tr><td>20210118</td><td>208147</td><td>2</td></tr><tr><td>20210104</td><td>208142</td><td>2</td></tr><tr><td>20210104</td><td>208147</td><td>2</td></tr><tr><td>20200113</td><td>208147</td><td>2</td></tr><tr><td>20201130</td><td>208147</td><td>2</td></tr><tr><td>19900806</td><td>108831</td><td>2</td></tr><tr><td>19840730</td><td>124487</td><td>2</td></tr><tr><td>19850527</td><td>123200</td><td>2</td></tr><tr><td>19850909</td><td>124487</td><td>2</td></tr><tr><td>19850909</td><td>108831</td><td>2</td></tr><tr><td>19890130</td><td>108831</td><td>2</td></tr><tr><td>19891009</td><td>108831</td><td>2</td></tr><tr><td>19890109</td><td>108831</td><td>2</td></tr><tr><td>19851014</td><td>124487</td><td>2</td></tr><tr><td>19841112</td><td>110788</td><td>2</td></tr><tr><td>20230522</td><td>208142</td><td>2</td></tr><tr><td>20210719</td><td>200329</td><td>2</td></tr><tr><td>20210719</td><td>126723</td><td>2</td></tr><tr><td>20210719</td><td>106280</td><td>2</td></tr><tr><td>20240219</td><td>208147</td><td>2</td></tr><tr><td>20210719</td><td>202065</td><td>2</td></tr><tr><td>20240226</td><td>208147</td><td>2</td></tr><tr><td>20240318</td><td>208147</td><td>2</td></tr><tr><td>20210719</td><td>104467</td><td>2</td></tr><tr><td>20210719</td><td>134384</td><td>2</td></tr><tr><td>20190805</td><td>206904</td><td>2</td></tr><tr><td>20210719</td><td>124040</td><td>2</td></tr><tr><td>20220131</td><td>208142</td><td>2</td></tr><tr><td>20210802</td><td>208142</td><td>2</td></tr><tr><td>20210719</td><td>105560</td><td>2</td></tr><tr><td>20231113</td><td>208147</td><td>2</td></tr><tr><td>20210719</td><td>105026</td><td>2</td></tr><tr><td>20210719</td><td>117362</td><td>2</td></tr><tr><td>20211101</td><td>208147</td><td>2</td></tr><tr><td>20210719</td><td>200666</td><td>2</td></tr><tr><td>20210719</td><td>202333</td><td>2</td></tr><tr><td>20210719</td><td>125848</td><td>2</td></tr><tr><td>20230529</td><td>208142</td><td>2</td></tr><tr><td>20230724</td><td>208142</td><td>2</td></tr><tr><td>20230619</td><td>208147</td><td>2</td></tr><tr><td>20230703</td><td>208142</td><td>2</td></tr><tr><td>20210719</td><td>133820</td><td>2</td></tr><tr><td>20210719</td><td>104510</td><td>2</td></tr><tr><td>20210719</td><td>207491</td><td>2</td></tr><tr><td>20210719</td><td>106059</td><td>2</td></tr><tr><td>20231002</td><td>208147</td><td>2</td></tr><tr><td>20210719</td><td>124001</td><td>2</td></tr><tr><td>20220606</td><td>206904</td><td>2</td></tr><tr><td>20220131</td><td>206904</td><td>2</td></tr><tr><td>19740909</td><td>106859</td><td>2</td></tr><tr><td>20191021</td><td>206904</td><td>2</td></tr><tr><td>20240129</td><td>208147</td><td>2</td></tr><tr><td>20220425</td><td>208142</td><td>2</td></tr><tr><td>19730827</td><td>124487</td><td>2</td></tr><tr><td>20190930</td><td>208109</td><td>2</td></tr><tr><td>20191014</td><td>206904</td><td>2</td></tr><tr><td>20220509</td><td>208147</td><td>2</td></tr><tr><td>19730827</td><td>100054</td><td>2</td></tr><tr><td>20191007</td><td>208109</td><td>2</td></tr><tr><td>20210524</td><td>208142</td><td>2</td></tr><tr><td>20240108</td><td>208147</td><td>2</td></tr><tr><td>20210419</td><td>208147</td><td>2</td></tr><tr><td>20201026</td><td>208147</td><td>2</td></tr><tr><td>20200921</td><td>206904</td><td>2</td></tr><tr><td>20200928</td><td>208147</td><td>2</td></tr><tr><td>20210412</td><td>208147</td><td>2</td></tr><tr><td>20210712</td><td>206904</td><td>2</td></tr><tr><td>20211115</td><td>206904</td><td>2</td></tr><tr><td>20210712</td><td>208142</td><td>2</td></tr><tr><td>20210719</td><td>208142</td><td>2</td></tr><tr><td>20220110</td><td>208147</td><td>2</td></tr><tr><td>20191209</td><td>208142</td><td>2</td></tr><tr><td>20191104</td><td>206904</td><td>2</td></tr><tr><td>20230116</td><td>209284</td><td>2</td></tr><tr><td>20191209</td><td>208109</td><td>2</td></tr><tr><td>20211220</td><td>208147</td><td>2</td></tr><tr><td>20191202</td><td>206904</td><td>2</td></tr><tr><td>20210111</td><td>208142</td><td>2</td></tr><tr><td>20200210</td><td>208142</td><td>2</td></tr><tr><td>20211227</td><td>208142</td><td>2</td></tr><tr><td>20210201</td><td>208142</td><td>2</td></tr><tr><td>20200309</td><td>206904</td><td>2</td></tr><tr><td>20200316</td><td>208147</td><td>2</td></tr><tr><td>20200113</td><td>208142</td><td>2</td></tr><tr><td>19910624</td><td>108831</td><td>2</td></tr><tr><td>19890626</td><td>108831</td><td>2</td></tr><tr><td>19851021</td><td>108831</td><td>2</td></tr><tr><td>19851028</td><td>124487</td><td>2</td></tr><tr><td>19851111</td><td>123200</td><td>2</td></tr><tr><td>19890227</td><td>108831</td><td>2</td></tr><tr><td>19851014</td><td>108831</td><td>2</td></tr><tr><td>19850204</td><td>110788</td><td>2</td></tr><tr><td>20210719</td><td>208913</td><td>2</td></tr><tr><td>20220117</td><td>208142</td><td>2</td></tr><tr><td>20210719</td><td>206470</td><td>2</td></tr><tr><td>20210719</td><td>200441</td><td>2</td></tr><tr><td>20231016</td><td>208147</td><td>2</td></tr><tr><td>20230807</td><td>208142</td><td>2</td></tr><tr><td>20240401</td><td>208147</td><td>2</td></tr><tr><td>20230508</td><td>208147</td><td>2</td></tr><tr><td>20210719</td><td>209131</td><td>2</td></tr><tr><td>20210726</td><td>208147</td><td>2</td></tr><tr><td>20210719</td><td>202105</td><td>2</td></tr><tr><td>20210719</td><td>208014</td><td>2</td></tr><tr><td>20210719</td><td>126758</td><td>2</td></tr><tr><td>20210719</td><td>105085</td><td>2</td></tr><tr><td>20231120</td><td>208147</td><td>2</td></tr><tr><td>20220613</td><td>208147</td><td>2</td></tr><tr><td>20210719</td><td>126092</td><td>2</td></tr><tr><td>20210719</td><td>144716</td><td>2</td></tr><tr><td>20220613</td><td>208142</td><td>2</td></tr><tr><td>20220606</td><td>208147</td><td>2</td></tr><tr><td>20210719</td><td>208363</td><td>2</td></tr><tr><td>20240506</td><td>208147</td><td>2</td></tr><tr><td>20210719</td><td>202321</td><td>2</td></tr><tr><td>20230821</td><td>208142</td><td>2</td></tr><tr><td>20211025</td><td>208147</td><td>2</td></tr><tr><td>20210719</td><td>207844</td><td>2</td></tr><tr><td>20220509</td><td>206904</td><td>2</td></tr><tr><td>20210719</td><td>200297</td><td>2</td></tr><tr><td>20210719</td><td>105452</td><td>2</td></tr><tr><td>20190826</td><td>208124</td><td>2</td></tr><tr><td>20220502</td><td>208142</td><td>2</td></tr><tr><td>20191007</td><td>206904</td><td>2</td></tr><tr><td>20210503</td><td>206904</td><td>2</td></tr><tr><td>20190930</td><td>206904</td><td>2</td></tr><tr><td>20190805</td><td>208142</td><td>2</td></tr><tr><td>20210503</td><td>208142</td><td>2</td></tr><tr><td>20210517</td><td>208147</td><td>2</td></tr><tr><td>19750120</td><td>106859</td><td>2</td></tr><tr><td>20190819</td><td>206904</td><td>2</td></tr><tr><td>20210531</td><td>208142</td><td>2</td></tr><tr><td>20190826</td><td>208147</td><td>2</td></tr><tr><td>20190826</td><td>208142</td><td>2</td></tr><tr><td>20211129</td><td>208142</td><td>2</td></tr><tr><td>20201012</td><td>206904</td><td>2</td></tr><tr><td>20210405</td><td>206904</td><td>2</td></tr><tr><td>20200928</td><td>206904</td><td>2</td></tr><tr><td>20211122</td><td>208142</td><td>2</td></tr><tr><td>20221017</td><td>208147</td><td>2</td></tr><tr><td>20210208</td><td>208147</td><td>2</td></tr><tr><td>20220829</td><td>208147</td><td>2</td></tr><tr><td>20220815</td><td>208147</td><td>2</td></tr><tr><td>20210614</td><td>206904</td><td>2</td></tr><tr><td>20230410</td><td>208147</td><td>2</td></tr><tr><td>20210222</td><td>208147</td><td>2</td></tr><tr><td>20210308</td><td>206904</td><td>2</td></tr><tr><td>20211122</td><td>208147</td><td>2</td></tr><tr><td>20200914</td><td>208142</td><td>2</td></tr><tr><td>20221205</td><td>208147</td><td>2</td></tr><tr><td>20200120</td><td>208147</td><td>2</td></tr><tr><td>20211227</td><td>206904</td><td>2</td></tr><tr><td>20191118</td><td>206904</td><td>2</td></tr><tr><td>20200224</td><td>208147</td><td>2</td></tr><tr><td>20191223</td><td>208142</td><td>2</td></tr><tr><td>20230102</td><td>209284</td><td>2</td></tr><tr><td>20230109</td><td>209284</td><td>2</td></tr><tr><td>20200120</td><td>208142</td><td>2</td></tr><tr><td>20191216</td><td>208142</td><td>2</td></tr><tr><td>20230102</td><td>208147</td><td>2</td></tr><tr><td>19980907</td><td>111246</td><td>2</td></tr><tr><td>20200831</td><td>208147</td><td>2</td></tr><tr><td>20200831</td><td>206904</td><td>2</td></tr><tr><td>20200824</td><td>208142</td><td>2</td></tr><tr><td>20200316</td><td>206904</td><td>2</td></tr><tr><td>20201214</td><td>208147</td><td>2</td></tr><tr><td>20200113</td><td>206904</td><td>2</td></tr><tr><td>20201130</td><td>208142</td><td>2</td></tr><tr><td>20200106</td><td>208142</td><td>2</td></tr><tr><td>19910506</td><td>108831</td><td>2</td></tr><tr><td>19830103</td><td>123200</td><td>2</td></tr><tr><td>19880926</td><td>108831</td><td>2</td></tr><tr><td>19890807</td><td>108831</td><td>2</td></tr><tr><td>19901224</td><td>108831</td><td>2</td></tr><tr><td>19890807</td><td>100905</td><td>2</td></tr><tr><td>19881219</td><td>108831</td><td>2</td></tr><tr><td>19850916</td><td>108831</td><td>2</td></tr><tr><td>19850708</td><td>123200</td><td>2</td></tr><tr><td>19850506</td><td>124487</td><td>2</td></tr><tr><td>19890306</td><td>108831</td><td>2</td></tr><tr><td>19850916</td><td>124487</td><td>2</td></tr><tr><td>19891023</td><td>123200</td><td>2</td></tr><tr><td>19841224</td><td>110788</td><td>2</td></tr><tr><td>19841029</td><td>110788</td><td>2</td></tr><tr><td>19850128</td><td>110788</td><td>2</td></tr><tr><td>20210719</td><td>104901</td><td>2</td></tr><tr><td>20210719</td><td>200518</td><td>2</td></tr><tr><td>20210816</td><td>208147</td><td>2</td></tr><tr><td>20210719</td><td>133603</td><td>2</td></tr><tr><td>20210719</td><td>126209</td><td>2</td></tr><tr><td>20210719</td><td>209262</td><td>2</td></tr><tr><td>20210719</td><td>122533</td><td>2</td></tr><tr><td>20210719</td><td>106051</td><td>2</td></tr><tr><td>20210719</td><td>207490</td><td>2</td></tr><tr><td>20210719</td><td>209263</td><td>2</td></tr><tr><td>20210719</td><td>126720</td><td>2</td></tr><tr><td>20230529</td><td>208147</td><td>2</td></tr><tr><td>20230703</td><td>208147</td><td>2</td></tr><tr><td>20210719</td><td>126171</td><td>2</td></tr><tr><td>20210802</td><td>206904</td><td>2</td></tr><tr><td>20230717</td><td>208142</td><td>2</td></tr><tr><td>20220221</td><td>208147</td><td>2</td></tr><tr><td>20211018</td><td>208142</td><td>2</td></tr><tr><td>20210719</td><td>208260</td><td>2</td></tr><tr><td>20220523</td><td>206904</td><td>2</td></tr><tr><td>20210719</td><td>208421</td><td>2</td></tr><tr><td>20210719</td><td>200220</td><td>2</td></tr><tr><td>20230814</td><td>208142</td><td>2</td></tr><tr><td>20220425</td><td>206904</td><td>2</td></tr><tr><td>20190812</td><td>208109</td><td>2</td></tr><tr><td>20190812</td><td>206904</td><td>2</td></tr><tr><td>20210524</td><td>206904</td><td>2</td></tr><tr><td>20190916</td><td>206904</td><td>2</td></tr><tr><td>20220321</td><td>208147</td><td>2</td></tr><tr><td>20190819</td><td>208109</td><td>2</td></tr><tr><td>20220221</td><td>206904</td><td>2</td></tr><tr><td>20190923</td><td>208142</td><td>2</td></tr><tr><td>20210503</td><td>208147</td><td>2</td></tr><tr><td>20210614</td><td>208147</td><td>2</td></tr><tr><td>20190923</td><td>206904</td><td>2</td></tr><tr><td>20210517</td><td>208142</td><td>2</td></tr><tr><td>20221031</td><td>208147</td><td>2</td></tr><tr><td>20210308</td><td>208147</td><td>2</td></tr><tr><td>20230306</td><td>208147</td><td>2</td></tr><tr><td>20210208</td><td>208142</td><td>2</td></tr><tr><td>20220919</td><td>208147</td><td>2</td></tr><tr><td>20221010</td><td>208147</td><td>2</td></tr><tr><td>20220808</td><td>208147</td><td>2</td></tr><tr><td>20210322</td><td>208142</td><td>2</td></tr><tr><td>20210405</td><td>208142</td><td>2</td></tr><tr><td>20220926</td><td>208147</td><td>2</td></tr><tr><td>20110725</td><td>106223</td><td>2</td></tr><tr><td>20200928</td><td>208142</td><td>2</td></tr><tr><td>20220711</td><td>208142</td><td>2</td></tr><tr><td>20210315</td><td>208142</td><td>2</td></tr><tr><td>20230403</td><td>208147</td><td>2</td></tr><tr><td>20211213</td><td>208147</td><td>2</td></tr><tr><td>20191125</td><td>206904</td><td>2</td></tr><tr><td>20210118</td><td>206904</td><td>2</td></tr><tr><td>20200210</td><td>206904</td><td>2</td></tr><tr><td>20191118</td><td>208142</td><td>2</td></tr><tr><td>20221219</td><td>208147</td><td>2</td></tr><tr><td>20191028</td><td>208142</td><td>2</td></tr><tr><td>20191111</td><td>208142</td><td>2</td></tr><tr><td>20200217</td><td>206904</td><td>2</td></tr><tr><td>20210201</td><td>208147</td><td>2</td></tr><tr><td>20200824</td><td>206904</td><td>2</td></tr><tr><td>20200309</td><td>208147</td><td>2</td></tr><tr><td>20200831</td><td>208142</td><td>2</td></tr><tr><td>19910513</td><td>108831</td><td>2</td></tr><tr><td>20201109</td><td>206904</td><td>2</td></tr><tr><td>20201109</td><td>208142</td><td>2</td></tr><tr><td>20201214</td><td>206904</td><td>2</td></tr><tr><td>19910218</td><td>108831</td><td>2</td></tr><tr><td>19890814</td><td>100905</td><td>2</td></tr><tr><td>19890213</td><td>108831</td><td>2</td></tr><tr><td>19890508</td><td>108831</td><td>2</td></tr><tr><td>19860512</td><td>123200</td><td>2</td></tr><tr><td>19851125</td><td>124487</td><td>2</td></tr><tr><td>19880829</td><td>123200</td><td>2</td></tr><tr><td>19910128</td><td>108831</td><td>2</td></tr><tr><td>19890619</td><td>108831</td><td>2</td></tr><tr><td>19880829</td><td>108831</td><td>2</td></tr><tr><td>19910107</td><td>108831</td><td>2</td></tr><tr><td>19850114</td><td>110788</td><td>2</td></tr><tr><td>19850218</td><td>110788</td><td>2</td></tr><tr><td>20210823</td><td>206904</td><td>2</td></tr><tr><td>20210719</td><td>122474</td><td>2</td></tr><tr><td>20230612</td><td>208142</td><td>2</td></tr><tr><td>20211101</td><td>206904</td><td>2</td></tr><tr><td>20210913</td><td>208147</td><td>2</td></tr><tr><td>20220516</td><td>208142</td><td>2</td></tr><tr><td>20210719</td><td>126193</td><td>2</td></tr><tr><td>20230626</td><td>208142</td><td>2</td></tr><tr><td>20220131</td><td>208147</td><td>2</td></tr><tr><td>20220207</td><td>208147</td><td>2</td></tr><tr><td>20210719</td><td>126612</td><td>2</td></tr><tr><td>20210809</td><td>208142</td><td>2</td></tr><tr><td>20230821</td><td>208147</td><td>2</td></tr><tr><td>20220214</td><td>206904</td><td>2</td></tr><tr><td>20220516</td><td>208147</td><td>2</td></tr><tr><td>20210719</td><td>109737</td><td>2</td></tr><tr><td>20210920</td><td>208147</td><td>2</td></tr><tr><td>20211018</td><td>208147</td><td>2</td></tr><tr><td>20210719</td><td>105434</td><td>2</td></tr><tr><td>20220606</td><td>208142</td><td>2</td></tr><tr><td>20230619</td><td>208142</td><td>2</td></tr><tr><td>20240212</td><td>208147</td><td>2</td></tr><tr><td>20220207</td><td>206904</td><td>2</td></tr><tr><td>20210927</td><td>208147</td><td>2</td></tr><tr><td>20231218</td><td>208147</td><td>2</td></tr><tr><td>20210719</td><td>200230</td><td>2</td></tr><tr><td>20231204</td><td>208147</td><td>2</td></tr><tr><td>20230925</td><td>208147</td><td>2</td></tr><tr><td>20191014</td><td>208109</td><td>2</td></tr><tr><td>20191014</td><td>208147</td><td>2</td></tr><tr><td>20190909</td><td>206904</td><td>2</td></tr><tr><td>20220418</td><td>206904</td><td>2</td></tr><tr><td>20220307</td><td>208147</td><td>2</td></tr><tr><td>20220502</td><td>206904</td><td>2</td></tr><tr><td>20220509</td><td>208142</td><td>2</td></tr><tr><td>20190826</td><td>208109</td><td>2</td></tr><tr><td>20210510</td><td>208142</td><td>2</td></tr><tr><td>20210621</td><td>208147</td><td>2</td></tr><tr><td>20210301</td><td>206904</td><td>2</td></tr><tr><td>20221024</td><td>208147</td><td>2</td></tr><tr><td>20200921</td><td>208147</td><td>2</td></tr><tr><td>20221114</td><td>208147</td><td>2</td></tr><tr><td>20201019</td><td>208142</td><td>2</td></tr><tr><td>20220912</td><td>208142</td><td>2</td></tr><tr><td>20210719</td><td>206904</td><td>2</td></tr><tr><td>20201019</td><td>208147</td><td>2</td></tr><tr><td>20210322</td><td>208147</td><td>2</td></tr><tr><td>20221107</td><td>208147</td><td>2</td></tr><tr><td>20220808</td><td>208142</td><td>2</td></tr><tr><td>20211206</td><td>208142</td><td>2</td></tr><tr><td>20201012</td><td>208142</td><td>2</td></tr><tr><td>20210308</td><td>208142</td><td>2</td></tr><tr><td>20221017</td><td>208142</td><td>2</td></tr><tr><td>20221226</td><td>209284</td><td>2</td></tr><tr><td>20210111</td><td>206904</td><td>2</td></tr><tr><td>20211213</td><td>206904</td><td>2</td></tr><tr><td>20211220</td><td>206904</td><td>2</td></tr><tr><td>20210111</td><td>208147</td><td>2</td></tr><tr><td>20220110</td><td>206904</td><td>2</td></tr><tr><td>20191028</td><td>206904</td><td>2</td></tr><tr><td>20191209</td><td>208147</td><td>2</td></tr><tr><td>20200302</td><td>208147</td><td>2</td></tr><tr><td>20200210</td><td>208147</td><td>2</td></tr><tr><td>20200224</td><td>206904</td><td>2</td></tr><tr><td>20191216</td><td>208109</td><td>2</td></tr><tr><td>20200302</td><td>206904</td><td>2</td></tr><tr><td>20200309</td><td>208142</td><td>2</td></tr><tr><td>19910415</td><td>108831</td><td>2</td></tr><tr><td>20201228</td><td>206904</td><td>2</td></tr><tr><td>20201228</td><td>208147</td><td>2</td></tr><tr><td>20201228</td><td>208142</td><td>2</td></tr><tr><td>19910422</td><td>108831</td><td>2</td></tr><tr><td>20201207</td><td>208142</td><td>2</td></tr><tr><td>20201130</td><td>206904</td><td>2</td></tr><tr><td>19910429</td><td>108831</td><td>2</td></tr><tr><td>20201207</td><td>208147</td><td>2</td></tr><tr><td>19910408</td><td>108831</td><td>2</td></tr><tr><td>19840723</td><td>124487</td><td>2</td></tr><tr><td>19840806</td><td>124487</td><td>2</td></tr><tr><td>19891016</td><td>123200</td><td>2</td></tr><tr><td>19890522</td><td>108831</td><td>2</td></tr><tr><td>19891211</td><td>108831</td><td>2</td></tr><tr><td>19841001</td><td>123200</td><td>2</td></tr><tr><td>19851028</td><td>108831</td><td>2</td></tr><tr><td>19840924</td><td>123200</td><td>2</td></tr><tr><td>19890220</td><td>108831</td><td>2</td></tr><tr><td>19850107</td><td>110788</td><td>2</td></tr></tbody></table></div>"
      ]
     },
     "metadata": {
      "application/vnd.databricks.v1+output": {
       "addedWidgets": {},
       "aggData": [],
       "aggError": "",
       "aggOverflow": false,
       "aggSchema": [],
       "aggSeriesLimitReached": false,
       "aggType": "",
       "arguments": {},
       "columnCustomDisplayInfos": {},
       "data": [
        [
         20220523,
         208147,
         2
        ],
        [
         20210823,
         208142,
         2
        ],
        [
         20210719,
         144703,
         2
        ],
        [
         20210809,
         208147,
         2
        ],
        [
         20220207,
         208142,
         2
        ],
        [
         20211004,
         208147,
         2
        ],
        [
         20210927,
         206904,
         2
        ],
        [
         20211018,
         206904,
         2
        ],
        [
         20210719,
         127032,
         2
        ],
        [
         20231225,
         208147,
         2
        ],
        [
         20230814,
         208147,
         2
        ],
        [
         20210719,
         200273,
         2
        ],
        [
         20210719,
         132054,
         2
        ],
        [
         20211108,
         206904,
         2
        ],
        [
         20210719,
         202150,
         2
        ],
        [
         20220523,
         208142,
         2
        ],
        [
         20210719,
         126464,
         2
        ],
        [
         20210802,
         208147,
         2
        ],
        [
         20210719,
         200184,
         2
        ],
        [
         20210726,
         208142,
         2
        ],
        [
         20220214,
         208142,
         2
        ],
        [
         20210719,
         105493,
         2
        ],
        [
         20210809,
         206904,
         2
        ],
        [
         20230731,
         208147,
         2
        ],
        [
         20210719,
         209209,
         2
        ],
        [
         20230626,
         208147,
         2
        ],
        [
         20230828,
         208147,
         2
        ],
        [
         20190805,
         208109,
         2
        ],
        [
         20210719,
         208931,
         2
        ],
        [
         20210719,
         126152,
         2
        ],
        [
         20190923,
         208109,
         2
        ],
        [
         20191021,
         208147,
         2
        ],
        [
         20190812,
         208142,
         2
        ],
        [
         20220228,
         208147,
         2
        ],
        [
         20190812,
         208124,
         2
        ],
        [
         20220321,
         206904,
         2
        ],
        [
         20220411,
         208142,
         2
        ],
        [
         20191007,
         208147,
         2
        ],
        [
         20190826,
         206904,
         2
        ],
        [
         20210531,
         206904,
         2
        ],
        [
         20220502,
         208147,
         2
        ],
        [
         20221121,
         208147,
         2
        ],
        [
         20210426,
         208147,
         2
        ],
        [
         20210315,
         208147,
         2
        ],
        [
         20221003,
         208142,
         2
        ],
        [
         20220822,
         208142,
         2
        ],
        [
         20220711,
         208147,
         2
        ],
        [
         20201026,
         208142,
         2
        ],
        [
         20220926,
         208142,
         2
        ],
        [
         20210621,
         208142,
         2
        ],
        [
         20211115,
         208147,
         2
        ],
        [
         20211115,
         208142,
         2
        ],
        [
         20230320,
         208147,
         2
        ],
        [
         20210412,
         206904,
         2
        ],
        [
         20220815,
         208142,
         2
        ],
        [
         20201012,
         208147,
         2
        ],
        [
         20210712,
         208147,
         2
        ],
        [
         20220718,
         208142,
         2
        ],
        [
         20210628,
         206904,
         2
        ],
        [
         20200914,
         208147,
         2
        ],
        [
         20200217,
         208142,
         2
        ],
        [
         20191028,
         208147,
         2
        ],
        [
         20191202,
         208147,
         2
        ],
        [
         20200302,
         208142,
         2
        ],
        [
         20191202,
         208142,
         2
        ],
        [
         20191111,
         206904,
         2
        ],
        [
         20191111,
         208109,
         2
        ],
        [
         20191125,
         208109,
         2
        ],
        [
         20200217,
         208147,
         2
        ],
        [
         20210201,
         206904,
         2
        ],
        [
         20191230,
         206904,
         2
        ],
        [
         20191125,
         208147,
         2
        ],
        [
         20191028,
         208109,
         2
        ],
        [
         20221205,
         208533,
         2
        ],
        [
         20191223,
         208147,
         2
        ],
        [
         20201123,
         208142,
         2
        ],
        [
         20201026,
         206904,
         2
        ],
        [
         20201102,
         208147,
         2
        ],
        [
         20201123,
         208147,
         2
        ],
        [
         20201102,
         208142,
         2
        ],
        [
         20201214,
         208142,
         2
        ],
        [
         19910520,
         108831,
         2
        ],
        [
         20201116,
         208147,
         2
        ],
        [
         20201221,
         208147,
         2
        ],
        [
         20201116,
         206904,
         2
        ],
        [
         19960902,
         103073,
         2
        ],
        [
         19840806,
         123200,
         2
        ],
        [
         19840730,
         110788,
         2
        ],
        [
         19840709,
         124487,
         2
        ],
        [
         19890717,
         100905,
         2
        ],
        [
         19780102,
         100054,
         2
        ],
        [
         19791226,
         110788,
         2
        ],
        [
         19780717,
         100054,
         2
        ],
        [
         19891016,
         108831,
         2
        ],
        [
         19890612,
         108831,
         2
        ],
        [
         19891023,
         108831,
         2
        ],
        [
         19890814,
         108831,
         2
        ],
        [
         19910211,
         108831,
         2
        ],
        [
         19910114,
         108831,
         2
        ],
        [
         19841008,
         110788,
         2
        ],
        [
         19841008,
         123200,
         2
        ],
        [
         20240422,
         208147,
         2
        ],
        [
         20210830,
         206904,
         2
        ],
        [
         20210719,
         132573,
         2
        ],
        [
         20210719,
         106021,
         2
        ],
        [
         20210719,
         144681,
         2
        ],
        [
         20230807,
         208147,
         2
        ],
        [
         20220117,
         208147,
         2
        ],
        [
         20210830,
         208147,
         2
        ],
        [
         20210719,
         109318,
         2
        ],
        [
         20210719,
         208119,
         2
        ],
        [
         20210719,
         105716,
         2
        ],
        [
         20240408,
         208147,
         2
        ],
        [
         20220214,
         208147,
         2
        ],
        [
         20210719,
         202126,
         2
        ],
        [
         20230828,
         208142,
         2
        ],
        [
         20210719,
         207815,
         2
        ],
        [
         20230911,
         208147,
         2
        ],
        [
         20211025,
         206904,
         2
        ],
        [
         20210719,
         105421,
         2
        ],
        [
         20230717,
         208147,
         2
        ],
        [
         20210719,
         206746,
         2
        ],
        [
         20211108,
         208147,
         2
        ],
        [
         20210719,
         105059,
         2
        ],
        [
         20210719,
         132744,
         2
        ],
        [
         20210719,
         111459,
         2
        ],
        [
         20220516,
         206904,
         2
        ],
        [
         20210830,
         208142,
         2
        ],
        [
         20210719,
         200595,
         2
        ],
        [
         20240415,
         208147,
         2
        ],
        [
         20210816,
         206904,
         2
        ],
        [
         20220418,
         208147,
         2
        ],
        [
         20191021,
         208109,
         2
        ],
        [
         20220411,
         206904,
         2
        ],
        [
         20240205,
         208147,
         2
        ],
        [
         20190805,
         208124,
         2
        ],
        [
         20190923,
         208147,
         2
        ],
        [
         20210524,
         208147,
         2
        ],
        [
         20190819,
         208124,
         2
        ],
        [
         20190909,
         208109,
         2
        ],
        [
         20190930,
         208147,
         2
        ],
        [
         20211213,
         208142,
         2
        ],
        [
         20220620,
         208142,
         2
        ],
        [
         20200921,
         208142,
         2
        ],
        [
         20210628,
         208147,
         2
        ],
        [
         20210322,
         206904,
         2
        ],
        [
         20210222,
         208142,
         2
        ],
        [
         20210426,
         208142,
         2
        ],
        [
         20211206,
         208147,
         2
        ],
        [
         20221003,
         208147,
         2
        ],
        [
         20220822,
         208147,
         2
        ],
        [
         20221010,
         208142,
         2
        ],
        [
         20220829,
         208142,
         2
        ],
        [
         20210301,
         208147,
         2
        ],
        [
         20221128,
         208147,
         2
        ],
        [
         20191111,
         208147,
         2
        ],
        [
         20221226,
         208147,
         2
        ],
        [
         20191216,
         206904,
         2
        ],
        [
         20210125,
         208142,
         2
        ],
        [
         20191125,
         208142,
         2
        ],
        [
         20200203,
         208147,
         2
        ],
        [
         20210104,
         206904,
         2
        ],
        [
         20220103,
         208142,
         2
        ],
        [
         20200120,
         206904,
         2
        ],
        [
         20200224,
         208142,
         2
        ],
        [
         20201221,
         206904,
         2
        ],
        [
         20201207,
         206904,
         2
        ],
        [
         20201123,
         206904,
         2
        ],
        [
         20200106,
         208147,
         2
        ],
        [
         20201116,
         208142,
         2
        ],
        [
         19840716,
         124487,
         2
        ],
        [
         19910304,
         108831,
         2
        ],
        [
         19910225,
         108831,
         2
        ],
        [
         19840917,
         123200,
         2
        ],
        [
         19890424,
         108831,
         2
        ],
        [
         19851125,
         108831,
         2
        ],
        [
         19890515,
         108831,
         2
        ],
        [
         19880926,
         123200,
         2
        ],
        [
         19841217,
         110788,
         2
        ],
        [
         20231211,
         208147,
         2
        ],
        [
         20211025,
         208142,
         2
        ],
        [
         20210920,
         208142,
         2
        ],
        [
         20210920,
         206904,
         2
        ],
        [
         20230612,
         208147,
         2
        ],
        [
         20210719,
         106397,
         2
        ],
        [
         20210816,
         208142,
         2
        ],
        [
         20230911,
         208142,
         2
        ],
        [
         20210719,
         105223,
         2
        ],
        [
         20230731,
         208142,
         2
        ],
        [
         20210823,
         208147,
         2
        ],
        [
         20220117,
         206904,
         2
        ],
        [
         20231023,
         208147,
         2
        ],
        [
         20210719,
         132495,
         2
        ],
        [
         20210719,
         122393,
         2
        ],
        [
         20220620,
         208147,
         2
        ],
        [
         20211101,
         208142,
         2
        ],
        [
         20210927,
         208142,
         2
        ],
        [
         20210913,
         208142,
         2
        ],
        [
         20210719,
         106254,
         2
        ],
        [
         20231106,
         208147,
         2
        ],
        [
         20230522,
         208147,
         2
        ],
        [
         20210719,
         209259,
         2
        ],
        [
         20220411,
         208147,
         2
        ],
        [
         20190909,
         208147,
         2
        ],
        [
         20220418,
         208142,
         2
        ],
        [
         20210531,
         208147,
         2
        ],
        [
         20240101,
         208147,
         2
        ],
        [
         20220307,
         206904,
         2
        ],
        [
         20240520,
         208147,
         2
        ],
        [
         20240527,
         208147,
         2
        ],
        [
         20190916,
         208142,
         2
        ],
        [
         20220307,
         208142,
         2
        ],
        [
         20191021,
         208142,
         2
        ],
        [
         20220404,
         206904,
         2
        ],
        [
         20190916,
         208109,
         2
        ],
        [
         20190819,
         208142,
         2
        ],
        [
         20220321,
         208142,
         2
        ],
        [
         20240115,
         208147,
         2
        ],
        [
         20190909,
         208142,
         2
        ],
        [
         20210628,
         208142,
         2
        ],
        [
         20220801,
         208142,
         2
        ],
        [
         20230220,
         208147,
         2
        ],
        [
         20230227,
         208147,
         2
        ],
        [
         20230213,
         208147,
         2
        ],
        [
         20210419,
         206904,
         2
        ],
        [
         20220725,
         208147,
         2
        ],
        [
         20230206,
         208147,
         2
        ],
        [
         20210301,
         208142,
         2
        ],
        [
         20220801,
         208147,
         2
        ],
        [
         20211122,
         206904,
         2
        ],
        [
         20211129,
         206904,
         2
        ],
        [
         20220912,
         208147,
         2
        ],
        [
         20210419,
         208142,
         2
        ],
        [
         20230424,
         208147,
         2
        ],
        [
         20200914,
         206904,
         2
        ],
        [
         20210222,
         206904,
         2
        ],
        [
         20191104,
         208147,
         2
        ],
        [
         20210125,
         208147,
         2
        ],
        [
         20221212,
         208147,
         2
        ],
        [
         20191209,
         206904,
         2
        ],
        [
         20230109,
         208147,
         2
        ],
        [
         20230116,
         208147,
         2
        ],
        [
         20220103,
         208147,
         2
        ],
        [
         20211220,
         208142,
         2
        ],
        [
         20191223,
         208109,
         2
        ],
        [
         20210118,
         208142,
         2
        ],
        [
         20211227,
         208147,
         2
        ],
        [
         20191230,
         208147,
         2
        ],
        [
         20210125,
         206904,
         2
        ],
        [
         20200203,
         208142,
         2
        ],
        [
         20200203,
         206904,
         2
        ],
        [
         20191104,
         208109,
         2
        ],
        [
         20200316,
         208142,
         2
        ],
        [
         20200824,
         208147,
         2
        ],
        [
         20201221,
         208142,
         2
        ],
        [
         20201102,
         206904,
         2
        ],
        [
         20201109,
         208147,
         2
        ],
        [
         20200106,
         206904,
         2
        ],
        [
         19900813,
         108831,
         2
        ],
        [
         19900820,
         108831,
         2
        ],
        [
         19840625,
         124487,
         2
        ],
        [
         19841022,
         110788,
         2
        ],
        [
         19890710,
         108831,
         2
        ],
        [
         19850527,
         110788,
         2
        ],
        [
         19781231,
         110788,
         2
        ],
        [
         19851021,
         124487,
         2
        ],
        [
         19890417,
         108831,
         2
        ],
        [
         19890710,
         100905,
         2
        ],
        [
         19891009,
         123200,
         2
        ],
        [
         19890731,
         100905,
         2
        ],
        [
         19890724,
         100905,
         2
        ],
        [
         19860714,
         123200,
         2
        ],
        [
         20210719,
         201995,
         2
        ],
        [
         20210719,
         208882,
         2
        ],
        [
         20210719,
         209260,
         2
        ],
        [
         20210719,
         208300,
         2
        ],
        [
         20211108,
         208142,
         2
        ],
        [
         20210719,
         200466,
         2
        ],
        [
         20230724,
         208147,
         2
        ],
        [
         20210719,
         208859,
         2
        ],
        [
         20231030,
         208147,
         2
        ],
        [
         20210719,
         110647,
         2
        ],
        [
         20210719,
         200070,
         2
        ],
        [
         20231127,
         208147,
         2
        ],
        [
         20211004,
         206904,
         2
        ],
        [
         20210719,
         122606,
         2
        ],
        [
         20220221,
         208142,
         2
        ],
        [
         20211004,
         208142,
         2
        ],
        [
         20210719,
         200418,
         2
        ],
        [
         20210719,
         122352,
         2
        ],
        [
         20210719,
         105691,
         2
        ],
        [
         20210913,
         206904,
         2
        ],
        [
         20210719,
         209857,
         2
        ],
        [
         20210719,
         111784,
         2
        ],
        [
         20230918,
         208142,
         2
        ],
        [
         20210719,
         138485,
         2
        ],
        [
         20210726,
         206904,
         2
        ],
        [
         20240304,
         208147,
         2
        ],
        [
         20230918,
         208147,
         2
        ],
        [
         20210719,
         104905,
         2
        ],
        [
         20210510,
         206904,
         2
        ],
        [
         20210517,
         206904,
         2
        ],
        [
         20220228,
         208142,
         2
        ],
        [
         20191007,
         208142,
         2
        ],
        [
         19741223,
         106859,
         2
        ],
        [
         20220404,
         208142,
         2
        ],
        [
         20220425,
         208147,
         2
        ],
        [
         20191014,
         208142,
         2
        ],
        [
         20190916,
         208147,
         2
        ],
        [
         20220228,
         206904,
         2
        ],
        [
         20220404,
         208147,
         2
        ],
        [
         20210510,
         208147,
         2
        ],
        [
         20190930,
         208142,
         2
        ],
        [
         20220627,
         208142,
         2
        ],
        [
         20200921,
         202421,
         2
        ],
        [
         20211129,
         208147,
         2
        ],
        [
         20220725,
         208142,
         2
        ],
        [
         20230417,
         208147,
         2
        ],
        [
         20220919,
         208142,
         2
        ],
        [
         20210614,
         208142,
         2
        ],
        [
         20210315,
         206904,
         2
        ],
        [
         20210621,
         206904,
         2
        ],
        [
         20211206,
         206904,
         2
        ],
        [
         20200921,
         111183,
         2
        ],
        [
         20201019,
         206904,
         2
        ],
        [
         20220718,
         208147,
         2
        ],
        [
         20220627,
         208147,
         2
        ],
        [
         20210426,
         206904,
         2
        ],
        [
         20210208,
         206904,
         2
        ],
        [
         20210412,
         208142,
         2
        ],
        [
         20210405,
         208147,
         2
        ],
        [
         20191223,
         206904,
         2
        ],
        [
         20191104,
         208142,
         2
        ],
        [
         20191202,
         208109,
         2
        ],
        [
         20230130,
         208147,
         2
        ],
        [
         20191230,
         208142,
         2
        ],
        [
         20220110,
         208142,
         2
        ],
        [
         20220103,
         206904,
         2
        ],
        [
         20191118,
         208147,
         2
        ],
        [
         20191216,
         208147,
         2
        ],
        [
         20191118,
         208109,
         2
        ],
        [
         20210118,
         208147,
         2
        ],
        [
         20210104,
         208142,
         2
        ],
        [
         20210104,
         208147,
         2
        ],
        [
         20200113,
         208147,
         2
        ],
        [
         20201130,
         208147,
         2
        ],
        [
         19900806,
         108831,
         2
        ],
        [
         19840730,
         124487,
         2
        ],
        [
         19850527,
         123200,
         2
        ],
        [
         19850909,
         124487,
         2
        ],
        [
         19850909,
         108831,
         2
        ],
        [
         19890130,
         108831,
         2
        ],
        [
         19891009,
         108831,
         2
        ],
        [
         19890109,
         108831,
         2
        ],
        [
         19851014,
         124487,
         2
        ],
        [
         19841112,
         110788,
         2
        ],
        [
         20230522,
         208142,
         2
        ],
        [
         20210719,
         200329,
         2
        ],
        [
         20210719,
         126723,
         2
        ],
        [
         20210719,
         106280,
         2
        ],
        [
         20240219,
         208147,
         2
        ],
        [
         20210719,
         202065,
         2
        ],
        [
         20240226,
         208147,
         2
        ],
        [
         20240318,
         208147,
         2
        ],
        [
         20210719,
         104467,
         2
        ],
        [
         20210719,
         134384,
         2
        ],
        [
         20190805,
         206904,
         2
        ],
        [
         20210719,
         124040,
         2
        ],
        [
         20220131,
         208142,
         2
        ],
        [
         20210802,
         208142,
         2
        ],
        [
         20210719,
         105560,
         2
        ],
        [
         20231113,
         208147,
         2
        ],
        [
         20210719,
         105026,
         2
        ],
        [
         20210719,
         117362,
         2
        ],
        [
         20211101,
         208147,
         2
        ],
        [
         20210719,
         200666,
         2
        ],
        [
         20210719,
         202333,
         2
        ],
        [
         20210719,
         125848,
         2
        ],
        [
         20230529,
         208142,
         2
        ],
        [
         20230724,
         208142,
         2
        ],
        [
         20230619,
         208147,
         2
        ],
        [
         20230703,
         208142,
         2
        ],
        [
         20210719,
         133820,
         2
        ],
        [
         20210719,
         104510,
         2
        ],
        [
         20210719,
         207491,
         2
        ],
        [
         20210719,
         106059,
         2
        ],
        [
         20231002,
         208147,
         2
        ],
        [
         20210719,
         124001,
         2
        ],
        [
         20220606,
         206904,
         2
        ],
        [
         20220131,
         206904,
         2
        ],
        [
         19740909,
         106859,
         2
        ],
        [
         20191021,
         206904,
         2
        ],
        [
         20240129,
         208147,
         2
        ],
        [
         20220425,
         208142,
         2
        ],
        [
         19730827,
         124487,
         2
        ],
        [
         20190930,
         208109,
         2
        ],
        [
         20191014,
         206904,
         2
        ],
        [
         20220509,
         208147,
         2
        ],
        [
         19730827,
         100054,
         2
        ],
        [
         20191007,
         208109,
         2
        ],
        [
         20210524,
         208142,
         2
        ],
        [
         20240108,
         208147,
         2
        ],
        [
         20210419,
         208147,
         2
        ],
        [
         20201026,
         208147,
         2
        ],
        [
         20200921,
         206904,
         2
        ],
        [
         20200928,
         208147,
         2
        ],
        [
         20210412,
         208147,
         2
        ],
        [
         20210712,
         206904,
         2
        ],
        [
         20211115,
         206904,
         2
        ],
        [
         20210712,
         208142,
         2
        ],
        [
         20210719,
         208142,
         2
        ],
        [
         20220110,
         208147,
         2
        ],
        [
         20191209,
         208142,
         2
        ],
        [
         20191104,
         206904,
         2
        ],
        [
         20230116,
         209284,
         2
        ],
        [
         20191209,
         208109,
         2
        ],
        [
         20211220,
         208147,
         2
        ],
        [
         20191202,
         206904,
         2
        ],
        [
         20210111,
         208142,
         2
        ],
        [
         20200210,
         208142,
         2
        ],
        [
         20211227,
         208142,
         2
        ],
        [
         20210201,
         208142,
         2
        ],
        [
         20200309,
         206904,
         2
        ],
        [
         20200316,
         208147,
         2
        ],
        [
         20200113,
         208142,
         2
        ],
        [
         19910624,
         108831,
         2
        ],
        [
         19890626,
         108831,
         2
        ],
        [
         19851021,
         108831,
         2
        ],
        [
         19851028,
         124487,
         2
        ],
        [
         19851111,
         123200,
         2
        ],
        [
         19890227,
         108831,
         2
        ],
        [
         19851014,
         108831,
         2
        ],
        [
         19850204,
         110788,
         2
        ],
        [
         20210719,
         208913,
         2
        ],
        [
         20220117,
         208142,
         2
        ],
        [
         20210719,
         206470,
         2
        ],
        [
         20210719,
         200441,
         2
        ],
        [
         20231016,
         208147,
         2
        ],
        [
         20230807,
         208142,
         2
        ],
        [
         20240401,
         208147,
         2
        ],
        [
         20230508,
         208147,
         2
        ],
        [
         20210719,
         209131,
         2
        ],
        [
         20210726,
         208147,
         2
        ],
        [
         20210719,
         202105,
         2
        ],
        [
         20210719,
         208014,
         2
        ],
        [
         20210719,
         126758,
         2
        ],
        [
         20210719,
         105085,
         2
        ],
        [
         20231120,
         208147,
         2
        ],
        [
         20220613,
         208147,
         2
        ],
        [
         20210719,
         126092,
         2
        ],
        [
         20210719,
         144716,
         2
        ],
        [
         20220613,
         208142,
         2
        ],
        [
         20220606,
         208147,
         2
        ],
        [
         20210719,
         208363,
         2
        ],
        [
         20240506,
         208147,
         2
        ],
        [
         20210719,
         202321,
         2
        ],
        [
         20230821,
         208142,
         2
        ],
        [
         20211025,
         208147,
         2
        ],
        [
         20210719,
         207844,
         2
        ],
        [
         20220509,
         206904,
         2
        ],
        [
         20210719,
         200297,
         2
        ],
        [
         20210719,
         105452,
         2
        ],
        [
         20190826,
         208124,
         2
        ],
        [
         20220502,
         208142,
         2
        ],
        [
         20191007,
         206904,
         2
        ],
        [
         20210503,
         206904,
         2
        ],
        [
         20190930,
         206904,
         2
        ],
        [
         20190805,
         208142,
         2
        ],
        [
         20210503,
         208142,
         2
        ],
        [
         20210517,
         208147,
         2
        ],
        [
         19750120,
         106859,
         2
        ],
        [
         20190819,
         206904,
         2
        ],
        [
         20210531,
         208142,
         2
        ],
        [
         20190826,
         208147,
         2
        ],
        [
         20190826,
         208142,
         2
        ],
        [
         20211129,
         208142,
         2
        ],
        [
         20201012,
         206904,
         2
        ],
        [
         20210405,
         206904,
         2
        ],
        [
         20200928,
         206904,
         2
        ],
        [
         20211122,
         208142,
         2
        ],
        [
         20221017,
         208147,
         2
        ],
        [
         20210208,
         208147,
         2
        ],
        [
         20220829,
         208147,
         2
        ],
        [
         20220815,
         208147,
         2
        ],
        [
         20210614,
         206904,
         2
        ],
        [
         20230410,
         208147,
         2
        ],
        [
         20210222,
         208147,
         2
        ],
        [
         20210308,
         206904,
         2
        ],
        [
         20211122,
         208147,
         2
        ],
        [
         20200914,
         208142,
         2
        ],
        [
         20221205,
         208147,
         2
        ],
        [
         20200120,
         208147,
         2
        ],
        [
         20211227,
         206904,
         2
        ],
        [
         20191118,
         206904,
         2
        ],
        [
         20200224,
         208147,
         2
        ],
        [
         20191223,
         208142,
         2
        ],
        [
         20230102,
         209284,
         2
        ],
        [
         20230109,
         209284,
         2
        ],
        [
         20200120,
         208142,
         2
        ],
        [
         20191216,
         208142,
         2
        ],
        [
         20230102,
         208147,
         2
        ],
        [
         19980907,
         111246,
         2
        ],
        [
         20200831,
         208147,
         2
        ],
        [
         20200831,
         206904,
         2
        ],
        [
         20200824,
         208142,
         2
        ],
        [
         20200316,
         206904,
         2
        ],
        [
         20201214,
         208147,
         2
        ],
        [
         20200113,
         206904,
         2
        ],
        [
         20201130,
         208142,
         2
        ],
        [
         20200106,
         208142,
         2
        ],
        [
         19910506,
         108831,
         2
        ],
        [
         19830103,
         123200,
         2
        ],
        [
         19880926,
         108831,
         2
        ],
        [
         19890807,
         108831,
         2
        ],
        [
         19901224,
         108831,
         2
        ],
        [
         19890807,
         100905,
         2
        ],
        [
         19881219,
         108831,
         2
        ],
        [
         19850916,
         108831,
         2
        ],
        [
         19850708,
         123200,
         2
        ],
        [
         19850506,
         124487,
         2
        ],
        [
         19890306,
         108831,
         2
        ],
        [
         19850916,
         124487,
         2
        ],
        [
         19891023,
         123200,
         2
        ],
        [
         19841224,
         110788,
         2
        ],
        [
         19841029,
         110788,
         2
        ],
        [
         19850128,
         110788,
         2
        ],
        [
         20210719,
         104901,
         2
        ],
        [
         20210719,
         200518,
         2
        ],
        [
         20210816,
         208147,
         2
        ],
        [
         20210719,
         133603,
         2
        ],
        [
         20210719,
         126209,
         2
        ],
        [
         20210719,
         209262,
         2
        ],
        [
         20210719,
         122533,
         2
        ],
        [
         20210719,
         106051,
         2
        ],
        [
         20210719,
         207490,
         2
        ],
        [
         20210719,
         209263,
         2
        ],
        [
         20210719,
         126720,
         2
        ],
        [
         20230529,
         208147,
         2
        ],
        [
         20230703,
         208147,
         2
        ],
        [
         20210719,
         126171,
         2
        ],
        [
         20210802,
         206904,
         2
        ],
        [
         20230717,
         208142,
         2
        ],
        [
         20220221,
         208147,
         2
        ],
        [
         20211018,
         208142,
         2
        ],
        [
         20210719,
         208260,
         2
        ],
        [
         20220523,
         206904,
         2
        ],
        [
         20210719,
         208421,
         2
        ],
        [
         20210719,
         200220,
         2
        ],
        [
         20230814,
         208142,
         2
        ],
        [
         20220425,
         206904,
         2
        ],
        [
         20190812,
         208109,
         2
        ],
        [
         20190812,
         206904,
         2
        ],
        [
         20210524,
         206904,
         2
        ],
        [
         20190916,
         206904,
         2
        ],
        [
         20220321,
         208147,
         2
        ],
        [
         20190819,
         208109,
         2
        ],
        [
         20220221,
         206904,
         2
        ],
        [
         20190923,
         208142,
         2
        ],
        [
         20210503,
         208147,
         2
        ],
        [
         20210614,
         208147,
         2
        ],
        [
         20190923,
         206904,
         2
        ],
        [
         20210517,
         208142,
         2
        ],
        [
         20221031,
         208147,
         2
        ],
        [
         20210308,
         208147,
         2
        ],
        [
         20230306,
         208147,
         2
        ],
        [
         20210208,
         208142,
         2
        ],
        [
         20220919,
         208147,
         2
        ],
        [
         20221010,
         208147,
         2
        ],
        [
         20220808,
         208147,
         2
        ],
        [
         20210322,
         208142,
         2
        ],
        [
         20210405,
         208142,
         2
        ],
        [
         20220926,
         208147,
         2
        ],
        [
         20110725,
         106223,
         2
        ],
        [
         20200928,
         208142,
         2
        ],
        [
         20220711,
         208142,
         2
        ],
        [
         20210315,
         208142,
         2
        ],
        [
         20230403,
         208147,
         2
        ],
        [
         20211213,
         208147,
         2
        ],
        [
         20191125,
         206904,
         2
        ],
        [
         20210118,
         206904,
         2
        ],
        [
         20200210,
         206904,
         2
        ],
        [
         20191118,
         208142,
         2
        ],
        [
         20221219,
         208147,
         2
        ],
        [
         20191028,
         208142,
         2
        ],
        [
         20191111,
         208142,
         2
        ],
        [
         20200217,
         206904,
         2
        ],
        [
         20210201,
         208147,
         2
        ],
        [
         20200824,
         206904,
         2
        ],
        [
         20200309,
         208147,
         2
        ],
        [
         20200831,
         208142,
         2
        ],
        [
         19910513,
         108831,
         2
        ],
        [
         20201109,
         206904,
         2
        ],
        [
         20201109,
         208142,
         2
        ],
        [
         20201214,
         206904,
         2
        ],
        [
         19910218,
         108831,
         2
        ],
        [
         19890814,
         100905,
         2
        ],
        [
         19890213,
         108831,
         2
        ],
        [
         19890508,
         108831,
         2
        ],
        [
         19860512,
         123200,
         2
        ],
        [
         19851125,
         124487,
         2
        ],
        [
         19880829,
         123200,
         2
        ],
        [
         19910128,
         108831,
         2
        ],
        [
         19890619,
         108831,
         2
        ],
        [
         19880829,
         108831,
         2
        ],
        [
         19910107,
         108831,
         2
        ],
        [
         19850114,
         110788,
         2
        ],
        [
         19850218,
         110788,
         2
        ],
        [
         20210823,
         206904,
         2
        ],
        [
         20210719,
         122474,
         2
        ],
        [
         20230612,
         208142,
         2
        ],
        [
         20211101,
         206904,
         2
        ],
        [
         20210913,
         208147,
         2
        ],
        [
         20220516,
         208142,
         2
        ],
        [
         20210719,
         126193,
         2
        ],
        [
         20230626,
         208142,
         2
        ],
        [
         20220131,
         208147,
         2
        ],
        [
         20220207,
         208147,
         2
        ],
        [
         20210719,
         126612,
         2
        ],
        [
         20210809,
         208142,
         2
        ],
        [
         20230821,
         208147,
         2
        ],
        [
         20220214,
         206904,
         2
        ],
        [
         20220516,
         208147,
         2
        ],
        [
         20210719,
         109737,
         2
        ],
        [
         20210920,
         208147,
         2
        ],
        [
         20211018,
         208147,
         2
        ],
        [
         20210719,
         105434,
         2
        ],
        [
         20220606,
         208142,
         2
        ],
        [
         20230619,
         208142,
         2
        ],
        [
         20240212,
         208147,
         2
        ],
        [
         20220207,
         206904,
         2
        ],
        [
         20210927,
         208147,
         2
        ],
        [
         20231218,
         208147,
         2
        ],
        [
         20210719,
         200230,
         2
        ],
        [
         20231204,
         208147,
         2
        ],
        [
         20230925,
         208147,
         2
        ],
        [
         20191014,
         208109,
         2
        ],
        [
         20191014,
         208147,
         2
        ],
        [
         20190909,
         206904,
         2
        ],
        [
         20220418,
         206904,
         2
        ],
        [
         20220307,
         208147,
         2
        ],
        [
         20220502,
         206904,
         2
        ],
        [
         20220509,
         208142,
         2
        ],
        [
         20190826,
         208109,
         2
        ],
        [
         20210510,
         208142,
         2
        ],
        [
         20210621,
         208147,
         2
        ],
        [
         20210301,
         206904,
         2
        ],
        [
         20221024,
         208147,
         2
        ],
        [
         20200921,
         208147,
         2
        ],
        [
         20221114,
         208147,
         2
        ],
        [
         20201019,
         208142,
         2
        ],
        [
         20220912,
         208142,
         2
        ],
        [
         20210719,
         206904,
         2
        ],
        [
         20201019,
         208147,
         2
        ],
        [
         20210322,
         208147,
         2
        ],
        [
         20221107,
         208147,
         2
        ],
        [
         20220808,
         208142,
         2
        ],
        [
         20211206,
         208142,
         2
        ],
        [
         20201012,
         208142,
         2
        ],
        [
         20210308,
         208142,
         2
        ],
        [
         20221017,
         208142,
         2
        ],
        [
         20221226,
         209284,
         2
        ],
        [
         20210111,
         206904,
         2
        ],
        [
         20211213,
         206904,
         2
        ],
        [
         20211220,
         206904,
         2
        ],
        [
         20210111,
         208147,
         2
        ],
        [
         20220110,
         206904,
         2
        ],
        [
         20191028,
         206904,
         2
        ],
        [
         20191209,
         208147,
         2
        ],
        [
         20200302,
         208147,
         2
        ],
        [
         20200210,
         208147,
         2
        ],
        [
         20200224,
         206904,
         2
        ],
        [
         20191216,
         208109,
         2
        ],
        [
         20200302,
         206904,
         2
        ],
        [
         20200309,
         208142,
         2
        ],
        [
         19910415,
         108831,
         2
        ],
        [
         20201228,
         206904,
         2
        ],
        [
         20201228,
         208147,
         2
        ],
        [
         20201228,
         208142,
         2
        ],
        [
         19910422,
         108831,
         2
        ],
        [
         20201207,
         208142,
         2
        ],
        [
         20201130,
         206904,
         2
        ],
        [
         19910429,
         108831,
         2
        ],
        [
         20201207,
         208147,
         2
        ],
        [
         19910408,
         108831,
         2
        ],
        [
         19840723,
         124487,
         2
        ],
        [
         19840806,
         124487,
         2
        ],
        [
         19891016,
         123200,
         2
        ],
        [
         19890522,
         108831,
         2
        ],
        [
         19891211,
         108831,
         2
        ],
        [
         19841001,
         123200,
         2
        ],
        [
         19851028,
         108831,
         2
        ],
        [
         19840924,
         123200,
         2
        ],
        [
         19890220,
         108831,
         2
        ],
        [
         19850107,
         110788,
         2
        ]
       ],
       "datasetInfos": [],
       "dbfsResultPath": null,
       "isJsonSchema": true,
       "metadata": {},
       "overflow": false,
       "plotOptions": {
        "customPlotOptions": {},
        "displayType": "table",
        "pivotAggregation": null,
        "pivotColumns": null,
        "xColumns": null,
        "yColumns": null
       },
       "removedWidgets": [],
       "schema": [
        {
         "metadata": "{}",
         "name": "ranking_date",
         "type": "\"long\""
        },
        {
         "metadata": "{}",
         "name": "player",
         "type": "\"long\""
        },
        {
         "metadata": "{\"__autoGeneratedAlias\":\"true\"}",
         "name": "count(1)",
         "type": "\"long\""
        }
       ],
       "type": "table"
      }
     },
     "output_type": "display_data"
    }
   ],
   "source": [
    "%sql\n",
    "SELECT ranking_date, player, COUNT(*)\n",
    "FROM raw.rankings\n",
    "GROUP BY ranking_date, player\n",
    "HAVING COUNT(*) > 1;\n"
   ]
  },
  {
   "cell_type": "code",
   "execution_count": 0,
   "metadata": {
    "application/vnd.databricks.v1+cell": {
     "cellMetadata": {
      "byteLimit": 2048000,
      "implicitDf": true,
      "rowLimit": 10000
     },
     "inputWidgets": {},
     "nuid": "7bef99bd-dd8b-42ab-ad80-4623669cdc4b",
     "showTitle": false,
     "tableResultSettingsMap": {},
     "title": ""
    }
   },
   "outputs": [
    {
     "output_type": "display_data",
     "data": {
      "text/html": [
       "<style scoped>\n",
       "  .table-result-container {\n",
       "    max-height: 300px;\n",
       "    overflow: auto;\n",
       "  }\n",
       "  table, th, td {\n",
       "    border: 1px solid black;\n",
       "    border-collapse: collapse;\n",
       "  }\n",
       "  th, td {\n",
       "    padding: 5px;\n",
       "  }\n",
       "  th {\n",
       "    text-align: left;\n",
       "  }\n",
       "</style><div class='table-result-container'><table class='table-result'><thead style='background-color: white'><tr><th>num_affected_rows</th><th>num_inserted_rows</th></tr></thead><tbody></tbody></table></div>"
      ]
     },
     "metadata": {
      "application/vnd.databricks.v1+output": {
       "addedWidgets": {},
       "aggData": [],
       "aggError": "",
       "aggOverflow": false,
       "aggSchema": [],
       "aggSeriesLimitReached": false,
       "aggType": "",
       "arguments": {},
       "columnCustomDisplayInfos": {},
       "data": [],
       "datasetInfos": [],
       "dbfsResultPath": null,
       "isJsonSchema": true,
       "metadata": {},
       "overflow": false,
       "plotOptions": {
        "customPlotOptions": {},
        "displayType": "table",
        "pivotAggregation": null,
        "pivotColumns": null,
        "xColumns": null,
        "yColumns": null
       },
       "removedWidgets": [],
       "schema": [
        {
         "metadata": "{}",
         "name": "num_affected_rows",
         "type": "\"long\""
        },
        {
         "metadata": "{}",
         "name": "num_inserted_rows",
         "type": "\"long\""
        }
       ],
       "type": "table"
      }
     },
     "output_type": "display_data"
    }
   ],
   "source": [
    "%sql\n",
    "CREATE TABLE trusted.rankings AS\n",
    "WITH rankings_com_ids_corrigidos AS (\n",
    "    SELECT\n",
    "        r.ranking_date,\n",
    "        r.rank,\n",
    "        COALESCE(m.canonical_player_id, r.player) AS player,  -- substitui o ID se houver mapeamento\n",
    "        r.points\n",
    "    FROM raw.rankings r\n",
    "    LEFT JOIN staging.player_id_mapping m\n",
    "      ON r.player = m.duplicate_player_id\n",
    "),\n",
    "rankings_deduplicados AS (\n",
    "    SELECT *\n",
    "    FROM (\n",
    "        SELECT *,\n",
    "               ROW_NUMBER() OVER (\n",
    "                   PARTITION BY ranking_date, player\n",
    "                   ORDER BY rank ASC\n",
    "               ) AS rn\n",
    "        FROM rankings_com_ids_corrigidos\n",
    "    ) sub\n",
    "    WHERE rn = 1\n",
    ")\n",
    "SELECT \n",
    "    ranking_date,\n",
    "    rank,\n",
    "    player,\n",
    "    points\n",
    "FROM rankings_deduplicados;\n"
   ]
  },
  {
   "cell_type": "code",
   "execution_count": 0,
   "metadata": {
    "application/vnd.databricks.v1+cell": {
     "cellMetadata": {
      "byteLimit": 2048000,
      "implicitDf": true,
      "rowLimit": 10000
     },
     "inputWidgets": {},
     "nuid": "7a474f8d-c212-4a0d-8095-0329ba87ebc9",
     "showTitle": false,
     "tableResultSettingsMap": {},
     "title": ""
    }
   },
   "outputs": [
    {
     "output_type": "display_data",
     "data": {
      "text/html": [
       "<style scoped>\n",
       "  .table-result-container {\n",
       "    max-height: 300px;\n",
       "    overflow: auto;\n",
       "  }\n",
       "  table, th, td {\n",
       "    border: 1px solid black;\n",
       "    border-collapse: collapse;\n",
       "  }\n",
       "  th, td {\n",
       "    padding: 5px;\n",
       "  }\n",
       "  th {\n",
       "    text-align: left;\n",
       "  }\n",
       "</style><div class='table-result-container'><table class='table-result'><thead style='background-color: white'><tr><th>ranking_date</th><th>player</th><th>count(1)</th></tr></thead><tbody></tbody></table></div>"
      ]
     },
     "metadata": {
      "application/vnd.databricks.v1+output": {
       "addedWidgets": {},
       "aggData": [],
       "aggError": "",
       "aggOverflow": false,
       "aggSchema": [],
       "aggSeriesLimitReached": false,
       "aggType": "",
       "arguments": {},
       "columnCustomDisplayInfos": {},
       "data": [],
       "datasetInfos": [],
       "dbfsResultPath": null,
       "isJsonSchema": true,
       "metadata": {},
       "overflow": false,
       "plotOptions": {
        "customPlotOptions": {},
        "displayType": "table",
        "pivotAggregation": null,
        "pivotColumns": null,
        "xColumns": null,
        "yColumns": null
       },
       "removedWidgets": [],
       "schema": [
        {
         "metadata": "{}",
         "name": "ranking_date",
         "type": "\"long\""
        },
        {
         "metadata": "{}",
         "name": "player",
         "type": "\"long\""
        },
        {
         "metadata": "{\"__autoGeneratedAlias\":\"true\"}",
         "name": "count(1)",
         "type": "\"long\""
        }
       ],
       "type": "table"
      }
     },
     "output_type": "display_data"
    }
   ],
   "source": [
    "%sql --Exemplo que está sem duplicatas\n",
    "SELECT ranking_date, player, COUNT(*)\n",
    "FROM trusted.rankings\n",
    "GROUP BY ranking_date, player\n",
    "HAVING COUNT(*) > 1;"
   ]
  },
  {
   "cell_type": "markdown",
   "metadata": {
    "application/vnd.databricks.v1+cell": {
     "cellMetadata": {},
     "inputWidgets": {},
     "nuid": "1f8baefa-f789-4a1f-9322-f3001d35d026",
     "showTitle": false,
     "tableResultSettingsMap": {},
     "title": ""
    }
   },
   "source": [
    "### Tabela de partidas (matches)\n",
    "\n",
    "\n",
    "Nessa tabela o principal tratamento foi aplicar a tabela de mapeamento de ids criada na staging para alterar os ids que foram removidos da tabela players e botar os ids que ficaram, tanto no winner_id quanto no loser_id."
   ]
  },
  {
   "cell_type": "code",
   "execution_count": 0,
   "metadata": {
    "application/vnd.databricks.v1+cell": {
     "cellMetadata": {
      "byteLimit": 2048000,
      "implicitDf": true,
      "rowLimit": 10000
     },
     "inputWidgets": {},
     "nuid": "5a86010d-875a-4b21-9fd6-d79e6a4b5127",
     "showTitle": false,
     "tableResultSettingsMap": {},
     "title": ""
    }
   },
   "outputs": [
    {
     "output_type": "display_data",
     "data": {
      "text/html": [
       "<style scoped>\n",
       "  .table-result-container {\n",
       "    max-height: 300px;\n",
       "    overflow: auto;\n",
       "  }\n",
       "  table, th, td {\n",
       "    border: 1px solid black;\n",
       "    border-collapse: collapse;\n",
       "  }\n",
       "  th, td {\n",
       "    padding: 5px;\n",
       "  }\n",
       "  th {\n",
       "    text-align: left;\n",
       "  }\n",
       "</style><div class='table-result-container'><table class='table-result'><thead style='background-color: white'><tr><th>num_affected_rows</th><th>num_inserted_rows</th></tr></thead><tbody></tbody></table></div>"
      ]
     },
     "metadata": {
      "application/vnd.databricks.v1+output": {
       "addedWidgets": {},
       "aggData": [],
       "aggError": "",
       "aggOverflow": false,
       "aggSchema": [],
       "aggSeriesLimitReached": false,
       "aggType": "",
       "arguments": {},
       "columnCustomDisplayInfos": {},
       "data": [],
       "datasetInfos": [],
       "dbfsResultPath": null,
       "isJsonSchema": true,
       "metadata": {},
       "overflow": false,
       "plotOptions": {
        "customPlotOptions": {},
        "displayType": "table",
        "pivotAggregation": null,
        "pivotColumns": null,
        "xColumns": null,
        "yColumns": null
       },
       "removedWidgets": [],
       "schema": [
        {
         "metadata": "{}",
         "name": "num_affected_rows",
         "type": "\"long\""
        },
        {
         "metadata": "{}",
         "name": "num_inserted_rows",
         "type": "\"long\""
        }
       ],
       "type": "table"
      }
     },
     "output_type": "display_data"
    }
   ],
   "source": [
    "%sql\n",
    "CREATE TABLE trusted.matches AS\n",
    "SELECT\n",
    "    rm.* EXCEPT (winner_id, loser_id),\n",
    "    COALESCE(mw.canonical_player_id, rm.winner_id) AS winner_id,\n",
    "    COALESCE(ml.canonical_player_id, rm.loser_id) AS loser_id\n",
    "FROM raw.matches rm\n",
    "LEFT JOIN staging.player_id_mapping mw\n",
    "  ON rm.winner_id = mw.duplicate_player_id\n",
    "LEFT JOIN staging.player_id_mapping ml\n",
    "  ON rm.loser_id = ml.duplicate_player_id;\n"
   ]
  },
  {
   "cell_type": "markdown",
   "metadata": {
    "application/vnd.databricks.v1+cell": {
     "cellMetadata": {},
     "inputWidgets": {},
     "nuid": "10ae7619-31ca-4a0a-8771-4da07d13f9c1",
     "showTitle": false,
     "tableResultSettingsMap": {},
     "title": ""
    }
   },
   "source": [
    "## Camada Business/Gold\n",
    "- Visão analítica pronta para consumo\n",
    "- Aplicação do modelo estrela\n",
    "- Otimizado para negócio, agregações e métricas"
   ]
  },
  {
   "cell_type": "code",
   "execution_count": 0,
   "metadata": {
    "application/vnd.databricks.v1+cell": {
     "cellMetadata": {
      "byteLimit": 2048000,
      "implicitDf": true,
      "rowLimit": 10000
     },
     "inputWidgets": {},
     "nuid": "75f97fe1-3a81-4e47-ba4a-f08be589e970",
     "showTitle": false,
     "tableResultSettingsMap": {},
     "title": ""
    }
   },
   "outputs": [
    {
     "output_type": "display_data",
     "data": {
      "text/html": [
       "<style scoped>\n",
       "  .table-result-container {\n",
       "    max-height: 300px;\n",
       "    overflow: auto;\n",
       "  }\n",
       "  table, th, td {\n",
       "    border: 1px solid black;\n",
       "    border-collapse: collapse;\n",
       "  }\n",
       "  th, td {\n",
       "    padding: 5px;\n",
       "  }\n",
       "  th {\n",
       "    text-align: left;\n",
       "  }\n",
       "</style><div class='table-result-container'><table class='table-result'><thead style='background-color: white'><tr></tr></thead><tbody></tbody></table></div>"
      ]
     },
     "metadata": {
      "application/vnd.databricks.v1+output": {
       "addedWidgets": {},
       "aggData": [],
       "aggError": "",
       "aggOverflow": false,
       "aggSchema": [],
       "aggSeriesLimitReached": false,
       "aggType": "",
       "arguments": {},
       "columnCustomDisplayInfos": {},
       "data": [],
       "datasetInfos": [],
       "dbfsResultPath": null,
       "isJsonSchema": true,
       "metadata": {},
       "overflow": false,
       "plotOptions": {
        "customPlotOptions": {},
        "displayType": "table",
        "pivotAggregation": null,
        "pivotColumns": null,
        "xColumns": null,
        "yColumns": null
       },
       "removedWidgets": [],
       "schema": [],
       "type": "table"
      }
     },
     "output_type": "display_data"
    }
   ],
   "source": [
    "%sql\n",
    "-- Criar schema se ainda não existir (obs. create schema e create database da no mesmo para o interpretador do databricks)\n",
    "CREATE SCHEMA IF NOT EXISTS business;"
   ]
  },
  {
   "cell_type": "code",
   "execution_count": 0,
   "metadata": {
    "application/vnd.databricks.v1+cell": {
     "cellMetadata": {
      "byteLimit": 2048000,
      "implicitDf": true,
      "rowLimit": 10000
     },
     "inputWidgets": {},
     "nuid": "731f299d-6f07-41b0-8e3e-272f02945ff3",
     "showTitle": true,
     "tableResultSettingsMap": {},
     "title": "Jogadores"
    }
   },
   "outputs": [
    {
     "output_type": "display_data",
     "data": {
      "text/html": [
       "<style scoped>\n",
       "  .table-result-container {\n",
       "    max-height: 300px;\n",
       "    overflow: auto;\n",
       "  }\n",
       "  table, th, td {\n",
       "    border: 1px solid black;\n",
       "    border-collapse: collapse;\n",
       "  }\n",
       "  th, td {\n",
       "    padding: 5px;\n",
       "  }\n",
       "  th {\n",
       "    text-align: left;\n",
       "  }\n",
       "</style><div class='table-result-container'><table class='table-result'><thead style='background-color: white'><tr><th>num_affected_rows</th><th>num_inserted_rows</th></tr></thead><tbody></tbody></table></div>"
      ]
     },
     "metadata": {
      "application/vnd.databricks.v1+output": {
       "addedWidgets": {},
       "aggData": [],
       "aggError": "",
       "aggOverflow": false,
       "aggSchema": [],
       "aggSeriesLimitReached": false,
       "aggType": "",
       "arguments": {},
       "columnCustomDisplayInfos": {},
       "data": [],
       "datasetInfos": [],
       "dbfsResultPath": null,
       "isJsonSchema": true,
       "metadata": {},
       "overflow": false,
       "plotOptions": {
        "customPlotOptions": {},
        "displayType": "table",
        "pivotAggregation": null,
        "pivotColumns": null,
        "xColumns": null,
        "yColumns": null
       },
       "removedWidgets": [],
       "schema": [
        {
         "metadata": "{}",
         "name": "num_affected_rows",
         "type": "\"long\""
        },
        {
         "metadata": "{}",
         "name": "num_inserted_rows",
         "type": "\"long\""
        }
       ],
       "type": "table"
      }
     },
     "output_type": "display_data"
    }
   ],
   "source": [
    "%sql\n",
    "-- Dimensão: Jogadores\n",
    "CREATE TABLE business.d_players AS\n",
    "SELECT DISTINCT\n",
    "    player_id,\n",
    "    concat(name_first,\" \",name_last) AS player_name,\n",
    "    hand,\n",
    "    height,\n",
    "    ioc,\n",
    "    dob AS date_of_birth\n",
    "FROM trusted.players;"
   ]
  },
  {
   "cell_type": "code",
   "execution_count": 0,
   "metadata": {
    "application/vnd.databricks.v1+cell": {
     "cellMetadata": {
      "byteLimit": 2048000,
      "implicitDf": true,
      "rowLimit": 10000
     },
     "inputWidgets": {},
     "nuid": "af6ce151-bb55-4e7b-a0cb-49dc50e5547a",
     "showTitle": true,
     "tableResultSettingsMap": {},
     "title": "Rankings"
    }
   },
   "outputs": [
    {
     "output_type": "display_data",
     "data": {
      "text/html": [
       "<style scoped>\n",
       "  .table-result-container {\n",
       "    max-height: 300px;\n",
       "    overflow: auto;\n",
       "  }\n",
       "  table, th, td {\n",
       "    border: 1px solid black;\n",
       "    border-collapse: collapse;\n",
       "  }\n",
       "  th, td {\n",
       "    padding: 5px;\n",
       "  }\n",
       "  th {\n",
       "    text-align: left;\n",
       "  }\n",
       "</style><div class='table-result-container'><table class='table-result'><thead style='background-color: white'><tr><th>num_affected_rows</th><th>num_inserted_rows</th></tr></thead><tbody></tbody></table></div>"
      ]
     },
     "metadata": {
      "application/vnd.databricks.v1+output": {
       "addedWidgets": {},
       "aggData": [],
       "aggError": "",
       "aggOverflow": false,
       "aggSchema": [],
       "aggSeriesLimitReached": false,
       "aggType": "",
       "arguments": {},
       "columnCustomDisplayInfos": {},
       "data": [],
       "datasetInfos": [],
       "dbfsResultPath": null,
       "isJsonSchema": true,
       "metadata": {},
       "overflow": false,
       "plotOptions": {
        "customPlotOptions": {},
        "displayType": "table",
        "pivotAggregation": null,
        "pivotColumns": null,
        "xColumns": null,
        "yColumns": null
       },
       "removedWidgets": [],
       "schema": [
        {
         "metadata": "{}",
         "name": "num_affected_rows",
         "type": "\"long\""
        },
        {
         "metadata": "{}",
         "name": "num_inserted_rows",
         "type": "\"long\""
        }
       ],
       "type": "table"
      }
     },
     "output_type": "display_data"
    }
   ],
   "source": [
    "%sql\n",
    "-- Dimensão: Rankings\n",
    "CREATE TABLE business.d_ranking AS\n",
    "SELECT\n",
    "    player,\n",
    "    ranking_date,\n",
    "    rank,\n",
    "    points\n",
    "FROM trusted.rankings;"
   ]
  },
  {
   "cell_type": "code",
   "execution_count": 0,
   "metadata": {
    "application/vnd.databricks.v1+cell": {
     "cellMetadata": {
      "byteLimit": 2048000,
      "implicitDf": true,
      "rowLimit": 10000
     },
     "inputWidgets": {},
     "nuid": "8d4a3e6b-c93b-4d1d-b0fd-616c4580d0aa",
     "showTitle": true,
     "tableResultSettingsMap": {},
     "title": "Calendario"
    }
   },
   "outputs": [
    {
     "output_type": "display_data",
     "data": {
      "text/html": [
       "<style scoped>\n",
       "  .table-result-container {\n",
       "    max-height: 300px;\n",
       "    overflow: auto;\n",
       "  }\n",
       "  table, th, td {\n",
       "    border: 1px solid black;\n",
       "    border-collapse: collapse;\n",
       "  }\n",
       "  th, td {\n",
       "    padding: 5px;\n",
       "  }\n",
       "  th {\n",
       "    text-align: left;\n",
       "  }\n",
       "</style><div class='table-result-container'><table class='table-result'><thead style='background-color: white'><tr></tr></thead><tbody></tbody></table></div>"
      ]
     },
     "metadata": {
      "application/vnd.databricks.v1+output": {
       "addedWidgets": {},
       "aggData": [],
       "aggError": "",
       "aggOverflow": false,
       "aggSchema": [],
       "aggSeriesLimitReached": false,
       "aggType": "",
       "arguments": {},
       "columnCustomDisplayInfos": {},
       "data": [],
       "datasetInfos": [],
       "dbfsResultPath": null,
       "isJsonSchema": true,
       "metadata": {},
       "overflow": false,
       "plotOptions": {
        "customPlotOptions": {},
        "displayType": "table",
        "pivotAggregation": null,
        "pivotColumns": null,
        "xColumns": null,
        "yColumns": null
       },
       "removedWidgets": [],
       "schema": [],
       "type": "table"
      }
     },
     "output_type": "display_data"
    }
   ],
   "source": [
    "%sql\n",
    "-- Dimensão: Calendario\n",
    "drop table business.d_calendario;\n",
    "CREATE TABLE business.d_calendario (\n",
    "    id_data INT,\n",
    "    data DATE,\n",
    "    ano INT,\n",
    "    mes INT,\n",
    "    nome_mes STRING\n",
    ")\n"
   ]
  },
  {
   "cell_type": "code",
   "execution_count": 0,
   "metadata": {
    "application/vnd.databricks.v1+cell": {
     "cellMetadata": {
      "byteLimit": 2048000,
      "implicitDf": true,
      "rowLimit": 10000
     },
     "inputWidgets": {},
     "nuid": "7c063ec3-ce74-4cd7-983a-4e239e1cbf86",
     "showTitle": true,
     "tableResultSettingsMap": {},
     "title": "Insert Calendario"
    }
   },
   "outputs": [
    {
     "output_type": "display_data",
     "data": {
      "text/html": [
       "<style scoped>\n",
       "  .table-result-container {\n",
       "    max-height: 300px;\n",
       "    overflow: auto;\n",
       "  }\n",
       "  table, th, td {\n",
       "    border: 1px solid black;\n",
       "    border-collapse: collapse;\n",
       "  }\n",
       "  th, td {\n",
       "    padding: 5px;\n",
       "  }\n",
       "  th {\n",
       "    text-align: left;\n",
       "  }\n",
       "</style><div class='table-result-container'><table class='table-result'><thead style='background-color: white'><tr><th>num_affected_rows</th><th>num_inserted_rows</th></tr></thead><tbody><tr><td>45757</td><td>45757</td></tr></tbody></table></div>"
      ]
     },
     "metadata": {
      "application/vnd.databricks.v1+output": {
       "addedWidgets": {},
       "aggData": [],
       "aggError": "",
       "aggOverflow": false,
       "aggSchema": [],
       "aggSeriesLimitReached": false,
       "aggType": "",
       "arguments": {},
       "columnCustomDisplayInfos": {},
       "data": [
        [
         45757,
         45757
        ]
       ],
       "datasetInfos": [],
       "dbfsResultPath": null,
       "isJsonSchema": true,
       "metadata": {},
       "overflow": false,
       "plotOptions": {
        "customPlotOptions": {},
        "displayType": "table",
        "pivotAggregation": null,
        "pivotColumns": null,
        "xColumns": null,
        "yColumns": null
       },
       "removedWidgets": [],
       "schema": [
        {
         "metadata": "{}",
         "name": "num_affected_rows",
         "type": "\"long\""
        },
        {
         "metadata": "{}",
         "name": "num_inserted_rows",
         "type": "\"long\""
        }
       ],
       "type": "table"
      }
     },
     "output_type": "display_data"
    }
   ],
   "source": [
    "%sql\n",
    "-- Inserção dos dados com geração de datas via SEQUENCE\n",
    "INSERT INTO business.d_calendario\n",
    "SELECT \n",
    "    CAST(date_format(data, 'yyyyMMdd') AS INT) AS id_data,\n",
    "    data,\n",
    "    YEAR(data) AS ano,\n",
    "    MONTH(data) AS mes,\n",
    "    DATE_FORMAT(data, 'MMMM') AS nome_mes\n",
    "FROM (\n",
    "    SELECT explode(sequence(DATE('1900-01-01'), current_date(), interval 1 day)) AS data\n",
    ");"
   ]
  },
  {
   "cell_type": "code",
   "execution_count": 0,
   "metadata": {
    "application/vnd.databricks.v1+cell": {
     "cellMetadata": {
      "byteLimit": 2048000,
      "implicitDf": true,
      "rowLimit": 10000
     },
     "inputWidgets": {},
     "nuid": "6af9c502-4ed9-42d3-ba6d-22e221ec4289",
     "showTitle": true,
     "tableResultSettingsMap": {},
     "title": "Torneios"
    }
   },
   "outputs": [
    {
     "output_type": "display_data",
     "data": {
      "text/html": [
       "<style scoped>\n",
       "  .table-result-container {\n",
       "    max-height: 300px;\n",
       "    overflow: auto;\n",
       "  }\n",
       "  table, th, td {\n",
       "    border: 1px solid black;\n",
       "    border-collapse: collapse;\n",
       "  }\n",
       "  th, td {\n",
       "    padding: 5px;\n",
       "  }\n",
       "  th {\n",
       "    text-align: left;\n",
       "  }\n",
       "</style><div class='table-result-container'><table class='table-result'><thead style='background-color: white'><tr><th>num_affected_rows</th><th>num_inserted_rows</th></tr></thead><tbody></tbody></table></div>"
      ]
     },
     "metadata": {
      "application/vnd.databricks.v1+output": {
       "addedWidgets": {},
       "aggData": [],
       "aggError": "",
       "aggOverflow": false,
       "aggSchema": [],
       "aggSeriesLimitReached": false,
       "aggType": "",
       "arguments": {},
       "columnCustomDisplayInfos": {},
       "data": [],
       "datasetInfos": [],
       "dbfsResultPath": null,
       "isJsonSchema": true,
       "metadata": {},
       "overflow": false,
       "plotOptions": {
        "customPlotOptions": {},
        "displayType": "table",
        "pivotAggregation": null,
        "pivotColumns": null,
        "xColumns": null,
        "yColumns": null
       },
       "removedWidgets": [],
       "schema": [
        {
         "metadata": "{}",
         "name": "num_affected_rows",
         "type": "\"long\""
        },
        {
         "metadata": "{}",
         "name": "num_inserted_rows",
         "type": "\"long\""
        }
       ],
       "type": "table"
      }
     },
     "output_type": "display_data"
    }
   ],
   "source": [
    "%sql\n",
    "-- Dimensão: Torneios\n",
    "CREATE TABLE business.d_tournaments AS\n",
    "SELECT DISTINCT\n",
    "    tourney_id,\n",
    "    tourney_name,\n",
    "    surface,\n",
    "    draw_size,\n",
    "    tourney_level\n",
    "FROM trusted.matches;"
   ]
  },
  {
   "cell_type": "code",
   "execution_count": 0,
   "metadata": {
    "application/vnd.databricks.v1+cell": {
     "cellMetadata": {
      "byteLimit": 2048000,
      "implicitDf": true,
      "rowLimit": 10000
     },
     "inputWidgets": {},
     "nuid": "83124546-0e88-4a9f-88a4-0d4aa3c74034",
     "showTitle": true,
     "tableResultSettingsMap": {},
     "title": "Partidas"
    }
   },
   "outputs": [
    {
     "output_type": "display_data",
     "data": {
      "text/html": [
       "<style scoped>\n",
       "  .table-result-container {\n",
       "    max-height: 300px;\n",
       "    overflow: auto;\n",
       "  }\n",
       "  table, th, td {\n",
       "    border: 1px solid black;\n",
       "    border-collapse: collapse;\n",
       "  }\n",
       "  th, td {\n",
       "    padding: 5px;\n",
       "  }\n",
       "  th {\n",
       "    text-align: left;\n",
       "  }\n",
       "</style><div class='table-result-container'><table class='table-result'><thead style='background-color: white'><tr><th>num_affected_rows</th><th>num_inserted_rows</th></tr></thead><tbody></tbody></table></div>"
      ]
     },
     "metadata": {
      "application/vnd.databricks.v1+output": {
       "addedWidgets": {},
       "aggData": [],
       "aggError": "",
       "aggOverflow": false,
       "aggSchema": [],
       "aggSeriesLimitReached": false,
       "aggType": "",
       "arguments": {},
       "columnCustomDisplayInfos": {},
       "data": [],
       "datasetInfos": [],
       "dbfsResultPath": null,
       "isJsonSchema": true,
       "metadata": {},
       "overflow": false,
       "plotOptions": {
        "customPlotOptions": {},
        "displayType": "table",
        "pivotAggregation": null,
        "pivotColumns": null,
        "xColumns": null,
        "yColumns": null
       },
       "removedWidgets": [],
       "schema": [
        {
         "metadata": "{}",
         "name": "num_affected_rows",
         "type": "\"long\""
        },
        {
         "metadata": "{}",
         "name": "num_inserted_rows",
         "type": "\"long\""
        }
       ],
       "type": "table"
      }
     },
     "output_type": "display_data"
    }
   ],
   "source": [
    "%sql\n",
    "CREATE TABLE business.f_matches AS\n",
    "SELECT\n",
    "    match_num,\n",
    "    tourney_id,\n",
    "    tourney_date,\n",
    "    winner_id,\n",
    "    loser_id,\n",
    "    best_of,\n",
    "    round,\n",
    "    score,\n",
    "    minutes,\n",
    "\n",
    "    -- Estatísticas do vencedor\n",
    "    w_ace, w_df, w_svpt,\n",
    "    w_1stIn, w_1stWon, w_2ndWon,\n",
    "    w_SvGms, w_bpSaved, w_bpFaced,\n",
    "\n",
    "    -- Estatísticas do perdedor\n",
    "    l_ace, l_df, l_svpt,\n",
    "    l_1stIn, l_1stWon, l_2ndWon,\n",
    "    l_SvGms, l_bpSaved, l_bpFaced,\n",
    "\n",
    "    -- Rankings\n",
    "    winner_rank,\n",
    "    winner_rank_points,\n",
    "    loser_rank,\n",
    "    loser_rank_points\n",
    "\n",
    "FROM trusted.matches;"
   ]
  },
  {
   "cell_type": "markdown",
   "metadata": {
    "application/vnd.databricks.v1+cell": {
     "cellMetadata": {},
     "inputWidgets": {},
     "nuid": "b716f240-b74f-46aa-b04b-4779462057a4",
     "showTitle": false,
     "tableResultSettingsMap": {},
     "title": ""
    }
   },
   "source": [
    "# Dicionário de Dados – Camada Business/Gold\n",
    "\n",
    "**Pipeline dos dados**: `raw` (dados brutos) -> `trusted` (dados tratados) -> `business` (dados modelados)\n",
    "\n",
    "**Origem dos dados**: camada `trusted`  \n",
    "**Destino**: camada `business`  \n",
    "**Padrão de nomenclatura**:  \n",
    "- `d_` = tabelas dimensão  \n",
    "- `f_` = tabelas fato\n",
    "\n",
    "---\n",
    "\n",
    "## 🔷 Tabela: `business.d_players` — Dimensão Jogadores\n",
    "\n",
    "| Campo         | Tipo     | Descrição                              | Domínio / Exemplo               |\n",
    "|---------------|----------|----------------------------------------|---------------------------------|\n",
    "| `player_id`   | STRING   | Identificador único do jogador         | \"101501\", \"200123\"              |\n",
    "| `player_name` | STRING   | Nome completo do jogador               | \"Roger Federer\"                 |\n",
    "| `hand`        | CHAR(1)  | Mão dominante                          | \"R\" = destro, \"L\" = canhoto     |\n",
    "| `height`      | INT      | Altura em centímetros                  | 180–210 cm                      |\n",
    "| `ioc`         | STRING   | Código do país (ISO 3 letras)          | \"SUI\", \"ESP\", \"USA\"             |\n",
    "| `date_of_birth` | INT   | Data de nascimento do jogador           | 19810818                    |\n",
    "\n",
    "---\n",
    "\n",
    "## 🔷 Tabela: `business.d_tournaments` — Dimensão Torneios\n",
    "\n",
    "| Campo           | Tipo    | Descrição                                | Domínio / Exemplo                   |\n",
    "|-----------------|---------|------------------------------------------|-------------------------------------|\n",
    "| `tourney_id`    | STRING  | Identificador único do torneio           | \"2021-888\", \"2019-030\"              |\n",
    "| `tourney_name`  | STRING  | Nome do torneio                          | \"Wimbledon\", \"Roland Garros\"        |\n",
    "| `surface`       | STRING  | Tipo de quadra                           | \"Clay\", \"Grass\", \"Hard\"             |\n",
    "| `draw_size`     | STRING  | Nº de jogadores no torneio               | \"32\", \"64\", \"128\"                   |\n",
    "| `tourney_level` | STRING  | Nível do torneio                         | \"G\" (Grand Slam), \"M\", \"A\", \"C\"...  |\n",
    "\n",
    "---\n",
    "\n",
    "## 🔷 Tabela: `business.d_calendario` — Dimensão Calendario\n",
    "\n",
    "| Campo         | Tipo   | Descrição                                | Exemplo            |\n",
    "|---------------|--------|------------------------------------------|--------------------|\n",
    "| `id_data`     | INT    | Data da semana do torneio                | 20210628           |\n",
    "| `date   `     | DATE   | Data da semana do torneio                | \"2021-06-28\"       |\n",
    "| `ano`         | INT    | Ano do torneio                           | 2021               |\n",
    "| `mes`         | INT    | Mês do torneio                           | 6                  |\n",
    "| `nome_mes`    | STRING | Nome do Mês do torneio                   | June               |\n",
    "\n",
    "---\n",
    "\n",
    "## 🔷 Tabela: `business.d_ranking` — Dimensão Ranking\n",
    "\n",
    "| Campo             | Tipo   | Descrição                              | Exemplo                |\n",
    "|-------------------|--------|----------------------------------------|------------------------|\n",
    "| `player`          | INT    | ID do jogador                          | 101501                 |\n",
    "| `ranking_date`    | INT    | FK → `d_calendario.id_data`            | 20210628               |\n",
    "| `rank`            | INT    | Posição no ranking                     | 1, 25, 105             |\n",
    "| `points`          | INT    | Pontos de ranking                      | 12000, 850, 55         |\n",
    "\n",
    "---\n",
    "\n",
    "##  🔷 Tabela: `business.f_matches` — Fato Partidas\n",
    "\n",
    "| Campo                | Tipo     | Descrição                                 |\n",
    "|----------------------|----------|-------------------------------------------|\n",
    "| `match_id`           | STRING   | Identificador único da partida            |\n",
    "| `tourney_id`         | STRING   | FK → `d_tournaments.tourney_id`           |\n",
    "| `tourney_date`       | DATE     | FK → `d_calendario.id_data`               |\n",
    "| `winner_id`          | STRING   | FK → `d_players.player_id` (vencedor)     |\n",
    "| `loser_id`           | STRING   | FK → `d_players.player_id` (perdedor)     |\n",
    "| `best_of`            | INT      | Número máximo de sets (3 ou 5)            |\n",
    "| `round`              | STRING   | Fase do torneio (e.g. \"QF\", \"SF\", \"F\")     |\n",
    "| `score`              | STRING   | Resultado textual do jogo                 |\n",
    "| `minutes`            | INT      | Duração da partida (minutos)              |\n",
    "\n",
    "###  Estatísticas do vencedor (`w_`)\n",
    "\n",
    "| Campo       | Tipo | Descrição                       |\n",
    "|-------------|------|---------------------------------|\n",
    "| `w_ace`     | INT  | Aces                            |\n",
    "| `w_df`      | INT  | Duplas faltas                   |\n",
    "| `w_svpt`    | INT  | Pontos de saque                 |\n",
    "| `w_1stIn`   | INT  | Primeiro saque dentro           |\n",
    "| `w_1stWon`  | INT  | Pontos vencidos no 1º saque     |\n",
    "| `w_2ndWon`  | INT  | Pontos vencidos no 2º saque     |\n",
    "| `w_SvGms`   | INT  | Games de saque                  |\n",
    "| `w_bpSaved` | INT  | Break points salvos             |\n",
    "| `w_bpFaced` | INT  | Break points enfrentados        |\n",
    "\n",
    "###  Estatísticas do perdedor (`l_`)\n",
    "\n",
    "| Campo       | Tipo | Descrição                       |\n",
    "|-------------|------|---------------------------------|\n",
    "| `l_ace`     | INT  | Aces                            |\n",
    "| `l_df`      | INT  | Duplas faltas                   |\n",
    "| `l_svpt`    | INT  | Pontos de saque                 |\n",
    "| `l_1stIn`   | INT  | Primeiro saque dentro           |\n",
    "| `l_1stWon`  | INT  | Pontos vencidos no 1º saque     |\n",
    "| `l_2ndWon`  | INT  | Pontos vencidos no 2º saque     |\n",
    "| `l_SvGms`   | INT  | Games de saque                  |\n",
    "| `l_bpSaved` | INT  | Break points salvos             |\n",
    "| `l_bpFaced` | INT  | Break points enfrentados        |\n",
    "\n",
    "###  Rankings\n",
    "\n",
    "| Campo                 | Tipo | Descrição                             |\n",
    "|-----------------------|------|---------------------------------------|\n",
    "| `winner_rank`         | INT  | Ranking do vencedor                   |\n",
    "| `winner_rank_points`  | INT  | Pontos de ranking do vencedor         |\n",
    "| `loser_rank`          | INT  | Ranking do perdedor                   |\n",
    "| `loser_rank_points`   | INT  | Pontos de ranking do perdedor         |\n"
   ]
  },
  {
   "cell_type": "markdown",
   "metadata": {
    "application/vnd.databricks.v1+cell": {
     "cellMetadata": {
      "byteLimit": 2048000,
      "rowLimit": 10000
     },
     "inputWidgets": {},
     "nuid": "254bdf66-903e-4d24-8451-277b237bd0b1",
     "showTitle": false,
     "tableResultSettingsMap": {},
     "title": ""
    }
   },
   "source": [
    "# Análise"
   ]
  },
  {
   "cell_type": "markdown",
   "metadata": {
    "application/vnd.databricks.v1+cell": {
     "cellMetadata": {
      "byteLimit": 2048000,
      "rowLimit": 10000
     },
     "inputWidgets": {},
     "nuid": "cbdd9c08-c142-44c8-ac38-1dfd5ff7c949",
     "showTitle": false,
     "tableResultSettingsMap": {},
     "title": ""
    }
   },
   "source": [
    "## Solução do problema"
   ]
  },
  {
   "cell_type": "markdown",
   "metadata": {
    "application/vnd.databricks.v1+cell": {
     "cellMetadata": {},
     "inputWidgets": {},
     "nuid": "fd30cea9-580d-4828-bcd5-7b7f8c276740",
     "showTitle": false,
     "tableResultSettingsMap": {},
     "title": ""
    }
   },
   "source": [
    "### Pergunta 1\n",
    "- Quantos jogadores já ganharam os 4 grand slams? (\"Career Grand Slam\")\n",
    "\n",
    "R: 8 jogadores como podemos ver pela tabela abaixo.\n",
    "\n",
    "Obs.: Quando fiz a query inicialmente estava faltando 1 jogador pelo meu conhecimento, pois estava considerando apenas 4 nomes diferentes dos torneios, depois percebi que tem um (US Open <> Us Open), por isso um deles tinha ganhado 5 grand slams diferentes, o que na teoria seria impossivel, esse caso deveria ter sido tratado na qualidade de dados, porém foi considerado >= 4 grand slams para trazer a resposta correta."
   ]
  },
  {
   "cell_type": "code",
   "execution_count": 0,
   "metadata": {
    "application/vnd.databricks.v1+cell": {
     "cellMetadata": {
      "byteLimit": 2048000,
      "implicitDf": true,
      "rowLimit": 10000
     },
     "inputWidgets": {},
     "nuid": "edab3382-2923-4287-90e5-2a8993a1dead",
     "showTitle": false,
     "tableResultSettingsMap": {},
     "title": ""
    }
   },
   "outputs": [
    {
     "output_type": "display_data",
     "data": {
      "text/html": [
       "<style scoped>\n",
       "  .table-result-container {\n",
       "    max-height: 300px;\n",
       "    overflow: auto;\n",
       "  }\n",
       "  table, th, td {\n",
       "    border: 1px solid black;\n",
       "    border-collapse: collapse;\n",
       "  }\n",
       "  th, td {\n",
       "    padding: 5px;\n",
       "  }\n",
       "  th {\n",
       "    text-align: left;\n",
       "  }\n",
       "</style><div class='table-result-container'><table class='table-result'><thead style='background-color: white'><tr><th>player_name</th></tr></thead><tbody><tr><td>Rafael Nadal</td></tr><tr><td>Roy Emerson</td></tr><tr><td>Novak Djokovic</td></tr><tr><td>Rod Laver</td></tr><tr><td>Don Budge</td></tr><tr><td>Fred Perry</td></tr><tr><td>Roger Federer</td></tr><tr><td>Andre Agassi</td></tr></tbody></table></div>"
      ]
     },
     "metadata": {
      "application/vnd.databricks.v1+output": {
       "addedWidgets": {},
       "aggData": [],
       "aggError": "",
       "aggOverflow": false,
       "aggSchema": [],
       "aggSeriesLimitReached": false,
       "aggType": "",
       "arguments": {},
       "columnCustomDisplayInfos": {},
       "data": [
        [
         "Rafael Nadal"
        ],
        [
         "Roy Emerson"
        ],
        [
         "Novak Djokovic"
        ],
        [
         "Rod Laver"
        ],
        [
         "Don Budge"
        ],
        [
         "Fred Perry"
        ],
        [
         "Roger Federer"
        ],
        [
         "Andre Agassi"
        ]
       ],
       "datasetInfos": [],
       "dbfsResultPath": null,
       "isJsonSchema": true,
       "metadata": {},
       "overflow": false,
       "plotOptions": {
        "customPlotOptions": {},
        "displayType": "table",
        "pivotAggregation": null,
        "pivotColumns": null,
        "xColumns": null,
        "yColumns": null
       },
       "removedWidgets": [],
       "schema": [
        {
         "metadata": "{}",
         "name": "player_name",
         "type": "\"string\""
        }
       ],
       "type": "table"
      }
     },
     "output_type": "display_data"
    }
   ],
   "source": [
    "%sql\n",
    "SELECT DISTINCT p.player_name\n",
    "FROM (\n",
    "  SELECT m.winner_id\n",
    "  FROM business.f_matches m\n",
    "  JOIN business.d_tournaments t \n",
    "    ON m.tourney_id = t.tourney_id\n",
    "  WHERE t.tourney_level = 'G'\n",
    "    AND m.round = 'F'\n",
    "  GROUP BY m.winner_id\n",
    "  HAVING COUNT(DISTINCT t.tourney_name) >= 4\n",
    ") AS career_grand_slam\n",
    "JOIN business.d_players p \n",
    "  ON career_grand_slam.winner_id = p.player_id;\n"
   ]
  },
  {
   "cell_type": "code",
   "execution_count": 0,
   "metadata": {
    "application/vnd.databricks.v1+cell": {
     "cellMetadata": {
      "byteLimit": 2048000,
      "implicitDf": true,
      "rowLimit": 10000
     },
     "inputWidgets": {},
     "nuid": "161945a2-6fa3-47c5-b739-9aca41815a23",
     "showTitle": false,
     "tableResultSettingsMap": {},
     "title": ""
    }
   },
   "outputs": [
    {
     "output_type": "display_data",
     "data": {
      "text/html": [
       "<style scoped>\n",
       "  .table-result-container {\n",
       "    max-height: 300px;\n",
       "    overflow: auto;\n",
       "  }\n",
       "  table, th, td {\n",
       "    border: 1px solid black;\n",
       "    border-collapse: collapse;\n",
       "  }\n",
       "  th, td {\n",
       "    padding: 5px;\n",
       "  }\n",
       "  th {\n",
       "    text-align: left;\n",
       "  }\n",
       "</style><div class='table-result-container'><table class='table-result'><thead style='background-color: white'><tr><th>player_name</th><th>tourney_name</th><th>tourney_level</th><th>round</th></tr></thead><tbody><tr><td>Novak Djokovic</td><td>Wimbledon</td><td>G</td><td>F</td></tr><tr><td>Novak Djokovic</td><td>Roland Garros</td><td>G</td><td>F</td></tr><tr><td>Novak Djokovic</td><td>Australian Open</td><td>G</td><td>F</td></tr><tr><td>Novak Djokovic</td><td>US Open</td><td>G</td><td>F</td></tr><tr><td>Novak Djokovic</td><td>Us Open</td><td>G</td><td>F</td></tr></tbody></table></div>"
      ]
     },
     "metadata": {
      "application/vnd.databricks.v1+output": {
       "addedWidgets": {},
       "aggData": [],
       "aggError": "",
       "aggOverflow": false,
       "aggSchema": [],
       "aggSeriesLimitReached": false,
       "aggType": "",
       "arguments": {},
       "columnCustomDisplayInfos": {},
       "data": [
        [
         "Novak Djokovic",
         "Wimbledon",
         "G",
         "F"
        ],
        [
         "Novak Djokovic",
         "Roland Garros",
         "G",
         "F"
        ],
        [
         "Novak Djokovic",
         "Australian Open",
         "G",
         "F"
        ],
        [
         "Novak Djokovic",
         "US Open",
         "G",
         "F"
        ],
        [
         "Novak Djokovic",
         "Us Open",
         "G",
         "F"
        ]
       ],
       "datasetInfos": [],
       "dbfsResultPath": null,
       "isJsonSchema": true,
       "metadata": {},
       "overflow": false,
       "plotOptions": {
        "customPlotOptions": {},
        "displayType": "table",
        "pivotAggregation": null,
        "pivotColumns": null,
        "xColumns": null,
        "yColumns": null
       },
       "removedWidgets": [],
       "schema": [
        {
         "metadata": "{}",
         "name": "player_name",
         "type": "\"string\""
        },
        {
         "metadata": "{}",
         "name": "tourney_name",
         "type": "\"string\""
        },
        {
         "metadata": "{}",
         "name": "tourney_level",
         "type": "\"string\""
        },
        {
         "metadata": "{}",
         "name": "round",
         "type": "\"string\""
        }
       ],
       "type": "table"
      }
     },
     "output_type": "display_data"
    }
   ],
   "source": [
    "%sql\n",
    "SELECT \n",
    "  p.player_name,\n",
    "  t.tourney_name,\n",
    "  t.tourney_level,\n",
    "  m.round\n",
    "FROM business.f_matches m\n",
    "JOIN business.d_players p \n",
    "  ON m.winner_id = p.player_id\n",
    "JOIN business.d_tournaments t \n",
    "  ON m.tourney_id = t.tourney_id\n",
    "WHERE p.player_name = 'Novak Djokovic'\n",
    "  AND m.round = 'F'\n",
    "  AND T.tourney_level = 'G'\n",
    "GROUP BY ALL \n",
    "\n"
   ]
  },
  {
   "cell_type": "markdown",
   "metadata": {
    "application/vnd.databricks.v1+cell": {
     "cellMetadata": {},
     "inputWidgets": {},
     "nuid": "1cbc3370-8675-4808-a861-a28038e9da00",
     "showTitle": false,
     "tableResultSettingsMap": {},
     "title": ""
    }
   },
   "source": [
    "### Pergunta 2\n",
    "- Quantos já conseguiram os 4 grand slams no mesmo ano e qual foi o ultimo ano que isso ocorreu?\n",
    "\n",
    "R: De fato apenas esses 2 jogadores conseguiram conquistar os 4 GS no mesmo ano, e a ultima vez que aconteceu foi em 1969. Jogadores hoje em dia acham impossível tal feito.\n",
    "\n",
    "Obs. Aqui foi util ter criado uma tabela de calendario para não ter que ficar criando funções para extrair o ano das datas, é uma boa pratica. "
   ]
  },
  {
   "cell_type": "code",
   "execution_count": 0,
   "metadata": {
    "application/vnd.databricks.v1+cell": {
     "cellMetadata": {
      "byteLimit": 2048000,
      "implicitDf": true,
      "rowLimit": 10000
     },
     "inputWidgets": {},
     "nuid": "7407cd92-b60a-4d1e-8656-ede01c7b2408",
     "showTitle": false,
     "tableResultSettingsMap": {},
     "title": ""
    }
   },
   "outputs": [
    {
     "output_type": "display_data",
     "data": {
      "text/html": [
       "<style scoped>\n",
       "  .table-result-container {\n",
       "    max-height: 300px;\n",
       "    overflow: auto;\n",
       "  }\n",
       "  table, th, td {\n",
       "    border: 1px solid black;\n",
       "    border-collapse: collapse;\n",
       "  }\n",
       "  th, td {\n",
       "    padding: 5px;\n",
       "  }\n",
       "  th {\n",
       "    text-align: left;\n",
       "  }\n",
       "</style><div class='table-result-container'><table class='table-result'><thead style='background-color: white'><tr><th>player_name</th><th>ano</th></tr></thead><tbody><tr><td>Rod Laver</td><td>1969</td></tr><tr><td>Rod Laver</td><td>1962</td></tr><tr><td>Don Budge</td><td>1938</td></tr></tbody></table></div>"
      ]
     },
     "metadata": {
      "application/vnd.databricks.v1+output": {
       "addedWidgets": {},
       "aggData": [],
       "aggError": "",
       "aggOverflow": false,
       "aggSchema": [],
       "aggSeriesLimitReached": false,
       "aggType": "",
       "arguments": {},
       "columnCustomDisplayInfos": {},
       "data": [
        [
         "Rod Laver",
         1969
        ],
        [
         "Rod Laver",
         1962
        ],
        [
         "Don Budge",
         1938
        ]
       ],
       "datasetInfos": [],
       "dbfsResultPath": null,
       "isJsonSchema": true,
       "metadata": {},
       "overflow": false,
       "plotOptions": {
        "customPlotOptions": {},
        "displayType": "table",
        "pivotAggregation": null,
        "pivotColumns": null,
        "xColumns": null,
        "yColumns": null
       },
       "removedWidgets": [],
       "schema": [
        {
         "metadata": "{}",
         "name": "player_name",
         "type": "\"string\""
        },
        {
         "metadata": "{}",
         "name": "ano",
         "type": "\"integer\""
        }
       ],
       "type": "table"
      }
     },
     "output_type": "display_data"
    }
   ],
   "source": [
    "%sql\n",
    "SELECT \n",
    "  p.player_name,\n",
    "  c.ano\n",
    "FROM business.f_matches m\n",
    "JOIN business.d_tournaments t \n",
    "  ON m.tourney_id = t.tourney_id\n",
    "JOIN business.d_players p \n",
    "  ON m.winner_id = p.player_id\n",
    "JOIN business.d_calendario c\n",
    "  ON m.tourney_date = c.id_data\n",
    "WHERE t.tourney_level = 'G'\n",
    "  AND m.round = 'F'\n",
    "GROUP BY p.player_name, c.ano\n",
    "HAVING COUNT(DISTINCT t.tourney_name) >= 4\n",
    "ORDER BY ano DESC;\n"
   ]
  },
  {
   "cell_type": "markdown",
   "metadata": {
    "application/vnd.databricks.v1+cell": {
     "cellMetadata": {},
     "inputWidgets": {},
     "nuid": "1069a209-aa13-4356-b6ce-b81363221573",
     "showTitle": false,
     "tableResultSettingsMap": {},
     "title": ""
    }
   },
   "source": [
    "### Pergunta 3\n",
    "- Que jogador permaneceu mais tempo no top 1? E no top 5?\n",
    "\n",
    "R: O jogador que permaneceu por mais semanas no top 1 foi o Djokovic, porém o jogador que permaneceu mais tempo no top 5 foi o Federer.\n",
    "\n",
    "Obs.: Essa pergunta foi um pouco mais simples de responder, porém o resultado foi interessante."
   ]
  },
  {
   "cell_type": "code",
   "execution_count": 0,
   "metadata": {
    "application/vnd.databricks.v1+cell": {
     "cellMetadata": {
      "byteLimit": 2048000,
      "implicitDf": true,
      "rowLimit": 10000
     },
     "inputWidgets": {},
     "nuid": "2e943b7a-bb49-4118-9ee1-601b8bd97993",
     "showTitle": false,
     "tableResultSettingsMap": {},
     "title": ""
    }
   },
   "outputs": [
    {
     "output_type": "display_data",
     "data": {
      "text/html": [
       "<style scoped>\n",
       "  .table-result-container {\n",
       "    max-height: 300px;\n",
       "    overflow: auto;\n",
       "  }\n",
       "  table, th, td {\n",
       "    border: 1px solid black;\n",
       "    border-collapse: collapse;\n",
       "  }\n",
       "  th, td {\n",
       "    padding: 5px;\n",
       "  }\n",
       "  th {\n",
       "    text-align: left;\n",
       "  }\n",
       "</style><div class='table-result-container'><table class='table-result'><thead style='background-color: white'><tr><th>player_name</th><th>semanas_no_top1</th></tr></thead><tbody><tr><td>Novak Djokovic</td><td>377</td></tr><tr><td>Roger Federer</td><td>307</td></tr><tr><td>Pete Sampras</td><td>285</td></tr><tr><td>Ivan Lendl</td><td>228</td></tr><tr><td>Rafael Nadal</td><td>193</td></tr><tr><td>John McEnroe</td><td>136</td></tr><tr><td>Jimmy Connors</td><td>104</td></tr><tr><td>Andre Agassi</td><td>100</td></tr><tr><td>Bjorn Borg</td><td>94</td></tr><tr><td>Lleyton Hewitt</td><td>80</td></tr></tbody></table></div>"
      ]
     },
     "metadata": {
      "application/vnd.databricks.v1+output": {
       "addedWidgets": {},
       "aggData": [],
       "aggError": "",
       "aggOverflow": false,
       "aggSchema": [],
       "aggSeriesLimitReached": false,
       "aggType": "",
       "arguments": {},
       "columnCustomDisplayInfos": {},
       "data": [
        [
         "Novak Djokovic",
         377
        ],
        [
         "Roger Federer",
         307
        ],
        [
         "Pete Sampras",
         285
        ],
        [
         "Ivan Lendl",
         228
        ],
        [
         "Rafael Nadal",
         193
        ],
        [
         "John McEnroe",
         136
        ],
        [
         "Jimmy Connors",
         104
        ],
        [
         "Andre Agassi",
         100
        ],
        [
         "Bjorn Borg",
         94
        ],
        [
         "Lleyton Hewitt",
         80
        ]
       ],
       "datasetInfos": [],
       "dbfsResultPath": null,
       "isJsonSchema": true,
       "metadata": {},
       "overflow": false,
       "plotOptions": {
        "customPlotOptions": {},
        "displayType": "table",
        "pivotAggregation": null,
        "pivotColumns": null,
        "xColumns": null,
        "yColumns": null
       },
       "removedWidgets": [],
       "schema": [
        {
         "metadata": "{}",
         "name": "player_name",
         "type": "\"string\""
        },
        {
         "metadata": "{}",
         "name": "semanas_no_top1",
         "type": "\"long\""
        }
       ],
       "type": "table"
      }
     },
     "output_type": "display_data"
    }
   ],
   "source": [
    "%sql\n",
    "SELECT \n",
    "  p.player_name,\n",
    "  COUNT(*) AS semanas_no_top1\n",
    "FROM business.d_ranking r\n",
    "JOIN business.d_players p \n",
    "  ON r.player = p.player_id\n",
    "WHERE r.rank = 1\n",
    "GROUP BY p.player_name\n",
    "ORDER BY semanas_no_top1 DESC\n",
    "LIMIT 10;\n"
   ]
  },
  {
   "cell_type": "code",
   "execution_count": 0,
   "metadata": {
    "application/vnd.databricks.v1+cell": {
     "cellMetadata": {
      "byteLimit": 2048000,
      "implicitDf": true,
      "rowLimit": 10000
     },
     "inputWidgets": {},
     "nuid": "20f6fe46-3b4a-4d3d-a373-ecff43474e02",
     "showTitle": false,
     "tableResultSettingsMap": {},
     "title": ""
    }
   },
   "outputs": [
    {
     "output_type": "display_data",
     "data": {
      "text/html": [
       "<style scoped>\n",
       "  .table-result-container {\n",
       "    max-height: 300px;\n",
       "    overflow: auto;\n",
       "  }\n",
       "  table, th, td {\n",
       "    border: 1px solid black;\n",
       "    border-collapse: collapse;\n",
       "  }\n",
       "  th, td {\n",
       "    padding: 5px;\n",
       "  }\n",
       "  th {\n",
       "    text-align: left;\n",
       "  }\n",
       "</style><div class='table-result-container'><table class='table-result'><thead style='background-color: white'><tr><th>player_name</th><th>semanas_no_top5</th></tr></thead><tbody><tr><td>Roger Federer</td><td>809</td></tr><tr><td>Rafael Nadal</td><td>776</td></tr><tr><td>Novak Djokovic</td><td>721</td></tr><tr><td>Pete Sampras</td><td>509</td></tr><tr><td>Ivan Lendl</td><td>478</td></tr><tr><td>Boris Becker</td><td>441</td></tr><tr><td>Jimmy Connors</td><td>434</td></tr><tr><td>Andre Agassi</td><td>431</td></tr><tr><td>Stefan Edberg</td><td>397</td></tr><tr><td>Andy Murray</td><td>393</td></tr></tbody></table></div>"
      ]
     },
     "metadata": {
      "application/vnd.databricks.v1+output": {
       "addedWidgets": {},
       "aggData": [],
       "aggError": "",
       "aggOverflow": false,
       "aggSchema": [],
       "aggSeriesLimitReached": false,
       "aggType": "",
       "arguments": {},
       "columnCustomDisplayInfos": {},
       "data": [
        [
         "Roger Federer",
         809
        ],
        [
         "Rafael Nadal",
         776
        ],
        [
         "Novak Djokovic",
         721
        ],
        [
         "Pete Sampras",
         509
        ],
        [
         "Ivan Lendl",
         478
        ],
        [
         "Boris Becker",
         441
        ],
        [
         "Jimmy Connors",
         434
        ],
        [
         "Andre Agassi",
         431
        ],
        [
         "Stefan Edberg",
         397
        ],
        [
         "Andy Murray",
         393
        ]
       ],
       "datasetInfos": [],
       "dbfsResultPath": null,
       "isJsonSchema": true,
       "metadata": {},
       "overflow": false,
       "plotOptions": {
        "customPlotOptions": {},
        "displayType": "table",
        "pivotAggregation": null,
        "pivotColumns": null,
        "xColumns": null,
        "yColumns": null
       },
       "removedWidgets": [],
       "schema": [
        {
         "metadata": "{}",
         "name": "player_name",
         "type": "\"string\""
        },
        {
         "metadata": "{}",
         "name": "semanas_no_top5",
         "type": "\"long\""
        }
       ],
       "type": "table"
      }
     },
     "output_type": "display_data"
    }
   ],
   "source": [
    "%sql\n",
    "SELECT \n",
    "  p.player_name,\n",
    "  COUNT(*) AS semanas_no_top5\n",
    "FROM business.d_ranking r\n",
    "JOIN business.d_players p \n",
    "  ON r.player = p.player_id\n",
    "WHERE r.rank <= 5\n",
    "GROUP BY p.player_name\n",
    "ORDER BY semanas_no_top5 DESC\n",
    "LIMIT 10;\n"
   ]
  },
  {
   "cell_type": "markdown",
   "metadata": {
    "application/vnd.databricks.v1+cell": {
     "cellMetadata": {},
     "inputWidgets": {},
     "nuid": "a60b88a9-b99f-47fb-a811-073b9cdf8930",
     "showTitle": false,
     "tableResultSettingsMap": {},
     "title": ""
    }
   },
   "source": [
    "### Pergunta 4\n",
    "- Que caracteristicas em comum tem essses jogadores? (que permaneceram mais tempo no top 1)\n",
    "\n",
    "Essa pergunta é um pouco mais abrangente, resolvi deixar ela como um desafio para pensar em como fazer no final, como não me organizei a tempo para explorar ela a fundo, fiz essa análise um pouco mais simples agrupando os jogadores por mão dominante e pais, para ver quantos que atingiram o top 1 possuem cada caracteristica.\n",
    "\n",
    "R: Maioria dos jogadores que atingiram o top 1 são Americanos (USA) e destros, e a altura média desses 5 jogadores é 185,3, e quando a gente olha para o top 5 o resultado é similar. Mostrando que uma dominancia historica de jogadores americanos."
   ]
  },
  {
   "cell_type": "code",
   "execution_count": 0,
   "metadata": {
    "application/vnd.databricks.v1+cell": {
     "cellMetadata": {
      "byteLimit": 2048000,
      "implicitDf": true,
      "rowLimit": 10000
     },
     "inputWidgets": {},
     "nuid": "167ce4a5-9808-4ef1-b84b-478f45dadecb",
     "showTitle": false,
     "tableResultSettingsMap": {},
     "title": ""
    }
   },
   "outputs": [
    {
     "output_type": "display_data",
     "data": {
      "text/html": [
       "<style scoped>\n",
       "  .table-result-container {\n",
       "    max-height: 300px;\n",
       "    overflow: auto;\n",
       "  }\n",
       "  table, th, td {\n",
       "    border: 1px solid black;\n",
       "    border-collapse: collapse;\n",
       "  }\n",
       "  th, td {\n",
       "    padding: 5px;\n",
       "  }\n",
       "  th {\n",
       "    text-align: left;\n",
       "  }\n",
       "</style><div class='table-result-container'><table class='table-result'><thead style='background-color: white'><tr><th>hand</th><th>altura_media</th><th>ioc</th><th>qtde_jogadores</th></tr></thead><tbody><tr><td>R</td><td>185.3</td><td>USA</td><td>5</td></tr><tr><td>R</td><td>180.1</td><td>AUS</td><td>3</td></tr><tr><td>R</td><td>194.7</td><td>RUS</td><td>3</td></tr><tr><td>R</td><td>184.9</td><td>ESP</td><td>3</td></tr><tr><td>R</td><td>183.4</td><td>SWE</td><td>3</td></tr><tr><td>L</td><td>179.1</td><td>USA</td><td>2</td></tr><tr><td>L</td><td>180.0</td><td>AUT</td><td>1</td></tr><tr><td>R</td><td>188.0</td><td>SRB</td><td>1</td></tr><tr><td>R</td><td>185.0</td><td>SUI</td><td>1</td></tr><tr><td>R</td><td>190.0</td><td>GER</td><td>1</td></tr><tr><td>L</td><td>175.0</td><td>CHI</td><td>1</td></tr><tr><td>R</td><td>183.0</td><td>ROU</td><td>1</td></tr><tr><td>L</td><td>185.0</td><td>ESP</td><td>1</td></tr><tr><td>R</td><td>190.0</td><td>GBR</td><td>1</td></tr><tr><td>R</td><td>190.0</td><td>BRA</td><td>1</td></tr></tbody></table></div>"
      ]
     },
     "metadata": {
      "application/vnd.databricks.v1+output": {
       "addedWidgets": {},
       "aggData": [],
       "aggError": "",
       "aggOverflow": false,
       "aggSchema": [],
       "aggSeriesLimitReached": false,
       "aggType": "",
       "arguments": {},
       "columnCustomDisplayInfos": {},
       "data": [
        [
         "R",
         185.3,
         "USA",
         5
        ],
        [
         "R",
         180.1,
         "AUS",
         3
        ],
        [
         "R",
         194.7,
         "RUS",
         3
        ],
        [
         "R",
         184.9,
         "ESP",
         3
        ],
        [
         "R",
         183.4,
         "SWE",
         3
        ],
        [
         "L",
         179.1,
         "USA",
         2
        ],
        [
         "L",
         180.0,
         "AUT",
         1
        ],
        [
         "R",
         188.0,
         "SRB",
         1
        ],
        [
         "R",
         185.0,
         "SUI",
         1
        ],
        [
         "R",
         190.0,
         "GER",
         1
        ],
        [
         "L",
         175.0,
         "CHI",
         1
        ],
        [
         "R",
         183.0,
         "ROU",
         1
        ],
        [
         "L",
         185.0,
         "ESP",
         1
        ],
        [
         "R",
         190.0,
         "GBR",
         1
        ],
        [
         "R",
         190.0,
         "BRA",
         1
        ]
       ],
       "datasetInfos": [],
       "dbfsResultPath": null,
       "isJsonSchema": true,
       "metadata": {},
       "overflow": false,
       "plotOptions": {
        "customPlotOptions": {},
        "displayType": "table",
        "pivotAggregation": null,
        "pivotColumns": null,
        "xColumns": null,
        "yColumns": null
       },
       "removedWidgets": [],
       "schema": [
        {
         "metadata": "{}",
         "name": "hand",
         "type": "\"string\""
        },
        {
         "metadata": "{}",
         "name": "altura_media",
         "type": "\"double\""
        },
        {
         "metadata": "{}",
         "name": "ioc",
         "type": "\"string\""
        },
        {
         "metadata": "{}",
         "name": "qtde_jogadores",
         "type": "\"long\""
        }
       ],
       "type": "table"
      }
     },
     "output_type": "display_data"
    }
   ],
   "source": [
    "%sql\n",
    "SELECT \n",
    "  p.hand,\n",
    "  ROUND(AVG(p.height), 1) AS altura_media,\n",
    "  p.ioc,\n",
    "  COUNT(DISTINCT r.player) AS qtde_jogadores\n",
    "FROM business.d_ranking r\n",
    "JOIN business.d_players p ON r.player = p.player_id\n",
    "WHERE r.rank = 1\n",
    "GROUP BY p.hand, p.ioc\n",
    "ORDER BY qtde_jogadores DESC;\n"
   ]
  },
  {
   "cell_type": "code",
   "execution_count": 0,
   "metadata": {
    "application/vnd.databricks.v1+cell": {
     "cellMetadata": {
      "byteLimit": 2048000,
      "implicitDf": true,
      "rowLimit": 10000
     },
     "inputWidgets": {},
     "nuid": "f4d10821-fc56-472b-9c66-b0c6f8dad7ef",
     "showTitle": false,
     "tableResultSettingsMap": {},
     "title": ""
    }
   },
   "outputs": [
    {
     "output_type": "display_data",
     "data": {
      "text/html": [
       "<style scoped>\n",
       "  .table-result-container {\n",
       "    max-height: 300px;\n",
       "    overflow: auto;\n",
       "  }\n",
       "  table, th, td {\n",
       "    border: 1px solid black;\n",
       "    border-collapse: collapse;\n",
       "  }\n",
       "  th, td {\n",
       "    padding: 5px;\n",
       "  }\n",
       "  th {\n",
       "    text-align: left;\n",
       "  }\n",
       "</style><div class='table-result-container'><table class='table-result'><thead style='background-color: white'><tr><th>hand</th><th>altura_media</th><th>ioc</th><th>qtde_jogadores</th></tr></thead><tbody><tr><td>R</td><td>184.0</td><td>USA</td><td>19</td></tr><tr><td>R</td><td>185.2</td><td>SWE</td><td>8</td></tr><tr><td>R</td><td>183.0</td><td>ESP</td><td>7</td></tr><tr><td>R</td><td>191.9</td><td>GER</td><td>6</td></tr><tr><td>R</td><td>181.9</td><td>AUS</td><td>5</td></tr><tr><td>R</td><td>190.0</td><td>RUS</td><td>5</td></tr><tr><td>R</td><td>186.4</td><td>ARG</td><td>5</td></tr><tr><td>R</td><td>192.0</td><td>FRA</td><td>4</td></tr><tr><td>L</td><td>179.0</td><td>USA</td><td>3</td></tr><tr><td>R</td><td>195.0</td><td>CZE</td><td>3</td></tr><tr><td>R</td><td>184.7</td><td>SUI</td><td>2</td></tr><tr><td>R</td><td>190.0</td><td>NED</td><td>2</td></tr><tr><td>L</td><td>184.8</td><td>ESP</td><td>2</td></tr><tr><td>R</td><td>189.5</td><td>GBR</td><td>2</td></tr><tr><td>L</td><td>188.8</td><td>FRA</td><td>2</td></tr><tr><td>R</td><td>194.9</td><td>CRO</td><td>2</td></tr><tr><td>L</td><td>180.0</td><td>AUT</td><td>1</td></tr><tr><td>R</td><td>185.0</td><td>AUT</td><td>1</td></tr><tr><td>R</td><td>183.0</td><td>CHI</td><td>1</td></tr><tr><td>R</td><td>188.0</td><td>SRB</td><td>1</td></tr><tr><td>L</td><td>193.0</td><td>ECU</td><td>1</td></tr><tr><td>R</td><td>188.0</td><td>ITA</td><td>1</td></tr><tr><td>R</td><td>190.0</td><td>SVK</td><td>1</td></tr><tr><td>R</td><td>183.0</td><td>NOR</td><td>1</td></tr><tr><td>L</td><td>193.0</td><td>GBR</td><td>1</td></tr><tr><td>R</td><td>196.0</td><td>CAN</td><td>1</td></tr><tr><td>L</td><td>175.0</td><td>CHI</td><td>1</td></tr><tr><td>R</td><td>183.0</td><td>ROU</td><td>1</td></tr><tr><td>L</td><td>173.0</td><td>AUS</td><td>1</td></tr><tr><td>R</td><td>193.0</td><td>GRE</td><td>1</td></tr><tr><td>L</td><td>193.0</td><td>CRO</td><td>1</td></tr><tr><td>R</td><td>188.0</td><td>BUL</td><td>1</td></tr><tr><td>R</td><td>203.0</td><td>RSA</td><td>1</td></tr><tr><td>R</td><td>193.0</td><td>UKR</td><td>1</td></tr><tr><td>R</td><td>190.0</td><td>BRA</td><td>1</td></tr><tr><td>R</td><td>183.0</td><td>MEX</td><td>1</td></tr><tr><td>L</td><td>190.0</td><td>CZE</td><td>1</td></tr><tr><td>R</td><td>185.0</td><td>DEN</td><td>1</td></tr><tr><td>L</td><td>180.0</td><td>ARG</td><td>1</td></tr><tr><td>R</td><td>178.0</td><td>JPN</td><td>1</td></tr></tbody></table></div>"
      ]
     },
     "metadata": {
      "application/vnd.databricks.v1+output": {
       "addedWidgets": {},
       "aggData": [],
       "aggError": "",
       "aggOverflow": false,
       "aggSchema": [],
       "aggSeriesLimitReached": false,
       "aggType": "",
       "arguments": {},
       "columnCustomDisplayInfos": {},
       "data": [
        [
         "R",
         184.0,
         "USA",
         19
        ],
        [
         "R",
         185.2,
         "SWE",
         8
        ],
        [
         "R",
         183.0,
         "ESP",
         7
        ],
        [
         "R",
         191.9,
         "GER",
         6
        ],
        [
         "R",
         181.9,
         "AUS",
         5
        ],
        [
         "R",
         190.0,
         "RUS",
         5
        ],
        [
         "R",
         186.4,
         "ARG",
         5
        ],
        [
         "R",
         192.0,
         "FRA",
         4
        ],
        [
         "L",
         179.0,
         "USA",
         3
        ],
        [
         "R",
         195.0,
         "CZE",
         3
        ],
        [
         "R",
         184.7,
         "SUI",
         2
        ],
        [
         "R",
         190.0,
         "NED",
         2
        ],
        [
         "L",
         184.8,
         "ESP",
         2
        ],
        [
         "R",
         189.5,
         "GBR",
         2
        ],
        [
         "L",
         188.8,
         "FRA",
         2
        ],
        [
         "R",
         194.9,
         "CRO",
         2
        ],
        [
         "L",
         180.0,
         "AUT",
         1
        ],
        [
         "R",
         185.0,
         "AUT",
         1
        ],
        [
         "R",
         183.0,
         "CHI",
         1
        ],
        [
         "R",
         188.0,
         "SRB",
         1
        ],
        [
         "L",
         193.0,
         "ECU",
         1
        ],
        [
         "R",
         188.0,
         "ITA",
         1
        ],
        [
         "R",
         190.0,
         "SVK",
         1
        ],
        [
         "R",
         183.0,
         "NOR",
         1
        ],
        [
         "L",
         193.0,
         "GBR",
         1
        ],
        [
         "R",
         196.0,
         "CAN",
         1
        ],
        [
         "L",
         175.0,
         "CHI",
         1
        ],
        [
         "R",
         183.0,
         "ROU",
         1
        ],
        [
         "L",
         173.0,
         "AUS",
         1
        ],
        [
         "R",
         193.0,
         "GRE",
         1
        ],
        [
         "L",
         193.0,
         "CRO",
         1
        ],
        [
         "R",
         188.0,
         "BUL",
         1
        ],
        [
         "R",
         203.0,
         "RSA",
         1
        ],
        [
         "R",
         193.0,
         "UKR",
         1
        ],
        [
         "R",
         190.0,
         "BRA",
         1
        ],
        [
         "R",
         183.0,
         "MEX",
         1
        ],
        [
         "L",
         190.0,
         "CZE",
         1
        ],
        [
         "R",
         185.0,
         "DEN",
         1
        ],
        [
         "L",
         180.0,
         "ARG",
         1
        ],
        [
         "R",
         178.0,
         "JPN",
         1
        ]
       ],
       "datasetInfos": [],
       "dbfsResultPath": null,
       "isJsonSchema": true,
       "metadata": {},
       "overflow": false,
       "plotOptions": {
        "customPlotOptions": {},
        "displayType": "table",
        "pivotAggregation": null,
        "pivotColumns": null,
        "xColumns": null,
        "yColumns": null
       },
       "removedWidgets": [],
       "schema": [
        {
         "metadata": "{}",
         "name": "hand",
         "type": "\"string\""
        },
        {
         "metadata": "{}",
         "name": "altura_media",
         "type": "\"double\""
        },
        {
         "metadata": "{}",
         "name": "ioc",
         "type": "\"string\""
        },
        {
         "metadata": "{}",
         "name": "qtde_jogadores",
         "type": "\"long\""
        }
       ],
       "type": "table"
      }
     },
     "output_type": "display_data"
    }
   ],
   "source": [
    "%sql\n",
    "SELECT \n",
    "  p.hand,\n",
    "  ROUND(AVG(p.height), 1) AS altura_media,\n",
    "  p.ioc,\n",
    "  COUNT(DISTINCT r.player) AS qtde_jogadores\n",
    "FROM business.d_ranking r\n",
    "JOIN business.d_players p ON r.player = p.player_id\n",
    "WHERE r.rank <= 5\n",
    "GROUP BY p.hand, p.ioc\n",
    "ORDER BY qtde_jogadores DESC;"
   ]
  },
  {
   "cell_type": "markdown",
   "metadata": {
    "application/vnd.databricks.v1+cell": {
     "cellMetadata": {},
     "inputWidgets": {},
     "nuid": "1f49a652-ca02-40da-a1d8-cf0d79f68dc1",
     "showTitle": false,
     "tableResultSettingsMap": {},
     "title": ""
    }
   },
   "source": [
    "## Autoavaliação\n",
    "\n",
    "Durante o desenvolvimento deste trabalho, acredito que consegui alcançar os principais objetivos que foram definidos no início. O foco foi aplicar conceitos de engenharia de dados a um conjunto de dados do esporte tênis, organizando essas informações de forma estruturada e confiável para facilitar análises.\n",
    "\n",
    "Consegui organizar os dados em camadas Raw, Trusted e Business. Consegui implementar uma modelagem dimensional utilizando o Esquema Estrela, o que possibilitou análises mais eficientes por meio de tabelas fato e dimensão. Também produzi um dicionário de dados e desenvolvi consultas SQL complexas que ajudaram a responder as questões levantadas no objetivo.\n",
    "\n",
    "Como foquei na costrução das tabelas utilizando SQL, entre os principais desafios estão: entendimento de subquerys, criação de tabelas a partir das camadas anteriores, tratamento de dados com SQL e toda a nomenclatura em geral da linguagem SQL. Também enfrentei dificuldades técnicas, principalmente no tratamento de dados onde foi dificil passar por todos os campos que precisariam ser tratados de forma pratica.\n",
    "\n",
    "Para os próximos passos, vejo algumas possibilidades. Uma ideia é de expanção seria incluir dados de partidas de duplas do ranking WTP (feminino) e estatísticas mais detalhadas por set ou ponto. Também penso em integrar o projeto com dados externos, como premiações por torneio e informações climáticas, que podem tornar as análises ainda mais ricas.\n",
    "\n",
    "Outra possibilidade interessante é a criação de painéis no Power BI, como já tenho experiencia neste assunto, resolvi não evoluir para esse lado neste trabalho. Além disso, seria legal aplicar algoritmos de machine learning para tentar prever os resultados das partidas com base no histórico dos jogadores.\n",
    "\n",
    "Em resumo, o projeto atingiu as expectativas iniciais e abriu várias oportunidades para aprofundar os conhecimentos em engenharia de dados, além de contribuir para meu portfólio com uma aplicação prática e interessante ligada ao esporte que eu gosto."
   ]
  },
  {
   "cell_type": "markdown",
   "metadata": {
    "application/vnd.databricks.v1+cell": {
     "cellMetadata": {},
     "inputWidgets": {},
     "nuid": "abc06a2b-a61c-4bf3-bf58-9274fed0d2b8",
     "showTitle": false,
     "tableResultSettingsMap": {},
     "title": ""
    }
   },
   "source": []
  }
 ],
 "metadata": {
  "application/vnd.databricks.v1+notebook": {
   "computePreferences": null,
   "dashboards": [],
   "environmentMetadata": {
    "base_environment": "",
    "environment_version": "1"
   },
   "inputWidgetPreferences": null,
   "language": "python",
   "notebookMetadata": {
    "mostRecentlyExecutedCommandWithImplicitDF": {
     "commandId": 2545344607141777,
     "dataframes": [
      "_sqldf"
     ]
    },
    "pythonIndentUnit": 4
   },
   "notebookName": "proj_MVP",
   "widgets": {}
  }
 },
 "nbformat": 4,
 "nbformat_minor": 0
}